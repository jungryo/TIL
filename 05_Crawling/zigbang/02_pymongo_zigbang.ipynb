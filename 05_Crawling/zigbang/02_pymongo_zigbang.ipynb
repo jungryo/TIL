{
 "cells": [
  {
   "cell_type": "markdown",
   "metadata": {},
   "source": [
    "#### zigbang 매물 데이터 저장\n",
    "- pip install -y geohash2"
   ]
  },
  {
   "cell_type": "code",
   "execution_count": 2,
   "metadata": {},
   "outputs": [],
   "source": [
    "import pymongo\n",
    "import zigbang as zb\n",
    "import pandas as pd"
   ]
  },
  {
   "cell_type": "code",
   "execution_count": 3,
   "metadata": {},
   "outputs": [],
   "source": [
    "datas = zb.oneroom(\"마포구 합정동\")"
   ]
  },
  {
   "cell_type": "code",
   "execution_count": 4,
   "metadata": {},
   "outputs": [
    {
     "data": {
      "text/html": [
       "<div>\n",
       "<style scoped>\n",
       "    .dataframe tbody tr th:only-of-type {\n",
       "        vertical-align: middle;\n",
       "    }\n",
       "\n",
       "    .dataframe tbody tr th {\n",
       "        vertical-align: top;\n",
       "    }\n",
       "\n",
       "    .dataframe thead th {\n",
       "        text-align: right;\n",
       "    }\n",
       "</style>\n",
       "<table border=\"1\" class=\"dataframe\">\n",
       "  <thead>\n",
       "    <tr style=\"text-align: right;\">\n",
       "      <th></th>\n",
       "      <th>section_type</th>\n",
       "      <th>item_id</th>\n",
       "      <th>images_thumbnail</th>\n",
       "      <th>sales_type</th>\n",
       "      <th>sales_title</th>\n",
       "      <th>deposit</th>\n",
       "      <th>rent</th>\n",
       "      <th>size_m2</th>\n",
       "      <th>공급면적</th>\n",
       "      <th>전용면적</th>\n",
       "      <th>...</th>\n",
       "      <th>is_zzim</th>\n",
       "      <th>status</th>\n",
       "      <th>service_type</th>\n",
       "      <th>tags</th>\n",
       "      <th>address1</th>\n",
       "      <th>address2</th>\n",
       "      <th>address3</th>\n",
       "      <th>manage_cost</th>\n",
       "      <th>reg_date</th>\n",
       "      <th>is_new</th>\n",
       "    </tr>\n",
       "  </thead>\n",
       "  <tbody>\n",
       "    <tr>\n",
       "      <th>0</th>\n",
       "      <td>None</td>\n",
       "      <td>24371037</td>\n",
       "      <td>https://ic.zigbang.com/ic/items/24371037/1.jpg</td>\n",
       "      <td>월세</td>\n",
       "      <td>월세</td>\n",
       "      <td>2000</td>\n",
       "      <td>70</td>\n",
       "      <td>46.28</td>\n",
       "      <td>{'m2': 46.28, 'p': '14'}</td>\n",
       "      <td>{'m2': 44.63, 'p': '13.5'}</td>\n",
       "      <td>...</td>\n",
       "      <td>False</td>\n",
       "      <td>True</td>\n",
       "      <td>빌라</td>\n",
       "      <td>[]</td>\n",
       "      <td>서울시 마포구 합정동</td>\n",
       "      <td>None</td>\n",
       "      <td>None</td>\n",
       "      <td>0</td>\n",
       "      <td>2020-10-16T16:05:33+09:00</td>\n",
       "      <td>False</td>\n",
       "    </tr>\n",
       "    <tr>\n",
       "      <th>1</th>\n",
       "      <td>None</td>\n",
       "      <td>24019996</td>\n",
       "      <td>https://ic.zigbang.com/ic/items/24019996/1.jpg</td>\n",
       "      <td>전세</td>\n",
       "      <td>전세</td>\n",
       "      <td>18000</td>\n",
       "      <td>0</td>\n",
       "      <td>71.11</td>\n",
       "      <td>{'m2': 71.11, 'p': '21.5'}</td>\n",
       "      <td>{'m2': 68.81, 'p': '20.8'}</td>\n",
       "      <td>...</td>\n",
       "      <td>False</td>\n",
       "      <td>True</td>\n",
       "      <td>빌라</td>\n",
       "      <td>[]</td>\n",
       "      <td>서울시 마포구 합정동</td>\n",
       "      <td>None</td>\n",
       "      <td>None</td>\n",
       "      <td>1.5</td>\n",
       "      <td>2020-10-19T14:27:54+09:00</td>\n",
       "      <td>False</td>\n",
       "    </tr>\n",
       "  </tbody>\n",
       "</table>\n",
       "<p>2 rows × 30 columns</p>\n",
       "</div>"
      ],
      "text/plain": [
       "  section_type   item_id                                images_thumbnail  \\\n",
       "0         None  24371037  https://ic.zigbang.com/ic/items/24371037/1.jpg   \n",
       "1         None  24019996  https://ic.zigbang.com/ic/items/24019996/1.jpg   \n",
       "\n",
       "  sales_type sales_title  deposit  rent  size_m2                        공급면적  \\\n",
       "0         월세          월세     2000    70    46.28    {'m2': 46.28, 'p': '14'}   \n",
       "1         전세          전세    18000     0    71.11  {'m2': 71.11, 'p': '21.5'}   \n",
       "\n",
       "                         전용면적  ... is_zzim status service_type tags  \\\n",
       "0  {'m2': 44.63, 'p': '13.5'}  ...   False   True           빌라   []   \n",
       "1  {'m2': 68.81, 'p': '20.8'}  ...   False   True           빌라   []   \n",
       "\n",
       "      address1 address2 address3 manage_cost                   reg_date is_new  \n",
       "0  서울시 마포구 합정동     None     None           0  2020-10-16T16:05:33+09:00  False  \n",
       "1  서울시 마포구 합정동     None     None         1.5  2020-10-19T14:27:54+09:00  False  \n",
       "\n",
       "[2 rows x 30 columns]"
      ]
     },
     "execution_count": 4,
     "metadata": {},
     "output_type": "execute_result"
    }
   ],
   "source": [
    "df = pd.DataFrame(datas)\n",
    "df.head(2)"
   ]
  },
  {
   "cell_type": "code",
   "execution_count": 5,
   "metadata": {},
   "outputs": [],
   "source": [
    "# server 연결\n",
    "server = pymongo.MongoClient('mongodb://52.78.52.151:27017/')\n",
    "db = server.zigbang"
   ]
  },
  {
   "cell_type": "code",
   "execution_count": 6,
   "metadata": {},
   "outputs": [],
   "source": [
    "addrs = {\n",
    "    \"mongwon\": \"마포구 망원동\",\n",
    "    \"hapjung\": \"마포구 합정동\",\n",
    "}"
   ]
  },
  {
   "cell_type": "code",
   "execution_count": 13,
   "metadata": {},
   "outputs": [],
   "source": [
    "# 데이터 수집 후 저장\n",
    "for collection_name, addr in addrs.items():\n",
    "    collection = db[collection_name]\n",
    "    datas = zb.oneroom(addr)\n",
    "    collection.insert_many(datas) \n",
    "    # ids = collection.insert(datas) # pymongo version update (insert -> insert_many)\n",
    "    # print(collection_name, addr, len(ids))"
   ]
  },
  {
   "cell_type": "code",
   "execution_count": 14,
   "metadata": {},
   "outputs": [
    {
     "data": {
      "text/html": [
       "<div>\n",
       "<style scoped>\n",
       "    .dataframe tbody tr th:only-of-type {\n",
       "        vertical-align: middle;\n",
       "    }\n",
       "\n",
       "    .dataframe tbody tr th {\n",
       "        vertical-align: top;\n",
       "    }\n",
       "\n",
       "    .dataframe thead th {\n",
       "        text-align: right;\n",
       "    }\n",
       "</style>\n",
       "<table border=\"1\" class=\"dataframe\">\n",
       "  <thead>\n",
       "    <tr style=\"text-align: right;\">\n",
       "      <th></th>\n",
       "      <th>title</th>\n",
       "      <th>service_type</th>\n",
       "      <th>sales_type</th>\n",
       "      <th>deposit</th>\n",
       "      <th>rent</th>\n",
       "      <th>size_m2</th>\n",
       "      <th>floor</th>\n",
       "      <th>building_floor</th>\n",
       "      <th>address1</th>\n",
       "      <th>manage_cost</th>\n",
       "      <th>is_new</th>\n",
       "    </tr>\n",
       "  </thead>\n",
       "  <tbody>\n",
       "    <tr>\n",
       "      <th>7</th>\n",
       "      <td>망원역5분//망원시장옆//큰방</td>\n",
       "      <td>원룸</td>\n",
       "      <td>월세</td>\n",
       "      <td>1000</td>\n",
       "      <td>40</td>\n",
       "      <td>19.83</td>\n",
       "      <td>2</td>\n",
       "      <td>4</td>\n",
       "      <td>서울시 마포구 망원동</td>\n",
       "      <td>3</td>\n",
       "      <td>False</td>\n",
       "    </tr>\n",
       "    <tr>\n",
       "      <th>8</th>\n",
       "      <td>🧡💛망원역 도보5분거리 정말 저렴하고 넓은 방!🧡💛</td>\n",
       "      <td>원룸</td>\n",
       "      <td>월세</td>\n",
       "      <td>1000</td>\n",
       "      <td>40</td>\n",
       "      <td>23.14</td>\n",
       "      <td>2</td>\n",
       "      <td>3</td>\n",
       "      <td>서울시 마포구 망원동</td>\n",
       "      <td>3</td>\n",
       "      <td>True</td>\n",
       "    </tr>\n",
       "    <tr>\n",
       "      <th>9</th>\n",
       "      <td>✔⛧채광좋은 풀옵션원룸 내부깔끔⛧✔</td>\n",
       "      <td>원룸</td>\n",
       "      <td>월세</td>\n",
       "      <td>3000</td>\n",
       "      <td>40</td>\n",
       "      <td>23.14</td>\n",
       "      <td>3</td>\n",
       "      <td>4</td>\n",
       "      <td>서울시 마포구 망원동</td>\n",
       "      <td>5</td>\n",
       "      <td>False</td>\n",
       "    </tr>\n",
       "    <tr>\n",
       "      <th>10</th>\n",
       "      <td>✔⭐리모델링 첫입주 투룸✔망원시장 인근✔채광 좋아요♻⭐</td>\n",
       "      <td>빌라</td>\n",
       "      <td>월세</td>\n",
       "      <td>1000</td>\n",
       "      <td>50</td>\n",
       "      <td>42.98</td>\n",
       "      <td>반지하</td>\n",
       "      <td>2</td>\n",
       "      <td>서울시 마포구 망원동</td>\n",
       "      <td>1</td>\n",
       "      <td>True</td>\n",
       "    </tr>\n",
       "    <tr>\n",
       "      <th>11</th>\n",
       "      <td>⭐⭐베란다 있는 원룸⭐주택가 조용⭐마포구청역3분⭐⭐</td>\n",
       "      <td>원룸</td>\n",
       "      <td>월세</td>\n",
       "      <td>1000</td>\n",
       "      <td>40</td>\n",
       "      <td>19.83</td>\n",
       "      <td>5</td>\n",
       "      <td>6</td>\n",
       "      <td>서울시 마포구 망원동</td>\n",
       "      <td>3</td>\n",
       "      <td>False</td>\n",
       "    </tr>\n",
       "  </tbody>\n",
       "</table>\n",
       "</div>"
      ],
      "text/plain": [
       "                             title service_type sales_type  deposit  rent  \\\n",
       "7                 망원역5분//망원시장옆//큰방           원룸         월세     1000    40   \n",
       "8     🧡💛망원역 도보5분거리 정말 저렴하고 넓은 방!🧡💛           원룸         월세     1000    40   \n",
       "9              ✔⛧채광좋은 풀옵션원룸 내부깔끔⛧✔           원룸         월세     3000    40   \n",
       "10  ✔⭐리모델링 첫입주 투룸✔망원시장 인근✔채광 좋아요♻⭐           빌라         월세     1000    50   \n",
       "11    ⭐⭐베란다 있는 원룸⭐주택가 조용⭐마포구청역3분⭐⭐           원룸         월세     1000    40   \n",
       "\n",
       "    size_m2 floor building_floor     address1 manage_cost  is_new  \n",
       "7     19.83     2              4  서울시 마포구 망원동           3   False  \n",
       "8     23.14     2              3  서울시 마포구 망원동           3    True  \n",
       "9     23.14     3              4  서울시 마포구 망원동           5   False  \n",
       "10    42.98   반지하              2  서울시 마포구 망원동           1    True  \n",
       "11    19.83     5              6  서울시 마포구 망원동           3   False  "
      ]
     },
     "execution_count": 14,
     "metadata": {},
     "output_type": "execute_result"
    }
   ],
   "source": [
    "# 망원동에서 월세 50이하 보증금 1000에서 3000조건으로 검색\n",
    "QUERY = {\"rent\": {\"$lte\": 50}, \"deposit\": {\"$lte\": 3000, \"$gte\": 1000}}\n",
    "results = db[\"mongwon\"].find(QUERY)\n",
    "df = pd.DataFrame(results).tail()\n",
    "columns = [\"title\", \"service_type\", \"sales_type\", \"deposit\", \"rent\", \"size_m2\", \"floor\", \"building_floor\", \"address1\", \"manage_cost\", \"is_new\"]\n",
    "df[columns]"
   ]
  },
  {
   "cell_type": "code",
   "execution_count": 15,
   "metadata": {},
   "outputs": [
    {
     "name": "stdout",
     "output_type": "stream",
     "text": [
      "mongwon\n",
      "hapjung\n"
     ]
    }
   ],
   "source": [
    "# 컬렉션 삭제\n",
    "for addr in addrs:\n",
    "    print(addr)\n",
    "    server.zigbang.drop_collection(addr)"
   ]
  },
  {
   "cell_type": "code",
   "execution_count": 16,
   "metadata": {},
   "outputs": [],
   "source": [
    "# 데이터 베이스 삭제\n",
    "server.drop_database(\"zigbang\")"
   ]
  }
 ],
 "metadata": {
  "kernelspec": {
   "display_name": "Python 3",
   "language": "python",
   "name": "python3"
  },
  "language_info": {
   "codemirror_mode": {
    "name": "ipython",
    "version": 3
   },
   "file_extension": ".py",
   "mimetype": "text/x-python",
   "name": "python",
   "nbconvert_exporter": "python",
   "pygments_lexer": "ipython3",
   "version": "3.6.9"
  }
 },
 "nbformat": 4,
 "nbformat_minor": 2
}
