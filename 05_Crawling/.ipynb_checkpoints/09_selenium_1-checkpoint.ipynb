{
 "cells": [
  {
   "cell_type": "markdown",
   "metadata": {},
   "source": [
    "### Selenium\n",
    "- 브라우저를 직접 실행하여 자동화하고 브라우져상에 있는 데이터를 수집\n",
    "- 웹 테스트 자동화를 위해서 만들어진 라이브러리\n",
    "- 다양한 브라우저 지원\n",
    "- 다양한 언어를 지원"
   ]
  },
  {
   "cell_type": "markdown",
   "metadata": {},
   "source": [
    "#### 설정\n",
    "- selenium chrome driver 설정\n",
    "    - chrome driver download\n",
    "    - 본인 컴퓨터에 맞는 드라이버 버전으로 다운로드 \n",
    "    - 사용중인 주피터 노트북과 같은 디렉토리에 크롬 드라이버 파일 업로드\n",
    "    - mac\n",
    "        - chromedriver 파일 /usr/local/bin 디렉토리로 복사\n",
    "        - `sudo cp ~/Downloads/chromedriver usr/local/bin`\n",
    "\n",
    "- selenium python package 설치\n",
    "    - sudo pip install selenium\n",
    "    - conda install <- conda-forge selenium "
   ]
  },
  {
   "cell_type": "code",
   "execution_count": 2,
   "metadata": {},
   "outputs": [],
   "source": [
    "from selenium import webdriver"
   ]
  },
  {
   "cell_type": "code",
   "execution_count": 46,
   "metadata": {},
   "outputs": [],
   "source": [
    "# driver 객체가  webdriver.Chrome()를 통해서 웹브라우저와 연결됨\n",
    "# driver 안의 함수를 쓰면 크롬 브라우저를 컨트롤할 수 있음\n",
    "driver = webdriver.Chrome()"
   ]
  },
  {
   "cell_type": "code",
   "execution_count": 48,
   "metadata": {},
   "outputs": [],
   "source": [
    "# 페이지 이동 : get\n",
    "driver.get(\"https://daum.net\")"
   ]
  },
  {
   "cell_type": "code",
   "execution_count": 19,
   "metadata": {},
   "outputs": [],
   "source": [
    "# 윈도우 사이즈 조절 \n",
    "# 윈도우에 포함되지 않은 클릭이벤트는 사용 불가\n",
    "driver.set_window_size(600,800)"
   ]
  },
  {
   "cell_type": "code",
   "execution_count": 20,
   "metadata": {},
   "outputs": [],
   "source": [
    "# 스크롤 위치 조절\n",
    "# 드라이버에는 스크롤 위치 조절 함수가 없어서 문자열로 작성하는 JavaScript함수를 스크롤 위치 조절할 때 사용\n",
    "driver.execute_script(\"window.scrollTo(200,900);\")"
   ]
  },
  {
   "cell_type": "code",
   "execution_count": 21,
   "metadata": {},
   "outputs": [],
   "source": [
    "# alert 다루기\n",
    "driver.execute_script(\"alert('FastCampus!!');\")"
   ]
  },
  {
   "cell_type": "code",
   "execution_count": 22,
   "metadata": {},
   "outputs": [],
   "source": [
    "alert = driver.switch_to.alert\n",
    "alert.accept()"
   ]
  },
  {
   "cell_type": "code",
   "execution_count": 23,
   "metadata": {},
   "outputs": [],
   "source": [
    "# input 태그에 문자열 입력\n",
    "# select_one : find_element_by_css_selector\n",
    "# select : find_elements_by_css_selector\n",
    "\n",
    "driver.find_element_by_css_selector('#q').send_keys(\"파이썬\")"
   ]
  },
  {
   "cell_type": "code",
   "execution_count": 59,
   "metadata": {},
   "outputs": [],
   "source": [
    "driver.find_element_by_css_selector('#q').clear()\n",
    "driver.find_element_by_css_selector('#q').send_keys(\"딥러닝\")"
   ]
  },
  {
   "cell_type": "code",
   "execution_count": 60,
   "metadata": {
    "scrolled": true
   },
   "outputs": [],
   "source": [
    "# button 클릭\n",
    "driver.find_element_by_css_selector(\".inner_search > .btn_search\").click()"
   ]
  },
  {
   "cell_type": "code",
   "execution_count": 84,
   "metadata": {},
   "outputs": [],
   "source": [
    "# 브라우저 종료\n",
    "driver.quit()"
   ]
  },
  {
   "cell_type": "markdown",
   "metadata": {},
   "source": [
    "#### Darksky api 키 재발급 자동화\n",
    "- http://darksky.net/dev"
   ]
  },
  {
   "cell_type": "code",
   "execution_count": 85,
   "metadata": {},
   "outputs": [],
   "source": [
    "# 브라우져 열기\n",
    "driver = webdriver.Chrome()"
   ]
  },
  {
   "cell_type": "code",
   "execution_count": 93,
   "metadata": {},
   "outputs": [],
   "source": [
    "# 로그인 페이지 이동\n",
    "driver.get(\"https://home.openweathermap.org/users/sign_in\")"
   ]
  },
  {
   "cell_type": "code",
   "execution_count": 87,
   "metadata": {},
   "outputs": [],
   "source": [
    "# 이메일, 패스워드 입력\n",
    "email = \"itsryo@gmail.com\"\n",
    "pw = \"fudn191110\"\n",
    "driver.find_element_by_css_selector(\"#user_email\").send_keys(email)\n",
    "driver.find_element_by_css_selector(\"#user_password\").send_keys(pw)"
   ]
  },
  {
   "cell_type": "code",
   "execution_count": 89,
   "metadata": {},
   "outputs": [],
   "source": [
    "# 로그인 버튼 클릭'\n",
    "driver.find_element_by_css_selector('[name=\"commit\"]').click()"
   ]
  },
  {
   "cell_type": "code",
   "execution_count": 94,
   "metadata": {},
   "outputs": [],
   "source": [
    "# API Keys 버튼 클릭\n",
    "driver.find_element_by_css_selector('[href=\"/api_keys\"]').click()"
   ]
  },
  {
   "cell_type": "code",
   "execution_count": null,
   "metadata": {},
   "outputs": [],
   "source": []
  },
  {
   "cell_type": "code",
   "execution_count": 95,
   "metadata": {},
   "outputs": [
    {
     "ename": "AttributeError",
     "evalue": "'function' object has no attribute 'accept'",
     "output_type": "error",
     "traceback": [
      "\u001b[0;31m---------------------------------------------------------------------------\u001b[0m",
      "\u001b[0;31mAttributeError\u001b[0m                            Traceback (most recent call last)",
      "\u001b[0;32m<ipython-input-95-7bd5c488dc9f>\u001b[0m in \u001b[0;36m<module>\u001b[0;34m\u001b[0m\n\u001b[1;32m      3\u001b[0m \u001b[0;34m\u001b[0m\u001b[0m\n\u001b[1;32m      4\u001b[0m \u001b[0malert\u001b[0m \u001b[0;34m=\u001b[0m \u001b[0mdriver\u001b[0m\u001b[0;34m.\u001b[0m\u001b[0mswitch_to_alert\u001b[0m\u001b[0;34m\u001b[0m\u001b[0;34m\u001b[0m\u001b[0m\n\u001b[0;32m----> 5\u001b[0;31m \u001b[0malert\u001b[0m\u001b[0;34m.\u001b[0m\u001b[0maccept\u001b[0m\u001b[0;34m(\u001b[0m\u001b[0;34m)\u001b[0m\u001b[0;34m\u001b[0m\u001b[0;34m\u001b[0m\u001b[0m\n\u001b[0m",
      "\u001b[0;31mAttributeError\u001b[0m: 'function' object has no attribute 'accept'"
     ]
    }
   ],
   "source": [
    "# alert 확인버튼 클릭\n",
    "# 오픈웨더 사이트에는 경고창이 뜨지 않으므로 타이핑만 따라했음\n",
    "\n",
    "alert = driver.switch_to_alert\n",
    "alert.accept()"
   ]
  },
  {
   "cell_type": "code",
   "execution_count": 100,
   "metadata": {},
   "outputs": [
    {
     "data": {
      "text/plain": [
       "'06594ce8b2fea721c7191a888a22f1d6'"
      ]
     },
     "execution_count": 100,
     "metadata": {},
     "output_type": "execute_result"
    }
   ],
   "source": [
    "# 바뀐 키값 출력\n",
    "s_key= driver.find_element_by_css_selector(\".api-keys > tbody >  tr > td:nth-child(1) \").text\n",
    "\n",
    "s_key"
   ]
  },
  {
   "cell_type": "code",
   "execution_count": 104,
   "metadata": {},
   "outputs": [],
   "source": [
    "# 브라우져 종료\n",
    "driver.quit()"
   ]
  },
  {
   "cell_type": "code",
   "execution_count": 101,
   "metadata": {},
   "outputs": [],
   "source": [
    "def get_key(email, pw):\n",
    "    driver = webdriver.Chrome()\n",
    "    driver.get(\"https://home.openweathermap.org/users/sign_in\")\n",
    "    driver.find_element_by_css_selector(\"#user_email\").send_keys(email)\n",
    "    driver.find_element_by_css_selector(\"#user_password\").send_keys(pw)\n",
    "    driver.find_element_by_css_selector('[name=\"commit\"]').click()\n",
    "    driver.find_element_by_css_selector('[href=\"/api_keys\"]').click()\n",
    "    s_key= driver.find_element_by_css_selector(\".api-keys > tbody >  tr > td:nth-child(1) \").text\n",
    "    driver.quit()\n",
    "    return s_key "
   ]
  },
  {
   "cell_type": "code",
   "execution_count": 105,
   "metadata": {},
   "outputs": [
    {
     "data": {
      "text/plain": [
       "'06594ce8b2fea721c7191a888a22f1d6'"
      ]
     },
     "execution_count": 105,
     "metadata": {},
     "output_type": "execute_result"
    }
   ],
   "source": [
    "email = \"itsryo@gmail.com\"\n",
    "pw = \"fudn191110\"\n",
    "get_key(email, pw)"
   ]
  },
  {
   "cell_type": "code",
   "execution_count": null,
   "metadata": {},
   "outputs": [],
   "source": []
  }
 ],
 "metadata": {
  "kernelspec": {
   "display_name": "Python 3",
   "language": "python",
   "name": "python3"
  },
  "language_info": {
   "codemirror_mode": {
    "name": "ipython",
    "version": 3
   },
   "file_extension": ".py",
   "mimetype": "text/x-python",
   "name": "python",
   "nbconvert_exporter": "python",
   "pygments_lexer": "ipython3",
   "version": "3.8.3"
  }
 },
 "nbformat": 4,
 "nbformat_minor": 4
}
