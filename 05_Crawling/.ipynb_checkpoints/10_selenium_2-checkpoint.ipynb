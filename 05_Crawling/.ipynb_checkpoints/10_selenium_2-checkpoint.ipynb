{
 "cells": [
  {
   "cell_type": "markdown",
   "metadata": {},
   "source": [
    "#### 네이버 기사 제목 데이터 크롤링\n",
    "- selenium을 이용한 텍스트 데이터 수집\n",
    "- thread를 사용한 데이터 수집"
   ]
  },
  {
   "cell_type": "code",
   "execution_count": 6,
   "metadata": {},
   "outputs": [],
   "source": [
    "from selenium import webdriver"
   ]
  },
  {
   "cell_type": "code",
   "execution_count": 7,
   "metadata": {},
   "outputs": [],
   "source": [
    "page = 2\n",
    "\n",
    "url = 'https://news.naver.com/main/main.nhn?mode=LSD&mid=shm&sid1=105#&date=%2000:00:00&page={}'.format(\n",
    "    page)"
   ]
  },
  {
   "cell_type": "code",
   "execution_count": 8,
   "metadata": {},
   "outputs": [],
   "source": [
    "driver.get(url)"
   ]
  },
  {
   "cell_type": "code",
   "execution_count": 9,
   "metadata": {},
   "outputs": [
    {
     "data": {
      "text/plain": [
       "20"
      ]
     },
     "execution_count": 9,
     "metadata": {},
     "output_type": "execute_result"
    }
   ],
   "source": [
    "articles = driver.find_elements_by_css_selector(\"#section_body li\")\n",
    "len(articles)"
   ]
  },
  {
   "cell_type": "code",
   "execution_count": 11,
   "metadata": {},
   "outputs": [
    {
     "data": {
      "text/plain": [
       "\"공정위, 상품정보제공 고시에서 '확률형 아이템' 제외\""
      ]
     },
     "execution_count": 11,
     "metadata": {},
     "output_type": "execute_result"
    }
   ],
   "source": [
    "articles[0].find_element_by_css_selector(\"dt:not(.photo) > a\").text"
   ]
  },
  {
   "cell_type": "code",
   "execution_count": 14,
   "metadata": {},
   "outputs": [],
   "source": [
    "driver.quit()"
   ]
  },
  {
   "cell_type": "code",
   "execution_count": 12,
   "metadata": {},
   "outputs": [],
   "source": [
    "article_list = []\n",
    "for article in articles:\n",
    "    title = article.find_element_by_css_selector(\"dt:not(.photo) > a\").text\n",
    "    article_list.append(title)"
   ]
  },
  {
   "cell_type": "code",
   "execution_count": 13,
   "metadata": {},
   "outputs": [
    {
     "data": {
      "text/plain": [
       "[\"공정위, 상품정보제공 고시에서 '확률형 아이템' 제외\",\n",
       " '[이슈분석]특금법 시행까지 5개월…암호화폐거래소 리스크는 현재진행형',\n",
       " '[취재수첩] 서울시 공공와이파이 논란, 강행보다 대화가 먼저',\n",
       " '이석희 SK하이닉스 사장 \"인텔 낸드 인수가격 \\'적정\\'... 무형자산 봐야\"',\n",
       " '이석희 SK하이닉스 사장 “90억달러 인텔 낸드 인수 안 비싸”',\n",
       " '\"독감주사 믿고 맞아달라\" 박능후 이어 정은경 질병청장도 백신 접종',\n",
       " \"퀄컴, 7.8Gbps 무선 통신 지원 '홈 플랫폼' 공개\",\n",
       " '장대환 회장 이어 아들까지 대표직 사임…벼랑끝 MBN, 30일 결론 날까',\n",
       " '[아이템뷰]스타벅스x스탠리…눈을 홀리는 비싼 보온병',\n",
       " '반도체 업계 또 대형 M&A…마벌, 11조원에 인파이 인수 임박',\n",
       " '한미약품 공시 지연 손배소송 4년만에 결과 나온다... 법원 \"내달 19일 판결\"',\n",
       " '`뚫리면 안돼` 모바일 보안 강화 나서는 핀테크 업계',\n",
       " '넷플릭스가 망이용대가 내면 콘텐츠 비용 오를까요?',\n",
       " 'LGU+, ETRI와 손잡고 5G 보안강화 나선다',\n",
       " 'GC녹십자엠에스, 코로나 항원진단키트 수출 허가… \"세계 최초 나노반도체 활용\"',\n",
       " '방통위 행정처분 직전…MBN 대국민 사과',\n",
       " \"SKB, '차세대 국가융합망' 따냈다…양자암호통신 '쾌거'\",\n",
       " '넥슨, ‘또’ 통 큰 결정…어린이완화의료센터 건립에 100억 기부',\n",
       " '애플 잡은 베트남 스마트폰의 비결은 국내 스타트업 기술',\n",
       " '3Q 희비 갈린 삼성D·LGD, 4Q에는 모두 웃을 듯']"
      ]
     },
     "execution_count": 13,
     "metadata": {},
     "output_type": "execute_result"
    }
   ],
   "source": [
    "article_list"
   ]
  },
  {
   "cell_type": "code",
   "execution_count": 30,
   "metadata": {},
   "outputs": [],
   "source": [
    "article_list = []\n",
    "# 함수로 만들기\n",
    "def get_articles(page):\n",
    "    driver = webdriver.Chrome()\n",
    "    url = 'https://news.naver.com/main/main.nhn?mode=LSD&mid=shm&sid1=105#&date=%2000:00:00&page={}'.format(\n",
    "        page)\n",
    "    driver.get(url)\n",
    "    articles = driver.find_elements_by_css_selector(\"#section_body li\")\n",
    "    for article in articles:\n",
    "        title = article.find_element_by_css_selector(\"dt:not(.photo) > a\").text\n",
    "        article_list.append(title)\n",
    "    print(\"Crawling: {}\".format(page))\n",
    "    driver.quit()"
   ]
  },
  {
   "cell_type": "code",
   "execution_count": 21,
   "metadata": {},
   "outputs": [
    {
     "name": "stdout",
     "output_type": "stream",
     "text": [
      "Crawling: 2\n"
     ]
    }
   ],
   "source": [
    "get_articles(2)"
   ]
  },
  {
   "cell_type": "code",
   "execution_count": 31,
   "metadata": {},
   "outputs": [
    {
     "name": "stdout",
     "output_type": "stream",
     "text": [
      "Crawling: 1\n",
      "Crawling: 2\n",
      "Crawling: 3\n",
      "Crawling: 4\n",
      "CPU times: user 173 ms, sys: 54.4 ms, total: 227 ms\n",
      "Wall time: 13.1 s\n"
     ]
    }
   ],
   "source": [
    "%%time\n",
    "for page in range(1, 5):\n",
    "    get_articles(page)"
   ]
  },
  {
   "cell_type": "code",
   "execution_count": 32,
   "metadata": {},
   "outputs": [
    {
     "data": {
      "text/plain": [
       "80"
      ]
     },
     "execution_count": 32,
     "metadata": {},
     "output_type": "execute_result"
    }
   ],
   "source": [
    "len(article_list)"
   ]
  },
  {
   "cell_type": "markdown",
   "metadata": {},
   "source": [
    "#### thread 사용"
   ]
  },
  {
   "cell_type": "code",
   "execution_count": 36,
   "metadata": {},
   "outputs": [],
   "source": [
    "import threading"
   ]
  },
  {
   "cell_type": "code",
   "execution_count": 37,
   "metadata": {},
   "outputs": [],
   "source": [
    "article_list=[]\n",
    "\n",
    "for page in range(1, 5):\n",
    "    th = threading.Thread(target=get_articles, args = (page,))\n",
    "    th.start()"
   ]
  },
  {
   "cell_type": "code",
   "execution_count": 38,
   "metadata": {},
   "outputs": [
    {
     "name": "stdout",
     "output_type": "stream",
     "text": [
      "1 2 3 4 Crawling: 2\n",
      "Crawling: 1\n",
      "5 Crawling: 4\n",
      "Crawling: 3\n",
      "6 "
     ]
    }
   ],
   "source": [
    "import time\n",
    "sec = 0 \n",
    "while len(article_list) < 80 :\n",
    "    time.sleep(1)\n",
    "    sec +=1\n",
    "    print(sec, end = \" \")"
   ]
  },
  {
   "cell_type": "code",
   "execution_count": null,
   "metadata": {},
   "outputs": [],
   "source": []
  }
 ],
 "metadata": {
  "kernelspec": {
   "display_name": "Python 3",
   "language": "python",
   "name": "python3"
  },
  "language_info": {
   "codemirror_mode": {
    "name": "ipython",
    "version": 3
   },
   "file_extension": ".py",
   "mimetype": "text/x-python",
   "name": "python",
   "nbconvert_exporter": "python",
   "pygments_lexer": "ipython3",
   "version": "3.8.3"
  }
 },
 "nbformat": 4,
 "nbformat_minor": 4
}
