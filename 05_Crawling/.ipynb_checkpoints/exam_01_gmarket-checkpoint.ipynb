{
 "cells": [
  {
   "cell_type": "markdown",
   "metadata": {},
   "source": [
    "### Gmarket 베스트 상품 200개 크롤링\n",
    "- 상품명, 원가, 판매가\n",
    "- 썸네일 이미지 "
   ]
  },
  {
   "cell_type": "code",
   "execution_count": 2,
   "metadata": {},
   "outputs": [],
   "source": [
    "response = requests.get(\"http://corners.gmarket.co.kr/Bestsellers\")\n",
    "dom = BeautifulSoup(response.content, \"html.parser\")"
   ]
  },
  {
   "cell_type": "code",
   "execution_count": 13,
   "metadata": {},
   "outputs": [
    {
     "data": {
      "text/plain": [
       "<li class=\"first\">\n",
       "<p class=\"no1\" id=\"no1\">1</p>\n",
       "<div class=\"thumb\">\n",
       "<a href=\"http://item.gmarket.co.kr/Item?goodscode=1617264481&amp;ver=637395066964039014\" onclick=\"pdsClickLog('200000680', 'Item', {'ASN': 1, 'goodsCode': '1617264481'});\"><img alt=\"경성명과 1+1 수제 (롤케익+ 파운드케익)\" class=\"lazy\" data-original=\"http://gdimg.gmarket.co.kr/1617264481/still/300\" height=\"210\" src=\"http://image.gmarket.co.kr/challenge/neo_image/no_image.gif\" width=\"210\"/></a>\n",
       "</div>\n",
       "<!--div class=\"goods-view\">\n",
       "\t\t\t\t\t\t\t\t\t<a href=\"http://minishop.gmarket.co.kr/KSbakery\"><span class=\"view\">판매자 다른상품 보기</span>경성명과</a>\n",
       "\t\t\t\t\t\t\t\t</div-->\n",
       "<a class=\"itemname\" href=\"http://item.gmarket.co.kr/Item?goodscode=1617264481&amp;ver=637395066964039014\" onclick=\"pdsClickLog('200000680', 'Item', {'ASN': 1, 'goodsCode': '1617264481'});\">경성명과 1+1 수제 (롤케익+ 파운드케익)</a>\n",
       "<div class=\"item_price\">\n",
       "<div class=\"o-price\"><span><span>32,000원</span></span></div>\n",
       "<div class=\"s-price\">\n",
       "<strong><span><span>9,900원</span></span></strong>\n",
       "<span><span class=\"sale\"></span><em>69%</em></span>\n",
       "</div>\n",
       "<div class=\"icon\">\n",
       "<img alt=\"무료배송\" src=\"http://pics.gmkt.kr/pc/ko/corner/gbest/ic_freeshipping.gif\"/>\n",
       "</div>\n",
       "</div>\n",
       "</li>"
      ]
     },
     "execution_count": 13,
     "metadata": {},
     "output_type": "execute_result"
    }
   ],
   "source": [
    "selector = \"#gBestWrap > div > div:nth-child(5) > div:nth-child(3) > ul >li \"\n",
    "elements = dom.select(selector)\n",
    "elements[0]"
   ]
  },
  {
   "cell_type": "code",
   "execution_count": 19,
   "metadata": {},
   "outputs": [
    {
     "data": {
      "text/plain": [
       "('경성명과 1+1 수제 (롤케익+ 파운드케익)', '9,900원')"
      ]
     },
     "execution_count": 19,
     "metadata": {},
     "output_type": "execute_result"
    }
   ],
   "source": [
    "import re"
   ]
  },
  {
   "cell_type": "code",
   "execution_count": null,
   "metadata": {},
   "outputs": [],
   "source": [
    "# 코드, 제목, 링크, 원가, 판매가, 할인율"
   ]
  },
  {
   "cell_type": "code",
   "execution_count": 25,
   "metadata": {},
   "outputs": [
    {
     "data": {
      "text/plain": [
       "('경성명과 1+1 수제 (롤케익+ 파운드케익)', '9,900원')"
      ]
     },
     "execution_count": 25,
     "metadata": {},
     "output_type": "execute_result"
    }
   ],
   "source": [
    "\n",
    "re.findall(\"\\d{10}\", elements[0].select_one('a').get(\"href\"))[0],\n",
    "elements[0].select_one(\".itemname\").text.replace(\"  \", \" \"),elements[0].select_one(\".s-price\").text.split(\"\\n\")[1]"
   ]
  },
  {
   "cell_type": "code",
   "execution_count": 38,
   "metadata": {},
   "outputs": [
    {
     "data": {
      "text/html": [
       "<div>\n",
       "<style scoped>\n",
       "    .dataframe tbody tr th:only-of-type {\n",
       "        vertical-align: middle;\n",
       "    }\n",
       "\n",
       "    .dataframe tbody tr th {\n",
       "        vertical-align: top;\n",
       "    }\n",
       "\n",
       "    .dataframe thead th {\n",
       "        text-align: right;\n",
       "    }\n",
       "</style>\n",
       "<table border=\"1\" class=\"dataframe\">\n",
       "  <thead>\n",
       "    <tr style=\"text-align: right;\">\n",
       "      <th></th>\n",
       "      <th>code</th>\n",
       "      <th>title</th>\n",
       "      <th>price</th>\n",
       "    </tr>\n",
       "  </thead>\n",
       "  <tbody>\n",
       "    <tr>\n",
       "      <th>198</th>\n",
       "      <td>1726384845</td>\n",
       "      <td>[BCBG](대구신세계) S 아미구스다운(B0S1F870)</td>\n",
       "      <td>61,320원</td>\n",
       "    </tr>\n",
       "    <tr>\n",
       "      <th>199</th>\n",
       "      <td>1858597390</td>\n",
       "      <td>[김나운더키친] 방송에서만  가정식 짜글이 15팩 돼지묵은지짜글이(300g) 5팩+차돌</td>\n",
       "      <td>57,860원</td>\n",
       "    </tr>\n",
       "  </tbody>\n",
       "</table>\n",
       "</div>"
      ],
      "text/plain": [
       "           code                                             title    price\n",
       "198  1726384845                  [BCBG](대구신세계) S 아미구스다운(B0S1F870)  61,320원\n",
       "199  1858597390  [김나운더키친] 방송에서만  가정식 짜글이 15팩 돼지묵은지짜글이(300g) 5팩+차돌  57,860원"
      ]
     },
     "execution_count": 38,
     "metadata": {},
     "output_type": "execute_result"
    }
   ],
   "source": [
    "datas = []\n",
    "for element in elements:\n",
    "    datas.append({\n",
    "        \"code\": re.findall(\"\\d{10}\", element.select_one('a').get(\"href\"))[0],\n",
    "        \"title\": element.select_one(\".itemname\").text.replace(\"  \", \" \"),\n",
    "        \"price\": element.select_one(\".s-price\").text.split(\"\\n\")[1]   \n",
    "    })\n",
    "    \n",
    "items_df = pd.DataFrame(datas)\n",
    "items_df.tail(2)"
   ]
  },
  {
   "cell_type": "markdown",
   "metadata": {},
   "source": [
    "#### 이미지 다운받기"
   ]
  },
  {
   "cell_type": "code",
   "execution_count": 47,
   "metadata": {},
   "outputs": [
    {
     "name": "stdout",
     "output_type": "stream",
     "text": [
      "http://gdimg.gmarket.co.kr/1617264481/still/300 경성명과 1+1 수제 (롤케익+ 파운드케익).png\n",
      "http://gdimg.gmarket.co.kr/1761446440/still/300 (쌀가게) (신세계의정부점)[2020년 햅쌀] 초정약수 참드림쌀 10kg .png\n",
      "http://gdimg.gmarket.co.kr/1894388003/still/300 천안맛집 믿고 먹는 노걸대 한돈뼈해장국 900g x 3개.png\n",
      "http://gdimg.gmarket.co.kr/1510637585/still/300 [스파클]스파클생수 2L 30병 쿠폰가 11330.png\n",
      "http://gdimg.gmarket.co.kr/6373950669/still/300 [아침농산]국산 농부의아침 쌀10kg 2020년산 햅쌀.png\n"
     ]
    }
   ],
   "source": [
    "for idx, row in items_df[:5].iterrows():\n",
    "    link = \"http://gdimg.gmarket.co.kr/{}/still/300\".format(row[\"code\"])\n",
    "    title = row[\"title\"] + \".png\"\n",
    "    title = title.replace(\"/\", \"\")\n",
    "    print(link, title)"
   ]
  },
  {
   "cell_type": "code",
   "execution_count": 43,
   "metadata": {},
   "outputs": [
    {
     "name": "stdout",
     "output_type": "stream",
     "text": [
      "http://gdimg.gmarket.co.kr/1617264481/still/300\n",
      "http://gdimg.gmarket.co.kr/1761446440/still/300\n",
      "http://gdimg.gmarket.co.kr/1894388003/still/300\n",
      "http://gdimg.gmarket.co.kr/1510637585/still/300\n",
      "http://gdimg.gmarket.co.kr/6373950669/still/300\n"
     ]
    }
   ],
   "source": [
    "for code in items_df[\"code\"][:5]:\n",
    "    link = \"http://gdimg.gmarket.co.kr/{}/still/300\".format(code)\n",
    "    print(link)"
   ]
  },
  {
   "cell_type": "code",
   "execution_count": 48,
   "metadata": {},
   "outputs": [],
   "source": [
    "!mkdir datas"
   ]
  },
  {
   "cell_type": "code",
   "execution_count": 49,
   "metadata": {},
   "outputs": [],
   "source": [
    "def download(title, link):\n",
    "    \n",
    "    \n",
    "    response = requests.get(link, stream=True)\n",
    "    path = \"./datas/{}\".format(title)\n",
    "    \n",
    "    with open(path, \"wb\") as f:\n",
    "        for chunk in response.iter_content(chunk_size=1024):\n",
    "            if chunk: \n",
    "                f.write(chunk)\n",
    "                \n",
    "                "
   ]
  },
  {
   "cell_type": "code",
   "execution_count": 51,
   "metadata": {
    "collapsed": true
   },
   "outputs": [
    {
     "name": "stdout",
     "output_type": "stream",
     "text": [
      "http://gdimg.gmarket.co.kr/1617264481/still/300 경성명과 1+1 수제 (롤케익+ 파운드케익).png\n",
      "http://gdimg.gmarket.co.kr/1761446440/still/300 (쌀가게) (신세계의정부점)[2020년 햅쌀] 초정약수 참드림쌀 10kg .png\n",
      "http://gdimg.gmarket.co.kr/1894388003/still/300 천안맛집 믿고 먹는 노걸대 한돈뼈해장국 900g x 3개.png\n",
      "http://gdimg.gmarket.co.kr/1510637585/still/300 [스파클]스파클생수 2L 30병 쿠폰가 11330.png\n",
      "http://gdimg.gmarket.co.kr/6373950669/still/300 [아침농산]국산 농부의아침 쌀10kg 2020년산 햅쌀.png\n",
      "http://gdimg.gmarket.co.kr/1784141308/still/300 노랑 갓튀겨나온 곱빼기돈까스5치즈돈까스5소스10개.png\n",
      "http://gdimg.gmarket.co.kr/1831765270/still/300 [홈앤하우스]메탈랙 900 5단 (화이트블랙) 수납선반 철제선반.png\n",
      "http://gdimg.gmarket.co.kr/1840147374/still/300 [한국투자증권](한국투자증권) 온라인 금융상품권 5만원권.png\n",
      "http://gdimg.gmarket.co.kr/1561051668/still/300 스타일윙윙 여자 남자 양말 중목발목덧신아동양말.png\n",
      "http://gdimg.gmarket.co.kr/1916843388/still/300 해남 고구마 (호박)10kg 대상.png\n",
      "http://gdimg.gmarket.co.kr/1913133638/still/300 파란 허니북 프리미엄수학 그림책 34종 세트(워크지 증정).png\n",
      "http://gdimg.gmarket.co.kr/1861973911/still/300 미소킹 한입 붕어빵750g미니 단팥 붕어빵 한입에 쏙~.png\n",
      "http://gdimg.gmarket.co.kr/6373950669/still/300 국산 630g 르미에 라지자캔들 아로마향초 캔들워머.png\n",
      "http://gdimg.gmarket.co.kr/1556495068/still/300 [신세계푸드]신세계푸드 올반 찰핫도그 20봉 외 왕교자 치킨텐더 등 인기 냉동상품.png\n",
      "http://gdimg.gmarket.co.kr/1889358173/still/300 [휠라][휠라] 키즈 꾸미 스니커즈 3RM01156.png\n",
      "http://gdimg.gmarket.co.kr/1881787362/still/300 [다샵]국산 의약외품 비말차단 KF-AD MB필터 마스크 200매.png\n",
      "http://gdimg.gmarket.co.kr/1918663456/still/300 옷걸이 덮개.png\n",
      "http://gdimg.gmarket.co.kr/1108678685/still/300 12%쿠폰~융털기모모직 팬츠트레이닝빅사이즈~4XL.png\n",
      "http://gdimg.gmarket.co.kr/6373950669/still/300 [아이르]고밀도 극세사 5mm 아이르 밍크 담요1+1케이프담요.png\n",
      "http://gdimg.gmarket.co.kr/1879551119/still/300 반반한샵 겨울패션뽀글이집업코트자켓니트.png\n",
      "http://gdimg.gmarket.co.kr/6373950669/still/300 엄마옷로즈맘 인기상품70종세일 5060중년여성의류.png\n",
      "http://gdimg.gmarket.co.kr/1837507219/still/300 [일동제약]지큐랩 100억 생유산균 골드 500mg x 60캡슐 + 30일분.png\n",
      "http://gdimg.gmarket.co.kr/1779696398/still/300 [테크액체세제]테크 파워 액체세제(겸용) 대용량 8L.png\n",
      "http://gdimg.gmarket.co.kr/1505641045/still/300 [썬키스트]썬키스트 제주감귤 2L 6펫 쿠폰가 7970.png\n",
      "http://gdimg.gmarket.co.kr/1825151771/still/300 웰빙헬스 명품 고운발크림 2개 세트 외.png\n",
      "http://gdimg.gmarket.co.kr/1135262469/still/300 [아워홈]햄야채볶음밥 300g x 10봉.png\n",
      "http://gdimg.gmarket.co.kr/1322490033/still/300 로드스타 필수아이템 순면 긴팔반팔 무지티셔츠.png\n",
      "http://gdimg.gmarket.co.kr/6373950669/still/300 [쉬즈홈]방한 방풍 햇빛차단에 효과적인 암막커튼1+1.png\n",
      "http://gdimg.gmarket.co.kr/1893087771/still/300 [플랙]공용 FLEECE JACEKT PWON4JPL11U.png\n",
      "http://gdimg.gmarket.co.kr/1919994527/still/300 [크라운]스틱데이 롱 쿠크다스 + 롱 초코하임 화이트하임 총8팩.png\n",
      "http://gdimg.gmarket.co.kr/1878073032/still/300 [블랙야크]남성용 간절기 플리스자켓 M노르딕자켓.png\n",
      "http://gdimg.gmarket.co.kr/6373950669/still/300 [버블트리]~160호여아유아의류아동복주니어원피스레깅스.png\n",
      "http://gdimg.gmarket.co.kr/1816470039/still/300 (모바일) [고래사x미미네] 어묵탕 + 떡볶이 콤보팩 670g x4팩.png\n",
      "http://gdimg.gmarket.co.kr/1904043113/still/300 [삼성전자]삼성전자 갤럭시 핏2 블랙  SM-R220NZ.png\n",
      "http://gdimg.gmarket.co.kr/1919830300/still/300 팽현숙 맛있는 옛날 포기김치 8kg+총각김치 2kg.png\n",
      "http://gdimg.gmarket.co.kr/1919112136/still/300 EXR 아우터 외 트랙수트티셔츠팬츠.png\n",
      "http://gdimg.gmarket.co.kr/1628015886/still/300 [개성]개성 교자만두 고기 600g x 7봉.png\n",
      "http://gdimg.gmarket.co.kr/1863273447/still/300 겟레디 마스크 일회용 마스크 국내생산 100매.png\n",
      "http://gdimg.gmarket.co.kr/1913594831/still/300 국산 참맑은KF-AD비말차단마스크200매덴탈일회용9480.png\n",
      "http://gdimg.gmarket.co.kr/6373950669/still/300 제니트 니트의 계절 신상 루즈핏 조끼 가디건 스웨터.png\n",
      "http://gdimg.gmarket.co.kr/1909706478/still/300 꿀맛 노지감귤 5kg 로얄과(S~M).png\n",
      "http://gdimg.gmarket.co.kr/6373950669/still/300 요즘에트랜드위크12%기모 청바지슬랙스면팬츠3XL.png\n",
      "http://gdimg.gmarket.co.kr/1853432302/still/300 티라미슈떡60gx16알 개별포장 떡 커피와 환상 조합.png\n",
      "http://gdimg.gmarket.co.kr/1718416286/still/300 티탁 12%쿠폰 기모원피스롱티셔츠세트빅사이즈.png\n",
      "http://gdimg.gmarket.co.kr/6373950669/still/300 [페브리즈]페브리즈 에어 맑은 하늘바람 3개 p.png\n",
      "http://gdimg.gmarket.co.kr/1309233372/still/300 프라이데이 겨울신상 기모롱티원피스빅사이즈.png\n",
      "http://gdimg.gmarket.co.kr/1503292386/still/300 [비비수산]국내산 순살 고등어 120~140gX7팩(지마켓쿠폰가11170).png\n",
      "http://gdimg.gmarket.co.kr/1864626658/still/300 KF94 국산 순풍 마스크 50매 식약처인증 의약외품.png\n",
      "http://gdimg.gmarket.co.kr/6373950669/still/300 [박스포유]100%직접생산 박스포유 택배박스.png\n",
      "http://gdimg.gmarket.co.kr/1876056055/still/300 썬플러스 세척사과 3kg(12-19과내외)흠과.png\n",
      "http://gdimg.gmarket.co.kr/1906074586/still/300 고당도 블랙사파이어 포도 3kg(750gx4팩).png\n",
      "http://gdimg.gmarket.co.kr/1820821824/still/300 휴안청프레시70 KF AD 100매 식약처인증 국산 일회용 KFAD 비말차단 마스크 (freah_0601).png\n",
      "http://gdimg.gmarket.co.kr/1870371359/still/300 키스해링 20FW 아트웍 데님 3종 여성.png\n",
      "http://gdimg.gmarket.co.kr/1879045303/still/300 [탑텐키즈](신세계마산점)[탑텐키즈] 20FW 신상 아동 온에어세트.png\n",
      "http://gdimg.gmarket.co.kr/1711339174/still/300 통통생굴 2kg  횟감용 통영산.png\n",
      "http://gdimg.gmarket.co.kr/6373950669/still/300 업계를 리드하는 기업 3SK택배박스.png\n",
      "http://gdimg.gmarket.co.kr/1673286335/still/300 최상급 통통석화 (통각굴) 3KG.png\n",
      "http://gdimg.gmarket.co.kr/1879126178/still/300 어반더룸 겨울신상 패딩기모투피스후리스니트 등.png\n",
      "http://gdimg.gmarket.co.kr/6373950669/still/300 12%쿠폰 1+1 빅사이즈레깅스 5900원~기모팬츠치마.png\n",
      "http://gdimg.gmarket.co.kr/1784362444/still/300 [안다르]20%+12% 안다르 역대급 가을특가 Vol.1.png\n",
      "http://gdimg.gmarket.co.kr/1636550578/still/300 [청정원]청정원프리미엄파스타소스3개골라담기+면or파우치증정.png\n",
      "http://gdimg.gmarket.co.kr/6373950669/still/300 [BYC]BYC외 기모 발열 내복 내의 상하 남자 남성 여자 여성.png\n",
      "http://gdimg.gmarket.co.kr/1918737029/still/300 [구글플레이]기프트코드 10만원 + 에픽세븐 게임 아이템 증정.png\n",
      "http://gdimg.gmarket.co.kr/1777884273/still/300 티메이 기모 상하세트 운동복 트레이닝세트.png\n",
      "http://gdimg.gmarket.co.kr/1791565626/still/300 [에그머니](카드가능)(에그머니) 온라인 게임상품권 5만원.png\n",
      "http://gdimg.gmarket.co.kr/1868476717/still/300 피시원 국내산 손질 햇 꽃게 7팩.png\n",
      "http://gdimg.gmarket.co.kr/1909924357/still/300 DIY 나만의 마스크 목걸이 스트랩 만들기 3종세트.png\n",
      "http://gdimg.gmarket.co.kr/1760902957/still/300 [모윰] 1026-31 쓱데이특가+다운로드쿠폰 [모윰] 치발기 기프트팩(코랄베이지+옐로우).png\n",
      "http://gdimg.gmarket.co.kr/1760903007/still/300 [모윰] 1026-31 쓱데이특가+다운로드쿠폰 [모윰] 포니 치발기 기프트팩(컬러선택).png\n",
      "http://gdimg.gmarket.co.kr/1861701130/still/300 [네이처드림]리얼 타트체리주스 1000ml 2병100% NFC타트체리.png\n",
      "http://gdimg.gmarket.co.kr/1490019603/still/300 센스물티슈 악어 캡형 100매 10팩+10팩  한장씩톡톡.png\n",
      "http://gdimg.gmarket.co.kr/1887861076/still/300 [달바]화이트 트러플 미스트 세럼 50ml 한혜진 미스트 1+1.png\n",
      "http://gdimg.gmarket.co.kr/1922952602/still/300 해남 고구마 (꿀)10kg특상.png\n",
      "http://gdimg.gmarket.co.kr/1873552882/still/300 접이식 폴딩 거치대 쓰레기통 1+1 행사.png\n",
      "http://gdimg.gmarket.co.kr/1866338842/still/300 블랑슈 시그니처 아기물티슈 캡형 100매 10팩.png\n",
      "http://gdimg.gmarket.co.kr/1911964119/still/300 [네파키즈](광주신세계)[네파키즈] 겨울 다운점퍼3종.png\n",
      "http://gdimg.gmarket.co.kr/1512735646/still/300 [폰타나]파스타 소스 3병 골라담기+스파게티500g.png\n",
      "http://gdimg.gmarket.co.kr/6373950669/still/300 [HP]HP A4 복사용지(A4용지) 80g 2500매 2BOX더블에이.png\n",
      "http://gdimg.gmarket.co.kr/1829282728/still/300 [고려은단]고려은단 아연비타민C 150정 2박스(10개월분)(쇼핑백X).png\n",
      "http://gdimg.gmarket.co.kr/1848568419/still/300 코카콜라+스프라이트+환타오렌지 190ml 각30캔.png\n",
      "http://gdimg.gmarket.co.kr/1892244666/still/300 [블랙야크]남성 간절기 기능성 플리스자켓 M노르딕자켓.png\n",
      "http://gdimg.gmarket.co.kr/1103681365/still/300 [맥심]모카골드 커피믹스 160T+160T +3단트레이.png\n",
      "http://gdimg.gmarket.co.kr/1878279864/still/300 [보뚜]몽모랑시 타트체리 저분자 콜라겐 젤리스틱 30포 2박스.png\n",
      "http://gdimg.gmarket.co.kr/1861966106/still/300 미소킹 한입 붕어빵750g쫄깃한 반죽 달콤한 슈크림.png\n",
      "http://gdimg.gmarket.co.kr/1877018154/still/300 우리같이 일회용 마스크 국내제작 100매 무료배송.png\n",
      "http://gdimg.gmarket.co.kr/1615513397/still/300 [롯데제과]몽쉘크림336g+카카오336g +마가렛트264g+카스타드252g.png\n",
      "http://gdimg.gmarket.co.kr/1818182278/still/300 KF94 황사 마스크 대형 국산 개별 포장 100매 국산자재.png\n",
      "http://gdimg.gmarket.co.kr/6373950669/still/300 [젤리스푼]아동복아동의류아동경량패딩초등학생옷상하복.png\n",
      "http://gdimg.gmarket.co.kr/1912401445/still/300 비달 슈퍼 팔리피카 할로윈캔디 5봉 2세트구매시2봉더.png\n",
      "http://gdimg.gmarket.co.kr/1912227495/still/300 [샤오미]샤오미 미밴드5 여우미 공식수입 정식 한글판(미개봉).png\n",
      "http://gdimg.gmarket.co.kr/1799012899/still/300 [블랙야크]리오구스 다운점퍼(아동) (1BKPAW8913).png\n",
      "http://gdimg.gmarket.co.kr/1919911731/still/300 착한떡 할로윈꿀백설기 9개입 (토끼3+유령3+호박3).png\n",
      "http://gdimg.gmarket.co.kr/1920817580/still/300 [유명근명인] 서산간월도 젓갈 12통 (어리굴젓+양념굴젓+오징어젓+낙지젓+명란젓).png\n",
      "http://gdimg.gmarket.co.kr/1882062589/still/300 굿케어 KF94 국산 4중 마스크 대형50매 식약처인증.png\n",
      "http://gdimg.gmarket.co.kr/1686035302/still/300 [제주삼다수]제주삼다수 2L 12병생수전문배송.png\n",
      "http://gdimg.gmarket.co.kr/1543095376/still/300 [BYO]CJ BYO 20억 생유산균 30포 x 3개 (총90포)+사은품.png\n",
      "http://gdimg.gmarket.co.kr/6373950669/still/300 [더블에이]더블에이 A4 복사용지(A4용지) 80g 5000매 2BOX.png\n",
      "http://gdimg.gmarket.co.kr/1607527508/still/300 [동원참치]라이트 스탠다드 참치 100g 15캔 원터치.png\n",
      "http://gdimg.gmarket.co.kr/1608849162/still/300 [네스카페]네스카페 신선한모카 커피믹스 110T x 2개.png\n",
      "http://gdimg.gmarket.co.kr/6373950669/still/300 [키친아트]키친아트로벤탈 후라이팬 1종.png\n",
      "http://gdimg.gmarket.co.kr/1652387921/still/300 [니]NII 아동 FW 맨투맨점퍼외50종+최대22%추가할인.png\n",
      "http://gdimg.gmarket.co.kr/1918122217/still/300 반트36.5 에스피 세라마이드 33ml (반트).png\n"
     ]
    },
    {
     "name": "stdout",
     "output_type": "stream",
     "text": [
      "http://gdimg.gmarket.co.kr/1751134419/still/300 [은하수산]MAP포장 신선한 국내산 숙성 송어회 120g 2팩 +소스.png\n",
      "http://gdimg.gmarket.co.kr/1918137296/still/300 [타미힐피거] 남여 공용 겨울기모 맨투맨 6종 택1_P088759037.png\n",
      "http://gdimg.gmarket.co.kr/1663397051/still/300 최상급 통통 왕새우 1kg 30-35미  쿠폰가 19830원.png\n",
      "http://gdimg.gmarket.co.kr/1726928966/still/300 [스파클]스파클생수 500ml 60병.png\n",
      "http://gdimg.gmarket.co.kr/1790176636/still/300 12%쿠폰 가을 가디건 니트 롱 가디건 조끼.png\n",
      "http://gdimg.gmarket.co.kr/1903982588/still/300 제주직송 타이벡감귤과일선물세트 10kg 로얄소과.png\n",
      "http://gdimg.gmarket.co.kr/1621412261/still/300 [미미로린스]모먼트 핸드워시손세정제 _500ml 3종 택1(+행사중).png\n",
      "http://gdimg.gmarket.co.kr/1782687491/still/300 [에쓰오일](S-OIL) 모바일 주유권 5만원권.png\n",
      "http://gdimg.gmarket.co.kr/1101177736/still/300 [맥심]맥심 화이트골드 커피믹스 400T : 쿠폰가 36900원~.png\n",
      "http://gdimg.gmarket.co.kr/1785591237/still/300 [모나리자]에코모먼트 네이처 3겹 20M 30롤 3팩 롤화장지.png\n",
      "http://gdimg.gmarket.co.kr/1824062680/still/300 [일리윤]일리윤 세라마이드아토집중크림 500ML 2개.png\n",
      "http://gdimg.gmarket.co.kr/1887731723/still/300 3만원인하 키스해링 20FW 팝아트 데님 3종.png\n",
      "http://gdimg.gmarket.co.kr/1516956242/still/300 (깨비농원) 타이벡 조생 감귤 4.5kg 로얄소과(2S-M).png\n",
      "http://gdimg.gmarket.co.kr/6373950669/still/300 투투 스마일12% 기모추가 슬랙스청바지배기 5XL.png\n",
      "http://gdimg.gmarket.co.kr/1792676376/still/300 [컬럼비아]남여 플리스 자켓 C14-WE3220.png\n",
      "http://gdimg.gmarket.co.kr/1673408278/still/300 플라스틱아일랜드 겨울 데일리스타일 니트아우터.png\n",
      "http://gdimg.gmarket.co.kr/1503353718/still/300 [오뚜기밥]맛있는 오뚜기밥 210g 24개.png\n",
      "http://gdimg.gmarket.co.kr/1499798609/still/300 [쏘피]바디피트 볼록맞춤 생리대 중형 16Px5팩+무표백10P.png\n",
      "http://gdimg.gmarket.co.kr/1501667618/still/300 [베이비베이비]베이비베이비 아기물티슈 트윙클120매 20팩 캡형.png\n",
      "http://gdimg.gmarket.co.kr/6373950669/still/300 [HP]HP A4 복사용지(A4용지) 75g 2500매 2BOX더블에이.png\n",
      "http://gdimg.gmarket.co.kr/1101174029/still/300 [맥심]맥심 화이트 골드 커피믹스 320T : 연아의 커피~.png\n",
      "http://gdimg.gmarket.co.kr/6373950669/still/300 [또래친구]겨울 균일가no옵션 맨투맨밍크레깅스치랭스.png\n",
      "http://gdimg.gmarket.co.kr/1913098973/still/300 [온앤온](부산점)[온앤온] 페이크퍼 숏패딩 (JP0WM516).png\n",
      "http://gdimg.gmarket.co.kr/1924173122/still/300 [길벗스쿨]길벗스쿨 기적의 명문장 따라쓰기 3권 세트(논어명심보감속담.고사성어).png\n",
      "http://gdimg.gmarket.co.kr/1925887253/still/300 슈퍼 패미컴 컴플리트 가이드.png\n",
      "http://gdimg.gmarket.co.kr/1169039746/still/300 만두 소문난식품 화제의 호떡쌀군만두1.2kg+1.2kg.png\n",
      "http://gdimg.gmarket.co.kr/1606293717/still/300 12%쿠폰 수맘 겨울 신상 수면 기모 홈웨어 잠옷 세트.png\n",
      "http://gdimg.gmarket.co.kr/1910406565/still/300 [롯데제과]혼합빼빼로10갑SET (초코4갑+아몬드3갑+누드3갑).png\n",
      "http://gdimg.gmarket.co.kr/1778943307/still/300 [깨끗한나라]순수브라운 3겹 화장지 27m 30롤 x 2팩(특가).png\n",
      "http://gdimg.gmarket.co.kr/1733125199/still/300 [아이더](광주신세계)DWW18584 DWW18582 [EIDER 18FW]여성 LINZI (린지) NARSIS (나르시스)  LONG DOWN JACKET.png\n",
      "http://gdimg.gmarket.co.kr/1107162855/still/300 [프롬산타]3+1 양말롱삭스발목 남자여자학생스니커즈덧신겨울.png\n",
      "http://gdimg.gmarket.co.kr/1597410232/still/300 [짜파게티]짜파구리 너구리10봉+짜파게티10봉.png\n",
      "http://gdimg.gmarket.co.kr/1517719492/still/300 쿠폰12% 메이킹유 롱니트원피스블라우스코트.png\n",
      "http://gdimg.gmarket.co.kr/6373950669/still/300 [투투삭스]겨울 양말 균일가 패션양말스니커즈골지학생.png\n",
      "http://gdimg.gmarket.co.kr/1726945436/still/300 높은 성취도에 부합하는 미국교과서 원더스 WONDERS PACKAGE.png\n",
      "http://gdimg.gmarket.co.kr/1280233513/still/300 티메이 가을신상 블라우스 원피스 니트 가디건.png\n",
      "http://gdimg.gmarket.co.kr/1716718927/still/300 [아웃백스테이크하우스](아웃백빕스)Pays 외식카페 결합 금액권 3만원권.png\n",
      "http://gdimg.gmarket.co.kr/1102042025/still/300 [생활공작소]생활공작소 주방세제 4L 2입 쌀뜨물향 1종 친환경인증.png\n",
      "http://gdimg.gmarket.co.kr/1511728322/still/300 달콤아삭 경남단감 10kg 가정용 혼합과 (부유단감).png\n",
      "http://gdimg.gmarket.co.kr/1655485256/still/300 (풀빛)풀빛 핀두스의 아주 특별한 이야기 시리즈 전9권+워크북재정가세트.png\n",
      "http://gdimg.gmarket.co.kr/1101182286/still/300 [맥심]맥심 모카골드 커피믹스 400T : 쿠폰가 38900원~.png\n",
      "http://gdimg.gmarket.co.kr/1918576719/still/300 새코롬 감귤 첫수확 노지 감귤 10kg 로얄소과.png\n",
      "http://gdimg.gmarket.co.kr/1668785594/still/300 [케이지커머스]바른세탁소 액체세제 라임향 2.5L 4개 세탁세제.png\n",
      "http://gdimg.gmarket.co.kr/1485724029/still/300 [페브리즈]페브리즈 에어 바닐라 라벤더의 포근함 3개 p.png\n",
      "http://gdimg.gmarket.co.kr/1898617857/still/300 [산과들에]달고나아몬드18gx20봉+달고나캐슈넛18gx10봉.png\n",
      "http://gdimg.gmarket.co.kr/6373950669/still/300 [다샵]3중직 벽걸이 스탠드 에어컨커버 제습기 선풍기커버.png\n",
      "http://gdimg.gmarket.co.kr/1655242371/still/300 [구글플레이](카드가능) 기프트코드 10만원  구글 기프트카드.png\n",
      "http://gdimg.gmarket.co.kr/1918695948/still/300 [에이블루]특허받은의자 2020년형 NEW 에이블루 커블체어 와이더 2+1세트.png\n",
      "http://gdimg.gmarket.co.kr/1817218135/still/300 [코디]블루 3겹 데코 화장지 27m 30롤 3팩 휴지.png\n",
      "http://gdimg.gmarket.co.kr/1101169778/still/300 [맥심]맥심 모카골드 커피믹스 320T +3단트레이: 커피는맥심~.png\n",
      "http://gdimg.gmarket.co.kr/6373950669/still/300 [솔가]엽산 400 (100정3개월10일) 본사직영.png\n",
      "http://gdimg.gmarket.co.kr/1918735309/still/300 [구글플레이]기프트코드 5만원 + 에픽세븐 게임 아이템 증정.png\n",
      "http://gdimg.gmarket.co.kr/6373950669/still/300 [더블에이]더블에이 A4 복사용지 80g 4000매 2BOXA4용지.png\n",
      "http://gdimg.gmarket.co.kr/1867151698/still/300 20FW ODV 클라우드 기모니트티 4종.png\n",
      "http://gdimg.gmarket.co.kr/1887897049/still/300 임성근 만능후딱 소스 6통(간장소스 500gX3통+양념장 300gX3통).png\n",
      "http://gdimg.gmarket.co.kr/1910437018/still/300 [롯데제과]혼합빼빼로40갑SET +선착순증정(고데기or무선충전기).png\n",
      "http://gdimg.gmarket.co.kr/6373950669/still/300 10kg햇부사출시 가을홍사과.png\n",
      "http://gdimg.gmarket.co.kr/1742584565/still/300 I Can Read Level MF단계 ~ 3.4단계 (Book+Audio CD 포함 Set) 선택구매.png\n",
      "http://gdimg.gmarket.co.kr/6373950669/still/300 [한예지]한예지 볼륨앤소프트 천연펄프 3겹 화장지 30롤 3팩.png\n",
      "http://gdimg.gmarket.co.kr/1916095915/still/300 해남 고구마 (호박) 10kg특상.png\n",
      "http://gdimg.gmarket.co.kr/1917929643/still/300 [블랙야크][블랙야크] 남여 초특가인기플리스자켓3종택1 (B옵티멀플리스자켓 L프레리자켓).png\n",
      "http://gdimg.gmarket.co.kr/6373950669/still/300 [삼성전자]CLT-K404S CMY SL-C430 432 433 480 482 483 FW W.png\n",
      "http://gdimg.gmarket.co.kr/1644625234/still/300 [인디안]임영웅 추천~ 겨울 오픈특집 BEST상품 최고 22퍼센트.png\n",
      "http://gdimg.gmarket.co.kr/6373950669/still/300 코코리가을신상박스롱후드맨투맨.png\n",
      "http://gdimg.gmarket.co.kr/1321028651/still/300 NEW땡큐 화장지 (30롤 x 2팩)  3겹 두루마리 휴지.png\n",
      "http://gdimg.gmarket.co.kr/1778712917/still/300 [베베숲][베베숲] 시그니처 그린 70매 캡 20팩.png\n",
      "http://gdimg.gmarket.co.kr/6373950669/still/300 [맥심]동서식품 맥심 모카골드 커피믹스 400T.png\n",
      "http://gdimg.gmarket.co.kr/1103709000/still/300 [맥심]모카골드 커피믹스 400T 쿠폰가38900원.png\n",
      "http://gdimg.gmarket.co.kr/1726009287/still/300 또바기 패드 알뜰형 400매 강아지패드 애견패드.png\n",
      "http://gdimg.gmarket.co.kr/1771938678/still/300 [닥스](신세계센텀점)2020년 FW 닥스 가성비좋은 겨울신상품 선물용데일리룩용 기모셔츠[캐쥬얼셔츠비즈니....png\n",
      "http://gdimg.gmarket.co.kr/1863008243/still/300 JYBOOKS DK EFE + My First Dictionary (전2종).png\n",
      "http://gdimg.gmarket.co.kr/1626778886/still/300 국내산쌀로만든 달콤가득 크림떡 1+1 (총 24개입960g).png\n",
      "http://gdimg.gmarket.co.kr/1399217752/still/300 [태화]위생백비닐백봉투 태화 더블 지퍼백 (중 120매).png\n",
      "http://gdimg.gmarket.co.kr/1779700657/still/300 [테크액체세제]수퍼테크 액체세제 14L.png\n",
      "http://gdimg.gmarket.co.kr/1704090717/still/300 [+본품용량]에스쁘아 워터스플래쉬 선크림SPF50+PA+++60ML.png\n",
      "http://gdimg.gmarket.co.kr/1731966908/still/300 Percussive 마사지건 국내220v 해드 4개.png\n",
      "http://gdimg.gmarket.co.kr/1807240634/still/300 착한떡 우유꿀백설기 10개 x 5팩 총50개.png\n",
      "http://gdimg.gmarket.co.kr/1692915661/still/300 [락앤락]걸이형 고무장갑 M 32cm 5+1개 그레이.png\n",
      "http://gdimg.gmarket.co.kr/6373950669/still/300 [에버라스트]에버라스트22%쿠폰기모후드집업맨투맨츄리닝바지.png\n",
      "http://gdimg.gmarket.co.kr/1568349809/still/300 패션라인 가을원피스니트트렌치코트가디건.png\n",
      "http://gdimg.gmarket.co.kr/1568593417/still/300 [케이스위스]브랜드 롱패딩자켓롱후리스맨투맨기모바지 빅세일.png\n",
      "http://gdimg.gmarket.co.kr/6373950669/still/300 [네슬레]오리지널 핫쵸코 600g초콜렛핫초코 +이중글라스머그.png\n",
      "http://gdimg.gmarket.co.kr/1899274105/still/300 [잘풀리는집]잘풀리는집 순수PURE천연펄프 25m 30롤 x 3팩.png\n",
      "http://gdimg.gmarket.co.kr/1112998317/still/300 [베베숲]베베숲 프리미어 70매 캡 20팩.png\n",
      "http://gdimg.gmarket.co.kr/1605115571/still/300 [프렌치카페]프렌치카페 카페믹스믹스커피 200Tx2 (400T).png\n",
      "http://gdimg.gmarket.co.kr/1534849667/still/300 [일리윤]일리윤 세라마이드 아토 로션 528ML 2개.png\n",
      "http://gdimg.gmarket.co.kr/1783367530/still/300 [에쓰오일](S-OIL) 모바일주유권 5만원 실시간발송 주유상품권.png\n",
      "http://gdimg.gmarket.co.kr/1128413264/still/300 [담터]담터 호두 아몬드 율무차 130T생강차쌍화차차 선물~.png\n",
      "http://gdimg.gmarket.co.kr/6373950669/still/300 윤남텍 간편세척 초음파 다목적 가습기YN-101G마켓.png\n",
      "http://gdimg.gmarket.co.kr/1918738094/still/300 [구글플레이]기프트코드 15만원 + 에픽세븐 게임 아이템 증정.png\n",
      "http://gdimg.gmarket.co.kr/1655241628/still/300 [구글플레이](카드가능) 기프트코드 3만원  구글 기프트카드.png\n",
      "http://gdimg.gmarket.co.kr/1918734185/still/300 [구글플레이]기프트코드 3만원 + 에픽세븐 게임 아이템 증정.png\n",
      "http://gdimg.gmarket.co.kr/1653481172/still/300 [휠라키즈](신세계강남점)[토박스][휠라]FILA 꾸미 색상선택 FK1SIB1108X.png\n",
      "http://gdimg.gmarket.co.kr/1498530968/still/300 [비타500]비타500 100ml x 50병비타민c음료수 +펭수키링 증정.png\n",
      "http://gdimg.gmarket.co.kr/1500299895/still/300 [베베숲]베베숲 시그니처 레드 70매 캡 20팩.png\n",
      "http://gdimg.gmarket.co.kr/1873479075/still/300 최상급 통통 왕새우 1kg 20-25미쿠폰가 26320원.png\n",
      "http://gdimg.gmarket.co.kr/1726384845/still/300 [BCBG](대구신세계) S 아미구스다운(B0S1F870).png\n",
      "http://gdimg.gmarket.co.kr/1858597390/still/300 [김나운더키친] 방송에서만  가정식 짜글이 15팩 돼지묵은지짜글이(300g) 5팩+차돌.png\n"
     ]
    }
   ],
   "source": [
    "for idx, row in items_df.iterrows():\n",
    "    link = \"http://gdimg.gmarket.co.kr/{}/still/300\".format(row[\"code\"])\n",
    "    title = row[\"title\"] + \".png\"\n",
    "    title = title.replace(\"/\", \"\")\n",
    "    print(link, title)\n",
    "    download(title, link)"
   ]
  },
  {
   "cell_type": "code",
   "execution_count": 53,
   "metadata": {},
   "outputs": [
    {
     "data": {
      "text/plain": [
       "200"
      ]
     },
     "execution_count": 53,
     "metadata": {},
     "output_type": "execute_result"
    }
   ],
   "source": [
    "images = !ls datas\n",
    "len(images)"
   ]
  },
  {
   "cell_type": "code",
   "execution_count": null,
   "metadata": {},
   "outputs": [],
   "source": []
  }
 ],
 "metadata": {
  "kernelspec": {
   "display_name": "Python 3",
   "language": "python",
   "name": "python3"
  },
  "language_info": {
   "codemirror_mode": {
    "name": "ipython",
    "version": 3
   },
   "file_extension": ".py",
   "mimetype": "text/x-python",
   "name": "python",
   "nbconvert_exporter": "python",
   "pygments_lexer": "ipython3",
   "version": "3.8.3"
  }
 },
 "nbformat": 4,
 "nbformat_minor": 4
}
