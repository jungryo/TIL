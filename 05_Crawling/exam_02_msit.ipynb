{
 "cells": [
  {
   "cell_type": "markdown",
   "metadata": {},
   "source": [
    "#### msit : 과학기술 정보통신부\n",
    "- https://msit.go.kr\n",
    "- 보도자료를 크롤링\n",
    "- json으로 데이터 수집\n",
    "- json 데이터 안에 html 코드가 들어있습니다."
   ]
  },
  {
   "cell_type": "code",
   "execution_count": 1,
   "metadata": {},
   "outputs": [],
   "source": [
    "page = 1\n",
    "url = \"https://www.msit.go.kr/dynamic/article/_policycom3?\\\n",
    "search=creday<=20201028-191200&sort=operday=desc&&idx=desc&below=false&pageout=true&aradon.result.format=json\\\n",
    "&aradon.page.pageNo={}&aradon.page.listNum=10&aradon.page.screenCount=5\\\n",
    "&aradon.referrer.href=https://www.msit.go.kr/web/msipContents/contents.do?mId=MTAxOQ==\".format(page)\n",
    "\n",
    "\n"
   ]
  },
  {
   "cell_type": "code",
   "execution_count": 2,
   "metadata": {},
   "outputs": [
    {
     "data": {
      "text/plain": [
       "<Response [200]>"
      ]
     },
     "execution_count": 2,
     "metadata": {},
     "output_type": "execute_result"
    }
   ],
   "source": [
    "response = requests.get(url)\n",
    "response"
   ]
  },
  {
   "cell_type": "code",
   "execution_count": 4,
   "metadata": {},
   "outputs": [
    {
     "data": {
      "text/html": [
       "<div>\n",
       "<style scoped>\n",
       "    .dataframe tbody tr th:only-of-type {\n",
       "        vertical-align: middle;\n",
       "    }\n",
       "\n",
       "    .dataframe tbody tr th {\n",
       "        vertical-align: top;\n",
       "    }\n",
       "\n",
       "    .dataframe thead th {\n",
       "        text-align: right;\n",
       "    }\n",
       "</style>\n",
       "<table border=\"1\" class=\"dataframe\">\n",
       "  <thead>\n",
       "    <tr style=\"text-align: right;\">\n",
       "      <th></th>\n",
       "      <th>modserno</th>\n",
       "      <th>artcont</th>\n",
       "      <th>orderno</th>\n",
       "      <th>moduserid</th>\n",
       "      <th>sync_transaction_sequence</th>\n",
       "      <th>catid</th>\n",
       "      <th>modday</th>\n",
       "      <th>artfilenm</th>\n",
       "      <th>useflg</th>\n",
       "      <th>admin_p</th>\n",
       "      <th>gourlloc</th>\n",
       "      <th>admin_w</th>\n",
       "      <th>artsubject</th>\n",
       "      <th>admin_t</th>\n",
       "      <th>action</th>\n",
       "      <th>keyword</th>\n",
       "      <th>start_date</th>\n",
       "      <th>thumbnail</th>\n",
       "      <th>creday</th>\n",
       "      <th>partid</th>\n",
       "      <th>reguserid</th>\n",
       "      <th>admin_e</th>\n",
       "      <th>isusingurlloc</th>\n",
       "      <th>catidpath</th>\n",
       "      <th>priority</th>\n",
       "      <th>file_01</th>\n",
       "      <th>artid</th>\n",
       "      <th>expireday</th>\n",
       "      <th>c_type</th>\n",
       "      <th>viewcount</th>\n",
       "      <th>operday</th>\n",
       "      <th>catnmpath</th>\n",
       "    </tr>\n",
       "  </thead>\n",
       "  <tbody>\n",
       "    <tr>\n",
       "      <th>8</th>\n",
       "      <td>3</td>\n",
       "      <td>&lt;p&gt;&amp;nbsp;&lt;!--StartFragment--&gt;&lt;/p&gt;\\r\\n&lt;p class=...</td>\n",
       "      <td>680</td>\n",
       "      <td>eunb1475</td>\n",
       "      <td>5f5c572c9ed89669d5fd62ec</td>\n",
       "      <td>_policycom3</td>\n",
       "      <td>20200912-140230</td>\n",
       "      <td></td>\n",
       "      <td>T</td>\n",
       "      <td>디지털뉴딜지원팀</td>\n",
       "      <td></td>\n",
       "      <td>김도창 사무관</td>\n",
       "      <td>[보도설명] 한국판 뉴딜 추경의 민낯…사업 절반 집행률 0’ 관련(한국경제)</td>\n",
       "      <td>044-202-6115</td>\n",
       "      <td>MOD</td>\n",
       "      <td></td>\n",
       "      <td></td>\n",
       "      <td></td>\n",
       "      <td>20200912-124505</td>\n",
       "      <td>3092535</td>\n",
       "      <td>ksejun</td>\n",
       "      <td></td>\n",
       "      <td>F</td>\n",
       "      <td>[tst1, tsta50, policycom, _policycom3]</td>\n",
       "      <td>5</td>\n",
       "      <td>http://www.msit.go.kr/dynamic/file/afieldfile/...</td>\n",
       "      <td>3092535</td>\n",
       "      <td>20480128-123000</td>\n",
       "      <td>기타</td>\n",
       "      <td>0</td>\n",
       "      <td>20200912-123000</td>\n",
       "      <td>[과학기술정보통신부_2019, 과학기술정보통신부 Web, 정책소통, 보도설명]</td>\n",
       "    </tr>\n",
       "    <tr>\n",
       "      <th>9</th>\n",
       "      <td>2</td>\n",
       "      <td>&lt;p style=\"text-align: center;\"&gt;&lt;strong&gt;&lt;span s...</td>\n",
       "      <td>679</td>\n",
       "      <td>eunb1475</td>\n",
       "      <td>5f5c572c9ed89669d5fd62ec</td>\n",
       "      <td>_policycom3</td>\n",
       "      <td>20200912-140213</td>\n",
       "      <td></td>\n",
       "      <td>T</td>\n",
       "      <td>통신이용제도과</td>\n",
       "      <td></td>\n",
       "      <td>이현우 사무관</td>\n",
       "      <td>[보도설명] 17~34, 50세 이상 통신비 2만원 지원 관련(서울신문 등)</td>\n",
       "      <td>044-202-6655</td>\n",
       "      <td>MOD</td>\n",
       "      <td></td>\n",
       "      <td></td>\n",
       "      <td></td>\n",
       "      <td>20200909-093121</td>\n",
       "      <td>3085322</td>\n",
       "      <td>eunb1475</td>\n",
       "      <td></td>\n",
       "      <td>F</td>\n",
       "      <td>[tst1, tsta50, policycom, _policycom3]</td>\n",
       "      <td>5</td>\n",
       "      <td>http://www.msit.go.kr/dynamic/file/afieldfile/...</td>\n",
       "      <td>3085322</td>\n",
       "      <td>20480125-093121</td>\n",
       "      <td>정보통신</td>\n",
       "      <td>0</td>\n",
       "      <td>20200909-093121</td>\n",
       "      <td>[과학기술정보통신부_2019, 과학기술정보통신부 Web, 정책소통, 보도설명]</td>\n",
       "    </tr>\n",
       "  </tbody>\n",
       "</table>\n",
       "</div>"
      ],
      "text/plain": [
       "  modserno                                            artcont orderno  \\\n",
       "8        3  <p>&nbsp;<!--StartFragment--></p>\\r\\n<p class=...     680   \n",
       "9        2  <p style=\"text-align: center;\"><strong><span s...     679   \n",
       "\n",
       "  moduserid sync_transaction_sequence        catid           modday artfilenm  \\\n",
       "8  eunb1475  5f5c572c9ed89669d5fd62ec  _policycom3  20200912-140230             \n",
       "9  eunb1475  5f5c572c9ed89669d5fd62ec  _policycom3  20200912-140213             \n",
       "\n",
       "  useflg   admin_p gourlloc  admin_w  \\\n",
       "8      T  디지털뉴딜지원팀           김도창 사무관   \n",
       "9      T   통신이용제도과           이현우 사무관   \n",
       "\n",
       "                                   artsubject       admin_t action keyword  \\\n",
       "8  [보도설명] 한국판 뉴딜 추경의 민낯…사업 절반 집행률 0’ 관련(한국경제)  044-202-6115    MOD           \n",
       "9  [보도설명] 17~34, 50세 이상 통신비 2만원 지원 관련(서울신문 등)  044-202-6655    MOD           \n",
       "\n",
       "  start_date thumbnail           creday   partid reguserid admin_e  \\\n",
       "8                       20200912-124505  3092535    ksejun           \n",
       "9                       20200909-093121  3085322  eunb1475           \n",
       "\n",
       "  isusingurlloc                               catidpath priority  \\\n",
       "8             F  [tst1, tsta50, policycom, _policycom3]        5   \n",
       "9             F  [tst1, tsta50, policycom, _policycom3]        5   \n",
       "\n",
       "                                             file_01    artid  \\\n",
       "8  http://www.msit.go.kr/dynamic/file/afieldfile/...  3092535   \n",
       "9  http://www.msit.go.kr/dynamic/file/afieldfile/...  3085322   \n",
       "\n",
       "         expireday c_type viewcount          operday  \\\n",
       "8  20480128-123000     기타         0  20200912-123000   \n",
       "9  20480125-093121   정보통신         0  20200909-093121   \n",
       "\n",
       "                                     catnmpath  \n",
       "8  [과학기술정보통신부_2019, 과학기술정보통신부 Web, 정책소통, 보도설명]  \n",
       "9  [과학기술정보통신부_2019, 과학기술정보통신부 Web, 정책소통, 보도설명]  "
      ]
     },
     "execution_count": 4,
     "metadata": {},
     "output_type": "execute_result"
    }
   ],
   "source": [
    "datas = response.json()[\"result\"][\"nodes\"]\n",
    "msit_df=pd.DataFrame(datas)\n",
    "pd.options.display.max_columns = len(msit_df.columns)\n",
    "msit_df.tail(2)"
   ]
  },
  {
   "cell_type": "code",
   "execution_count": 5,
   "metadata": {},
   "outputs": [
    {
     "data": {
      "text/html": [
       "<div>\n",
       "<style scoped>\n",
       "    .dataframe tbody tr th:only-of-type {\n",
       "        vertical-align: middle;\n",
       "    }\n",
       "\n",
       "    .dataframe tbody tr th {\n",
       "        vertical-align: top;\n",
       "    }\n",
       "\n",
       "    .dataframe thead th {\n",
       "        text-align: right;\n",
       "    }\n",
       "</style>\n",
       "<table border=\"1\" class=\"dataframe\">\n",
       "  <thead>\n",
       "    <tr style=\"text-align: right;\">\n",
       "      <th></th>\n",
       "      <th>artid</th>\n",
       "      <th>admin_p</th>\n",
       "      <th>artsubject</th>\n",
       "      <th>artcont</th>\n",
       "    </tr>\n",
       "  </thead>\n",
       "  <tbody>\n",
       "    <tr>\n",
       "      <th>8</th>\n",
       "      <td>3092535</td>\n",
       "      <td>디지털뉴딜지원팀</td>\n",
       "      <td>[보도설명] 한국판 뉴딜 추경의 민낯…사업 절반 집행률 0’ 관련(한국경제)</td>\n",
       "      <td>&lt;p&gt;&amp;nbsp;&lt;!--StartFragment--&gt;&lt;/p&gt;\\r\\n&lt;p class=...</td>\n",
       "    </tr>\n",
       "    <tr>\n",
       "      <th>9</th>\n",
       "      <td>3085322</td>\n",
       "      <td>통신이용제도과</td>\n",
       "      <td>[보도설명] 17~34, 50세 이상 통신비 2만원 지원 관련(서울신문 등)</td>\n",
       "      <td>&lt;p style=\"text-align: center;\"&gt;&lt;strong&gt;&lt;span s...</td>\n",
       "    </tr>\n",
       "  </tbody>\n",
       "</table>\n",
       "</div>"
      ],
      "text/plain": [
       "     artid   admin_p                                  artsubject  \\\n",
       "8  3092535  디지털뉴딜지원팀  [보도설명] 한국판 뉴딜 추경의 민낯…사업 절반 집행률 0’ 관련(한국경제)   \n",
       "9  3085322   통신이용제도과  [보도설명] 17~34, 50세 이상 통신비 2만원 지원 관련(서울신문 등)   \n",
       "\n",
       "                                             artcont  \n",
       "8  <p>&nbsp;<!--StartFragment--></p>\\r\\n<p class=...  \n",
       "9  <p style=\"text-align: center;\"><strong><span s...  "
      ]
     },
     "execution_count": 5,
     "metadata": {},
     "output_type": "execute_result"
    }
   ],
   "source": [
    "datas = response.json()[\"result\"][\"nodes\"]\n",
    "msit_df=pd.DataFrame(datas)[[\"artid\", \"admin_p\", \"artsubject\", \"artcont\"]]\n",
    "msit_df.tail(2)"
   ]
  },
  {
   "cell_type": "code",
   "execution_count": 8,
   "metadata": {},
   "outputs": [
    {
     "data": {
      "text/plain": [
       "0    <p style=\"text-align: center;\"><span style=\"fo...\n",
       "1    <p style=\"text-align: center;\"><span style=\"fo...\n",
       "2    <p style=\"text-align: center; line-height: 1.4...\n",
       "3    <p style=\"text-align: center;\"><strong><span s...\n",
       "4    <p style=\"text-align: center;\"><span style=\"fo...\n",
       "5    <p style=\"text-align: center;\"><span style=\"fo...\n",
       "6    <p style=\"text-align: center;\"><span style=\"fo...\n",
       "7    <p><span style=\"font-size: 14pt;\">&nbsp;</span...\n",
       "8    <p>&nbsp;<!--StartFragment--></p>\\r\\n<p class=...\n",
       "9    <p style=\"text-align: center;\"><strong><span s...\n",
       "Name: artcont, dtype: object"
      ]
     },
     "execution_count": 8,
     "metadata": {},
     "output_type": "execute_result"
    }
   ],
   "source": [
    "msit_df[\"artcont\"]"
   ]
  },
  {
   "cell_type": "code",
   "execution_count": 15,
   "metadata": {},
   "outputs": [],
   "source": [
    "html = msit_df[\"artcont\"][0]"
   ]
  },
  {
   "cell_type": "code",
   "execution_count": 16,
   "metadata": {},
   "outputs": [],
   "source": [
    "def html_to_text(html):\n",
    "    remove_words = [\"\\n\", \"\\xa0\", '\\n□', 'ㅇ']\n",
    "    content = BeautifulSoup(html, \"html.parser\").text\n",
    "    for remove_word in remove_words:\n",
    "        content = content.replace(remove_word,\"\")\n",
    "    return content"
   ]
  },
  {
   "cell_type": "code",
   "execution_count": 18,
   "metadata": {},
   "outputs": [
    {
     "data": {
      "text/plain": [
       "'「국가연구개발혁신법」하위법령에 지식재산권 관련 규정을 포함할 계획- 쓸모없는 특허만 양산할‘R&D혁신법’관련(매일경제, ’20.9.28) -□ 기사 내용 ‘국가연구개발혁신법’에 지식재산권(IP)과 관련한 내용이 하나도 없는 것으로 확인돼 개선이 시급 - 기존 공동관리규정에 포함되어있던 특허동향 조사, 특허 선행조사 및 15억원 이상의 소재·부품·장비 R&D 사업에 대한 IP-R&D 지원 조항이 국가연구개발혁신법 및 시행령에 누락됨□ 보도 설명내용 정부는 ‘국가연구개발혁신법’ 제정·시행을 통해 부처별 R&D 관리규정을 단일 법령 체계로 정비하여 연구 몰입 환경 조성, 연구 효율성 제고를 추진하고 있음 - 국가연구개발혁신법에서는 지식재산권을 연구개발성과*의 하나로 규정하고 있으며, 시행령(안)에도 연구개발비 사용 기준, 기술료의 사용 등의 항목에서 지식재산권 관련 조항이 포함되어 있음  * 제2조(정의) 5. \"연구개발성과\"란 연구개발과제의 수행 과정에서 또는 그 결과로 인하여 창출 또는 파생되는 제품, 시설ㆍ장비, 지식재산권 등 대통령령으로 정하는 유형ㆍ무형의 성과를 말한다. - 추가적으로 제기된 지식재산권(IP) 조사·분석 관련 의견에 대해서는 연구자, 관계 부처, 유관 단체(대한변리사회 등)의 의견을 종합적으로 검토하여 금년 말까지 반영할 예정임'"
      ]
     },
     "execution_count": 18,
     "metadata": {},
     "output_type": "execute_result"
    }
   ],
   "source": [
    "content = html_to_text(msit_df[\"artcont\"][1])\n",
    "content"
   ]
  },
  {
   "cell_type": "code",
   "execution_count": 19,
   "metadata": {},
   "outputs": [
    {
     "data": {
      "text/html": [
       "<div>\n",
       "<style scoped>\n",
       "    .dataframe tbody tr th:only-of-type {\n",
       "        vertical-align: middle;\n",
       "    }\n",
       "\n",
       "    .dataframe tbody tr th {\n",
       "        vertical-align: top;\n",
       "    }\n",
       "\n",
       "    .dataframe thead th {\n",
       "        text-align: right;\n",
       "    }\n",
       "</style>\n",
       "<table border=\"1\" class=\"dataframe\">\n",
       "  <thead>\n",
       "    <tr style=\"text-align: right;\">\n",
       "      <th></th>\n",
       "      <th>artid</th>\n",
       "      <th>admin_p</th>\n",
       "      <th>artsubject</th>\n",
       "      <th>artcont</th>\n",
       "    </tr>\n",
       "  </thead>\n",
       "  <tbody>\n",
       "    <tr>\n",
       "      <th>8</th>\n",
       "      <td>3092535</td>\n",
       "      <td>디지털뉴딜지원팀</td>\n",
       "      <td>[보도설명] 한국판 뉴딜 추경의 민낯…사업 절반 집행률 0’ 관련(한국경제)</td>\n",
       "      <td>디지털 뉴딜 사업은 차질 없이 진행 중임 - ‘한국판 뉴딜 추경의 민낯…사업 절반 ...</td>\n",
       "    </tr>\n",
       "    <tr>\n",
       "      <th>9</th>\n",
       "      <td>3085322</td>\n",
       "      <td>통신이용제도과</td>\n",
       "      <td>[보도설명] 17~34, 50세 이상 통신비 2만원 지원 관련(서울신문 등)</td>\n",
       "      <td>4차 추가경정예산안은 편성 중에 있으며 구체적인 내용은 아직 확정되지 않았음- “1...</td>\n",
       "    </tr>\n",
       "  </tbody>\n",
       "</table>\n",
       "</div>"
      ],
      "text/plain": [
       "     artid   admin_p                                  artsubject  \\\n",
       "8  3092535  디지털뉴딜지원팀  [보도설명] 한국판 뉴딜 추경의 민낯…사업 절반 집행률 0’ 관련(한국경제)   \n",
       "9  3085322   통신이용제도과  [보도설명] 17~34, 50세 이상 통신비 2만원 지원 관련(서울신문 등)   \n",
       "\n",
       "                                             artcont  \n",
       "8  디지털 뉴딜 사업은 차질 없이 진행 중임 - ‘한국판 뉴딜 추경의 민낯…사업 절반 ...  \n",
       "9  4차 추가경정예산안은 편성 중에 있으며 구체적인 내용은 아직 확정되지 않았음- “1...  "
      ]
     },
     "execution_count": 19,
     "metadata": {},
     "output_type": "execute_result"
    }
   ],
   "source": [
    "msit_df[\"artcont\"] = msit_df[\"artcont\"].apply(html_to_text)\n",
    "msit_df.tail(2)"
   ]
  },
  {
   "cell_type": "code",
   "execution_count": null,
   "metadata": {},
   "outputs": [],
   "source": []
  }
 ],
 "metadata": {
  "kernelspec": {
   "display_name": "Python 3",
   "language": "python",
   "name": "python3"
  },
  "language_info": {
   "codemirror_mode": {
    "name": "ipython",
    "version": 3
   },
   "file_extension": ".py",
   "mimetype": "text/x-python",
   "name": "python",
   "nbconvert_exporter": "python",
   "pygments_lexer": "ipython3",
   "version": "3.8.3"
  }
 },
 "nbformat": 4,
 "nbformat_minor": 4
}
