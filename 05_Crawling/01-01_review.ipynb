{
 "cells": [
  {
   "cell_type": "markdown",
   "metadata": {},
   "source": [
    "### 크롤링 절차\n",
    "- 1. 웹 서비스 분석: url 확인 \n",
    "- 2. request, reponse : json 데이터(문자열 얻기) \n",
    "- 3. 얻은 문자열 파싱(dict) -> 데이터프레임으로 변환"
   ]
  },
  {
   "cell_type": "code",
   "execution_count": 8,
   "metadata": {},
   "outputs": [
    {
     "name": "stdout",
     "output_type": "stream",
     "text": [
      "01-01_review.ipynb  01_requests.ipynb   02_requests.ipynb\r\n"
     ]
    }
   ],
   "source": [
    "ls"
   ]
  },
  {
   "cell_type": "code",
   "execution_count": 17,
   "metadata": {},
   "outputs": [
    {
     "name": "stdout",
     "output_type": "stream",
     "text": [
      "https://finance.daum.net/api/market_index/days?market=KOSPI&page=1&perPage=10&pagination=true\n"
     ]
    }
   ],
   "source": [
    "# 1. 웹서비스 분석 : url 찾기\n",
    "\n",
    "code, page, perpage = \"KOSPI\" , 1, 10 \n",
    "\n",
    "url =\"https://finance.daum.net/api/market_index/days?market={}&page={}&perPage={}&pagination=true\".format(code, page, perpage)\n",
    "print(url)"
   ]
  },
  {
   "cell_type": "code",
   "execution_count": 18,
   "metadata": {
    "scrolled": false
   },
   "outputs": [
    {
     "data": {
      "text/plain": [
       "<Response [403]>"
      ]
     },
     "execution_count": 18,
     "metadata": {},
     "output_type": "execute_result"
    }
   ],
   "source": [
    "params  = {\n",
    "    \n",
    "}\n",
    "response = requests.get(url)\n",
    "response"
   ]
  },
  {
   "cell_type": "code",
   "execution_count": null,
   "metadata": {},
   "outputs": [],
   "source": []
  }
 ],
 "metadata": {
  "kernelspec": {
   "display_name": "Python 3",
   "language": "python",
   "name": "python3"
  },
  "language_info": {
   "codemirror_mode": {
    "name": "ipython",
    "version": 3
   },
   "file_extension": ".py",
   "mimetype": "text/x-python",
   "name": "python",
   "nbconvert_exporter": "python",
   "pygments_lexer": "ipython3",
   "version": "3.8.3"
  }
 },
 "nbformat": 4,
 "nbformat_minor": 4
}
