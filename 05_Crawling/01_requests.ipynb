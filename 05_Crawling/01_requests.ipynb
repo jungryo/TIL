{
 "cells": [
  {
   "cell_type": "markdown",
   "metadata": {},
   "source": [
    "### web crawling\n",
    "- 1. requests: json: 동적페이지 (URL 변경없이 데이터를 수정 및 추가 )\n",
    "- 2. requests: html: 정적페이지 (URL 변경으로 데이터를 수정 및 추가)\n",
    "- 3. selenium: web browser: 1,2번 방법을 사용하지 못할 때 사용\n",
    "    "
   ]
  },
  {
   "cell_type": "markdown",
   "metadata": {},
   "source": [
    "#### 1. 네이버 주식 데이터 크롤링 \n",
    "- 코스피 데이터 수집\n",
    "- 코스닥 데이터 수집\n",
    "- USD환율 데이터 수집 \n",
    "- 그래프, 상관계수 확인 "
   ]
  },
  {
   "cell_type": "markdown",
   "metadata": {},
   "source": [
    "#### 크롤링 절차 \n",
    "- 1. 웹 서비스 분석: URL 확인 \n",
    "- 2. request, response: json 데이터(문자열)을 얻기\n",
    "- 3. json 데이터(문자열) -> dict(파싱) -> 데이터 프레임 "
   ]
  },
  {
   "cell_type": "code",
   "execution_count": 1,
   "metadata": {},
   "outputs": [],
   "source": [
    "import requests"
   ]
  },
  {
   "cell_type": "code",
   "execution_count": 2,
   "metadata": {},
   "outputs": [
    {
     "name": "stdout",
     "output_type": "stream",
     "text": [
      "https://m.stock.naver.com/api/json/sise/dailySiseIndexListJson.nhn?code=KOSPI&pageSize=20&page=1\n"
     ]
    }
   ],
   "source": [
    "# 1. 웹서비스 분석 : URL 찾기\n",
    "code, page_size, page = \"KOSPI\", 20, 1\n",
    "\n",
    "\n",
    "url = \"https://m.stock.naver.com/api/json/sise/dailySiseIndexListJson.nhn?code={}&pageSize={}&page={}\".format(code, page_size, page)\n",
    "\n",
    "print(url)"
   ]
  },
  {
   "cell_type": "code",
   "execution_count": 3,
   "metadata": {},
   "outputs": [
    {
     "data": {
      "text/plain": [
       "<Response [200]>"
      ]
     },
     "execution_count": 3,
     "metadata": {},
     "output_type": "execute_result"
    }
   ],
   "source": [
    "# 2. request, response : JSON(str)\n",
    "respond = requests.get(url)\n",
    "respond"
   ]
  },
  {
   "cell_type": "code",
   "execution_count": 6,
   "metadata": {},
   "outputs": [],
   "source": [
    "import pandas as pd"
   ]
  },
  {
   "cell_type": "code",
   "execution_count": 17,
   "metadata": {},
   "outputs": [
    {
     "data": {
      "text/html": [
       "<div>\n",
       "<style scoped>\n",
       "    .dataframe tbody tr th:only-of-type {\n",
       "        vertical-align: middle;\n",
       "    }\n",
       "\n",
       "    .dataframe tbody tr th {\n",
       "        vertical-align: top;\n",
       "    }\n",
       "\n",
       "    .dataframe thead th {\n",
       "        text-align: right;\n",
       "    }\n",
       "</style>\n",
       "<table border=\"1\" class=\"dataframe\">\n",
       "  <thead>\n",
       "    <tr style=\"text-align: right;\">\n",
       "      <th></th>\n",
       "      <th>cd</th>\n",
       "      <th>cr</th>\n",
       "      <th>cv</th>\n",
       "      <th>dt</th>\n",
       "      <th>hv</th>\n",
       "      <th>lv</th>\n",
       "      <th>ncv</th>\n",
       "      <th>ov</th>\n",
       "    </tr>\n",
       "  </thead>\n",
       "  <tbody>\n",
       "    <tr>\n",
       "      <th>18</th>\n",
       "      <td>KOSPI</td>\n",
       "      <td>-0.95</td>\n",
       "      <td>-23.01</td>\n",
       "      <td>20200921</td>\n",
       "      <td>2427.17</td>\n",
       "      <td>2379.38</td>\n",
       "      <td>2389.39</td>\n",
       "      <td>2412.44</td>\n",
       "    </tr>\n",
       "    <tr>\n",
       "      <th>19</th>\n",
       "      <td>KOSPI</td>\n",
       "      <td>0.26</td>\n",
       "      <td>6.23</td>\n",
       "      <td>20200918</td>\n",
       "      <td>2417.81</td>\n",
       "      <td>2396.33</td>\n",
       "      <td>2412.40</td>\n",
       "      <td>2413.53</td>\n",
       "    </tr>\n",
       "  </tbody>\n",
       "</table>\n",
       "</div>"
      ],
      "text/plain": [
       "       cd    cr     cv        dt       hv       lv      ncv       ov\n",
       "18  KOSPI -0.95 -23.01  20200921  2427.17  2379.38  2389.39  2412.44\n",
       "19  KOSPI  0.26   6.23  20200918  2417.81  2396.33  2412.40  2413.53"
      ]
     },
     "execution_count": 17,
     "metadata": {},
     "output_type": "execute_result"
    }
   ],
   "source": [
    "# 3. JSON(str) -> JSON(dict) -> DF\n",
    "datas = respond.json()[\"result\"][\"siseList\"]\n",
    "kospi_df = pd.DataFrame(datas)\n",
    "kospi_df.tail(2)"
   ]
  },
  {
   "cell_type": "code",
   "execution_count": 18,
   "metadata": {},
   "outputs": [],
   "source": [
    "# 코스닥 데이터 크롤링 함수로 만들기 \n",
    "\n",
    "def get_stock_data(code, page_size=20, page=1):\n",
    "    url = \"https://m.stock.naver.com/api/json/\\\n",
    "sise/dailySiseIndexListJson.nhn?code={}\\\n",
    "&pageSize={}&page={}\".format(code, page_size, page)\n",
    "    response = requests.get(url)\n",
    "    datas = response.json()[\"result\"][\"siseList\"]\n",
    "    return pd.DataFrame(datas)"
   ]
  },
  {
   "cell_type": "code",
   "execution_count": 19,
   "metadata": {},
   "outputs": [
    {
     "data": {
      "text/html": [
       "<div>\n",
       "<style scoped>\n",
       "    .dataframe tbody tr th:only-of-type {\n",
       "        vertical-align: middle;\n",
       "    }\n",
       "\n",
       "    .dataframe tbody tr th {\n",
       "        vertical-align: top;\n",
       "    }\n",
       "\n",
       "    .dataframe thead th {\n",
       "        text-align: right;\n",
       "    }\n",
       "</style>\n",
       "<table border=\"1\" class=\"dataframe\">\n",
       "  <thead>\n",
       "    <tr style=\"text-align: right;\">\n",
       "      <th></th>\n",
       "      <th>cd</th>\n",
       "      <th>cr</th>\n",
       "      <th>cv</th>\n",
       "      <th>dt</th>\n",
       "      <th>hv</th>\n",
       "      <th>lv</th>\n",
       "      <th>ncv</th>\n",
       "      <th>ov</th>\n",
       "    </tr>\n",
       "  </thead>\n",
       "  <tbody>\n",
       "    <tr>\n",
       "      <th>98</th>\n",
       "      <td>KOSDAQ</td>\n",
       "      <td>0.70</td>\n",
       "      <td>4.93</td>\n",
       "      <td>20200529</td>\n",
       "      <td>714.51</td>\n",
       "      <td>700.84</td>\n",
       "      <td>713.68</td>\n",
       "      <td>706.16</td>\n",
       "    </tr>\n",
       "    <tr>\n",
       "      <th>99</th>\n",
       "      <td>KOSDAQ</td>\n",
       "      <td>-2.19</td>\n",
       "      <td>-15.84</td>\n",
       "      <td>20200528</td>\n",
       "      <td>728.80</td>\n",
       "      <td>695.30</td>\n",
       "      <td>708.75</td>\n",
       "      <td>728.76</td>\n",
       "    </tr>\n",
       "  </tbody>\n",
       "</table>\n",
       "</div>"
      ],
      "text/plain": [
       "        cd    cr     cv        dt      hv      lv     ncv      ov\n",
       "98  KOSDAQ  0.70   4.93  20200529  714.51  700.84  713.68  706.16\n",
       "99  KOSDAQ -2.19 -15.84  20200528  728.80  695.30  708.75  728.76"
      ]
     },
     "execution_count": 19,
     "metadata": {},
     "output_type": "execute_result"
    }
   ],
   "source": [
    "kosdaq_df = get_stock_data(\"KOSDAQ\", 100)\n",
    "kosdaq_df.tail(2)"
   ]
  },
  {
   "cell_type": "code",
   "execution_count": 20,
   "metadata": {},
   "outputs": [
    {
     "data": {
      "text/html": [
       "<div>\n",
       "<style scoped>\n",
       "    .dataframe tbody tr th:only-of-type {\n",
       "        vertical-align: middle;\n",
       "    }\n",
       "\n",
       "    .dataframe tbody tr th {\n",
       "        vertical-align: top;\n",
       "    }\n",
       "\n",
       "    .dataframe thead th {\n",
       "        text-align: right;\n",
       "    }\n",
       "</style>\n",
       "<table border=\"1\" class=\"dataframe\">\n",
       "  <thead>\n",
       "    <tr style=\"text-align: right;\">\n",
       "      <th></th>\n",
       "      <th>cd</th>\n",
       "      <th>cr</th>\n",
       "      <th>cv</th>\n",
       "      <th>dt</th>\n",
       "      <th>hv</th>\n",
       "      <th>lv</th>\n",
       "      <th>ncv</th>\n",
       "      <th>ov</th>\n",
       "    </tr>\n",
       "  </thead>\n",
       "  <tbody>\n",
       "    <tr>\n",
       "      <th>98</th>\n",
       "      <td>KOSPI</td>\n",
       "      <td>0.05</td>\n",
       "      <td>1.06</td>\n",
       "      <td>20200529</td>\n",
       "      <td>2038.89</td>\n",
       "      <td>2006.62</td>\n",
       "      <td>2029.60</td>\n",
       "      <td>2018.37</td>\n",
       "    </tr>\n",
       "    <tr>\n",
       "      <th>99</th>\n",
       "      <td>KOSPI</td>\n",
       "      <td>-0.13</td>\n",
       "      <td>-2.66</td>\n",
       "      <td>20200528</td>\n",
       "      <td>2054.52</td>\n",
       "      <td>2003.75</td>\n",
       "      <td>2028.54</td>\n",
       "      <td>2047.08</td>\n",
       "    </tr>\n",
       "  </tbody>\n",
       "</table>\n",
       "</div>"
      ],
      "text/plain": [
       "       cd    cr    cv        dt       hv       lv      ncv       ov\n",
       "98  KOSPI  0.05  1.06  20200529  2038.89  2006.62  2029.60  2018.37\n",
       "99  KOSPI -0.13 -2.66  20200528  2054.52  2003.75  2028.54  2047.08"
      ]
     },
     "execution_count": 20,
     "metadata": {},
     "output_type": "execute_result"
    }
   ],
   "source": [
    "kospi_df = get_stock_data(\"KOSPI\", 100)\n",
    "kospi_df.tail(2)"
   ]
  },
  {
   "cell_type": "markdown",
   "metadata": {},
   "source": [
    "#### USD 수집"
   ]
  },
  {
   "cell_type": "code",
   "execution_count": 21,
   "metadata": {},
   "outputs": [],
   "source": [
    "# 1. 웹페이지 분석 : URL 찾기"
   ]
  },
  {
   "cell_type": "code",
   "execution_count": 22,
   "metadata": {},
   "outputs": [
    {
     "name": "stdout",
     "output_type": "stream",
     "text": [
      "https://m.stock.naver.com/api/json/marketindex/marketIndexDay.nhn?marketIndexCd=FX_USDKRW&pageSize=100&page=1\n"
     ]
    }
   ],
   "source": [
    "code, page_size, page = \"FX_USDKRW\", 100, 1\n",
    "\n",
    "url = \"https://m.stock.naver.com/api/json/marketindex/marketIndexDay.nhn?marketIndexCd={}&pageSize={}&page={}\"\\\n",
    ".format(code, page_size, page)\n",
    "\n",
    "print(url)"
   ]
  },
  {
   "cell_type": "code",
   "execution_count": 26,
   "metadata": {},
   "outputs": [
    {
     "data": {
      "text/plain": [
       "<Response [200]>"
      ]
     },
     "execution_count": 26,
     "metadata": {},
     "output_type": "execute_result"
    }
   ],
   "source": [
    "# 2. request, response : JSON(str)\n",
    "# 쿠키 데이터 추가해서 요청 \n",
    "\n",
    "params = {\n",
    "    \"cookie\": \"NNB=7K4ZOLYOV6DV6; NRTK=ag#all_gr#1_ma#-2_si#0_en#0_sp#0; nx_ssl=2; _ga=GA1.1.1921936816.1603073336; _ga_7VKFYR6RV1=GS1.1.1603073335.1.1.1603073350.45; nid_inf=807390818; NID_AUT=Wx2hqhKSiUhhUYB3dLr5PdUg8O2pe/9Lq09yEMM1A/5Z+nF5/9hkQpYQ6nFXvgvc; NID_JKL=61NaeC+M0VTW6ezWMO4nZZnZpwiAgVoTML3D07wUc2w=; page_uid=UG+Dgwp0YidssN2n2Chssssss0N-381886; NID_SES=AAABnbJc5yzGGYxr+l1Tv0ZzM+c8HYMPhLMTa8roZZJrdVvVKytPBIx9xTAhwLgO8YUbjJ+/gIuOB4+FxB7zYz55LcnptepVfDgX6hcEO4HIQqQAm4AlmyKY/Uw0FUjBPnDh1mQT0XzuW8w2aJMKESc26dHErJivf03R6k+D648/c2jVGba0DFs5LwbQB2LG46Nzq9CgAmhrTcmRwKuu4NcHTtBZb+hEa3NKDpCZV7R9Y5TZh7oK/8j8n103K8+lXYztLIjQL2WPMAkxEFrWZMzDBgd4jzTiiOt01PsofG90QA6rcgR+9tQITWwu1TGP6lTyQep+NZ/RpB1zk6XlztFqOqlCAU+a4fYMCW4R8zwJNVCLonDCT+nWC22AzW7HCoGxjDezkSwPJxkSAr5mBG/nDm7IA4aYb5kANc7uCz+vwVOTuEq5zQU/I9jrLJdmVF/dClrHOa2rpRKL29L6HwgwQw/lXWAqpQz6bnC4AiueVRqvSzogaNWM25FlbeYKWqLxYcW3ex9e59C+pH2WTLGCntAY2B1/qIbjj/GXd6MWOwvx; JSESSIONID=5C920C383DC5B759377E9E3D1695AD18; BMR=; XSRF-TOKEN=210a8db4-516c-4d1b-9e3e-9c06355c6518\"\n",
    "}\n",
    "respond = requests.get(url, headers=params)\n",
    "respond"
   ]
  },
  {
   "cell_type": "code",
   "execution_count": 27,
   "metadata": {},
   "outputs": [
    {
     "data": {
      "text/plain": [
       "'{\"result\":{\"marketIndexDay\":[{\"dt\":\"20201021\",\"nv\":1132.8,\"cv\":-6.2,\"cr\":-0.54,\"cbv\":1152.62,\"csv\":1112.98,\"sv\":1143.9,\"rv\":1121.7},{\"dt\":\"20201020\",\"nv\":1139.0,\"cv\":-1.0,\"cr\":-0.09,\"cbv\":1158.93,\"csv\":1119.07,\"sv\":1150.1,\"rv\":1127.9},{\"dt\":\"20201019\",\"nv\":1140.0,\"cv\":-6.0,\"cr\":-0.52,\"cbv\":1159.95,\"csv\":1120.05,\"sv\":1151.1,\"rv\":1128.9},{\"dt\":\"20201016\",\"nv\":1146.0,\"cv\":-1.5,\"cr\":-0.13,\"cbv\":1166.05,\"csv\":1125.95,\"sv\":1157.2,\"rv\":1134.8},{\"dt\":\"20201015\",\"nv\":1147.5,\"cv\":1.0,\"cr\":0.09,\"cbv\":1167.58,\"csv\":1127.42,\"sv\":1158.7,\"rv\":1136.3},{\"dt\":\"20201014\",\"nv\":1146.5,\"cv\":0.5,\"cr\":0.04,\"cbv\":1166.56,\"csv\":1126.44,\"sv\":1157.7,\"rv\":1135.3},{\"dt\":\"20201013\",\"nv\":1146.0,\"cv\":-4.0,\"cr\":-0.35,\"cbv\":1166.05,\"csv\":1125.95,\"sv\":1157.2,\"rv\":1134.8},{\"dt\":\"20201012\",\"nv\":1150.0,\"cv\":-2.5,\"cr\":-0.22,\"cbv\":1170.12,\"csv\":1129.88,\"sv\":1161.2,\"rv\":1138.8},{\"dt\":\"20201008\",\"nv\":1152.5,\"cv\":-6.0,\"cr\":-0.52,\"cbv\":1172.66,\"csv\":1132.34,\"sv\":1163.7,\"rv\":1141.3},{\"dt\":\"20201007\",\"nv\":1158.5,\"cv\":-3.0,\"cr\":-0.26,\"cbv\":1178.77,\"csv\":1138.23,\"sv\":1169.8,\"rv\":1147.2},{\"dt\":\"20201006\",\"nv\":1161.5,\"cv\":1.0,\"cr\":0.09,\"cbv\":1181.82,\"csv\":1141.18,\"sv\":1172.8,\"rv\":1150.2},{\"dt\":\"20201005\",\"nv\":1160.5,\"cv\":-8.5,\"cr\":-0.73,\"cbv\":1180.8,\"csv\":1140.2,\"sv\":1171.8,\"rv\":1149.2},{\"dt\":\"20200929\",\"nv\":1169.0,\"cv\":-1.0,\"cr\":-0.09,\"cbv\":1189.45,\"csv\":1148.55,\"sv\":1180.4,\"rv\":1157.6},{\"dt\":\"20200928\",\"nv\":1170.0,\"cv\":-5.0,\"cr\":-0.43,\"cbv\":1190.47,\"csv\":1149.53,\"sv\":1181.4,\"rv\":1158.6},{\"dt\":\"20200925\",\"nv\":1175.0,\"cv\":2.5,\"cr\":0.21,\"cbv\":1195.56,\"csv\":1154.44,\"sv\":1186.5,\"rv\":1163.5},{\"dt\":\"20200924\",\"nv\":1172.5,\"cv\":9.5,\"cr\":0.82,\"cbv\":1193.01,\"csv\":1151.99,\"sv\":1183.9,\"rv\":1161.1},{\"dt\":\"20200923\",\"nv\":1163.0,\"cv\":3.0,\"cr\":0.26,\"cbv\":1183.35,\"csv\":1142.65,\"sv\":1174.3,\"rv\":1151.7},{\"dt\":\"20200922\",\"nv\":1160.0,\"cv\":-3.5,\"cr\":-0.3,\"cbv\":1180.3,\"csv\":1139.7,\"sv\":1171.3,\"rv\":1148.7},{\"dt\":\"20200921\",\"nv\":1163.5,\"cv\":0.0,\"cr\":0.0,\"cbv\":1183.86,\"csv\":1143.14,\"sv\":1174.9,\"rv\":1152.1},{\"dt\":\"20200918\",\"nv\":1163.5,\"cv\":-9.5,\"cr\":-0.81,\"cbv\":1183.86,\"csv\":1143.14,\"sv\":1174.9,\"rv\":1152.1},{\"dt\":\"20200917\",\"nv\":1173.0,\"cv\":-0.5,\"cr\":-0.04,\"cbv\":1193.52,\"csv\":1152.48,\"sv\":1184.4,\"rv\":1161.6},{\"dt\":\"20200916\",\"nv\":1173.5,\"cv\":-6.5,\"cr\":-0.55,\"cbv\":1194.03,\"csv\":1152.97,\"sv\":1185.0,\"rv\":1162.0},{\"dt\":\"20200915\",\"nv\":1180.0,\"cv\":-3.0,\"cr\":-0.25,\"cbv\":1200.65,\"csv\":1159.35,\"sv\":1191.5,\"rv\":1168.5},{\"dt\":\"20200914\",\"nv\":1183.0,\"cv\":-4.0,\"cr\":-0.34,\"cbv\":1203.7,\"csv\":1162.3,\"sv\":1194.5,\"rv\":1171.5},{\"dt\":\"20200911\",\"nv\":1187.0,\"cv\":0.1,\"cr\":0.01,\"cbv\":1207.77,\"csv\":1166.23,\"sv\":1198.6,\"rv\":1175.4},{\"dt\":\"20200910\",\"nv\":1186.9,\"cv\":-0.6,\"cr\":-0.05,\"cbv\":1207.67,\"csv\":1166.13,\"sv\":1198.5,\"rv\":1175.3},{\"dt\":\"20200909\",\"nv\":1187.5,\"cv\":-1.5,\"cr\":-0.13,\"cbv\":1208.28,\"csv\":1166.72,\"sv\":1199.1,\"rv\":1175.9},{\"dt\":\"20200908\",\"nv\":1189.0,\"cv\":1.0,\"cr\":0.08,\"cbv\":1209.8,\"csv\":1168.2,\"sv\":1200.6,\"rv\":1177.4},{\"dt\":\"20200907\",\"nv\":1188.0,\"cv\":-1.5,\"cr\":-0.13,\"cbv\":1208.79,\"csv\":1167.21,\"sv\":1199.6,\"rv\":1176.4},{\"dt\":\"20200904\",\"nv\":1189.5,\"cv\":-0.5,\"cr\":-0.04,\"cbv\":1210.31,\"csv\":1168.69,\"sv\":1201.1,\"rv\":1177.9},{\"dt\":\"20200903\",\"nv\":1190.0,\"cv\":3.0,\"cr\":0.25,\"cbv\":1210.82,\"csv\":1169.18,\"sv\":1201.6,\"rv\":1178.4},{\"dt\":\"20200902\",\"nv\":1187.0,\"cv\":2.3,\"cr\":0.19,\"cbv\":1207.77,\"csv\":1166.23,\"sv\":1198.6,\"rv\":1175.4},{\"dt\":\"20200901\",\"nv\":1184.7,\"cv\":-2.3,\"cr\":-0.19,\"cbv\":1205.43,\"csv\":1163.97,\"sv\":1196.3,\"rv\":1173.1},{\"dt\":\"20200831\",\"nv\":1187.0,\"cv\":4.0,\"cr\":0.34,\"cbv\":1207.77,\"csv\":1166.23,\"sv\":1198.6,\"rv\":1175.4},{\"dt\":\"20200828\",\"nv\":1183.0,\"cv\":-2.8,\"cr\":-0.24,\"cbv\":1203.7,\"csv\":1162.3,\"sv\":1194.5,\"rv\":1171.5},{\"dt\":\"20200827\",\"nv\":1185.8,\"cv\":-1.2,\"cr\":-0.1,\"cbv\":1206.55,\"csv\":1165.05,\"sv\":1197.4,\"rv\":1174.2},{\"dt\":\"20200826\",\"nv\":1187.0,\"cv\":0.0,\"cr\":0.0,\"cbv\":1207.77,\"csv\":1166.23,\"sv\":1198.6,\"rv\":1175.4},{\"dt\":\"20200825\",\"nv\":1187.0,\"cv\":-1.0,\"cr\":-0.08,\"cbv\":1207.77,\"csv\":1166.23,\"sv\":1198.6,\"rv\":1175.4},{\"dt\":\"20200824\",\"nv\":1188.0,\"cv\":-1.5,\"cr\":-0.13,\"cbv\":1208.79,\"csv\":1167.21,\"sv\":1199.6,\"rv\":1176.4},{\"dt\":\"20200821\",\"nv\":1189.5,\"cv\":1.0,\"cr\":0.08,\"cbv\":1210.31,\"csv\":1168.69,\"sv\":1201.1,\"rv\":1177.9},{\"dt\":\"20200820\",\"nv\":1188.5,\"cv\":10.5,\"cr\":0.89,\"cbv\":1209.29,\"csv\":1167.71,\"sv\":1200.1,\"rv\":1176.9},{\"dt\":\"20200819\",\"nv\":1178.0,\"cv\":-6.5,\"cr\":-0.55,\"cbv\":1198.61,\"csv\":1157.39,\"sv\":1189.5,\"rv\":1166.5},{\"dt\":\"20200818\",\"nv\":1184.5,\"cv\":-3.0,\"cr\":-0.25,\"cbv\":1205.22,\"csv\":1163.78,\"sv\":1196.1,\"rv\":1172.9},{\"dt\":\"20200814\",\"nv\":1187.5,\"cv\":3.0,\"cr\":0.25,\"cbv\":1208.28,\"csv\":1166.72,\"sv\":1199.1,\"rv\":1175.9},{\"dt\":\"20200813\",\"nv\":1184.5,\"cv\":0.0,\"cr\":0.0,\"cbv\":1205.22,\"csv\":1163.78,\"sv\":1196.1,\"rv\":1172.9},{\"dt\":\"20200812\",\"nv\":1184.5,\"cv\":0.0,\"cr\":0.0,\"cbv\":1205.22,\"csv\":1163.78,\"sv\":1196.1,\"rv\":1172.9},{\"dt\":\"20200811\",\"nv\":1184.5,\"cv\":-3.0,\"cr\":-0.25,\"cbv\":1205.22,\"csv\":1163.78,\"sv\":1196.1,\"rv\":1172.9},{\"dt\":\"20200810\",\"nv\":1187.5,\"cv\":-1.0,\"cr\":-0.08,\"cbv\":1208.28,\"csv\":1166.72,\"sv\":1199.1,\"rv\":1175.9},{\"dt\":\"20200807\",\"nv\":1188.5,\"cv\":3.0,\"cr\":0.25,\"cbv\":1209.29,\"csv\":1167.71,\"sv\":1200.1,\"rv\":1176.9},{\"dt\":\"20200806\",\"nv\":1185.5,\"cv\":-2.5,\"cr\":-0.21,\"cbv\":1206.24,\"csv\":1164.76,\"sv\":1197.1,\"rv\":1173.9},{\"dt\":\"20200805\",\"nv\":1188.0,\"cv\":-6.5,\"cr\":-0.54,\"cbv\":1208.79,\"csv\":1167.21,\"sv\":1199.6,\"rv\":1176.4},{\"dt\":\"20200804\",\"nv\":1194.5,\"cv\":-1.2,\"cr\":-0.1,\"cbv\":1215.4,\"csv\":1173.6,\"sv\":1206.2,\"rv\":1182.8},{\"dt\":\"20200803\",\"nv\":1195.7,\"cv\":4.7,\"cr\":0.39,\"cbv\":1216.62,\"csv\":1174.78,\"sv\":1207.4,\"rv\":1184.0},{\"dt\":\"20200731\",\"nv\":1191.0,\"cv\":-5.0,\"cr\":-0.42,\"cbv\":1211.84,\"csv\":1170.16,\"sv\":1202.6,\"rv\":1179.4},{\"dt\":\"20200730\",\"nv\":1196.0,\"cv\":2.0,\"cr\":0.17,\"cbv\":1216.93,\"csv\":1175.07,\"sv\":1207.7,\"rv\":1184.3},{\"dt\":\"20200729\",\"nv\":1194.0,\"cv\":-5.5,\"cr\":-0.46,\"cbv\":1214.89,\"csv\":1173.11,\"sv\":1205.7,\"rv\":1182.3},{\"dt\":\"20200728\",\"nv\":1199.5,\"cv\":2.5,\"cr\":0.21,\"cbv\":1220.49,\"csv\":1178.51,\"sv\":1211.2,\"rv\":1187.8},{\"dt\":\"20200727\",\"nv\":1197.0,\"cv\":-7.0,\"cr\":-0.58,\"cbv\":1217.94,\"csv\":1176.06,\"sv\":1208.7,\"rv\":1185.3},{\"dt\":\"20200724\",\"nv\":1204.0,\"cv\":5.5,\"cr\":0.46,\"cbv\":1225.07,\"csv\":1182.93,\"sv\":1215.7,\"rv\":1192.3},{\"dt\":\"20200723\",\"nv\":1198.5,\"cv\":1.5,\"cr\":0.13,\"cbv\":1219.47,\"csv\":1177.53,\"sv\":1210.2,\"rv\":1186.8},{\"dt\":\"20200722\",\"nv\":1197.0,\"cv\":1.0,\"cr\":0.08,\"cbv\":1217.94,\"csv\":1176.06,\"sv\":1208.7,\"rv\":1185.3},{\"dt\":\"20200721\",\"nv\":1196.0,\"cv\":-7.0,\"cr\":-0.58,\"cbv\":1216.93,\"csv\":1175.07,\"sv\":1207.7,\"rv\":1184.3},{\"dt\":\"20200720\",\"nv\":1203.0,\"cv\":-2.0,\"cr\":-0.17,\"cbv\":1224.05,\"csv\":1181.95,\"sv\":1214.7,\"rv\":1191.3},{\"dt\":\"20200717\",\"nv\":1205.0,\"cv\":0.0,\"cr\":0.0,\"cbv\":1226.08,\"csv\":1183.92,\"sv\":1216.8,\"rv\":1193.2},{\"dt\":\"20200716\",\"nv\":1205.0,\"cv\":4.0,\"cr\":0.33,\"cbv\":1226.08,\"csv\":1183.92,\"sv\":1216.8,\"rv\":1193.2},{\"dt\":\"20200715\",\"nv\":1201.0,\"cv\":-5.5,\"cr\":-0.46,\"cbv\":1222.01,\"csv\":1179.99,\"sv\":1212.7,\"rv\":1189.3},{\"dt\":\"20200714\",\"nv\":1206.5,\"cv\":3.5,\"cr\":0.29,\"cbv\":1227.61,\"csv\":1185.39,\"sv\":1218.3,\"rv\":1194.7},{\"dt\":\"20200713\",\"nv\":1203.0,\"cv\":2.0,\"cr\":0.17,\"cbv\":1224.05,\"csv\":1181.95,\"sv\":1214.7,\"rv\":1191.3},{\"dt\":\"20200710\",\"nv\":1201.0,\"cv\":6.0,\"cr\":0.5,\"cbv\":1222.01,\"csv\":1179.99,\"sv\":1212.7,\"rv\":1189.3},{\"dt\":\"20200709\",\"nv\":1195.0,\"cv\":0.0,\"cr\":0.0,\"cbv\":1215.91,\"csv\":1174.09,\"sv\":1206.7,\"rv\":1183.3},{\"dt\":\"20200708\",\"nv\":1195.0,\"cv\":-2.0,\"cr\":-0.17,\"cbv\":1215.91,\"csv\":1174.09,\"sv\":1206.7,\"rv\":1183.3},{\"dt\":\"20200707\",\"nv\":1197.0,\"cv\":3.0,\"cr\":0.25,\"cbv\":1217.94,\"csv\":1176.06,\"sv\":1208.7,\"rv\":1185.3},{\"dt\":\"20200706\",\"nv\":1194.0,\"cv\":-5.5,\"cr\":-0.46,\"cbv\":1214.89,\"csv\":1173.11,\"sv\":1205.7,\"rv\":1182.3},{\"dt\":\"20200703\",\"nv\":1199.5,\"cv\":0.5,\"cr\":0.04,\"cbv\":1220.49,\"csv\":1178.51,\"sv\":1211.2,\"rv\":1187.8},{\"dt\":\"20200702\",\"nv\":1199.0,\"cv\":-4.5,\"cr\":-0.37,\"cbv\":1219.98,\"csv\":1178.02,\"sv\":1210.7,\"rv\":1187.3},{\"dt\":\"20200701\",\"nv\":1203.5,\"cv\":0.5,\"cr\":0.04,\"cbv\":1224.56,\"csv\":1182.44,\"sv\":1215.2,\"rv\":1191.8},{\"dt\":\"20200630\",\"nv\":1203.0,\"cv\":2.5,\"cr\":0.21,\"cbv\":1224.05,\"csv\":1181.95,\"sv\":1214.7,\"rv\":1191.3},{\"dt\":\"20200629\",\"nv\":1200.5,\"cv\":-3.5,\"cr\":-0.29,\"cbv\":1221.5,\"csv\":1179.5,\"sv\":1212.2,\"rv\":1188.8},{\"dt\":\"20200626\",\"nv\":1204.0,\"cv\":0.5,\"cr\":0.04,\"cbv\":1225.07,\"csv\":1182.93,\"sv\":1215.7,\"rv\":1192.3},{\"dt\":\"20200625\",\"nv\":1203.5,\"cv\":1.0,\"cr\":0.08,\"cbv\":1224.56,\"csv\":1182.44,\"sv\":1215.2,\"rv\":1191.8},{\"dt\":\"20200624\",\"nv\":1202.5,\"cv\":-6.5,\"cr\":-0.54,\"cbv\":1223.54,\"csv\":1181.46,\"sv\":1214.2,\"rv\":1190.8},{\"dt\":\"20200623\",\"nv\":1209.0,\"cv\":-5.0,\"cr\":-0.41,\"cbv\":1230.15,\"csv\":1187.85,\"sv\":1220.8,\"rv\":1197.2},{\"dt\":\"20200622\",\"nv\":1214.0,\"cv\":4.5,\"cr\":0.37,\"cbv\":1235.24,\"csv\":1192.76,\"sv\":1225.8,\"rv\":1202.2},{\"dt\":\"20200619\",\"nv\":1209.5,\"cv\":0.0,\"cr\":0.0,\"cbv\":1230.66,\"csv\":1188.34,\"sv\":1221.3,\"rv\":1197.7},{\"dt\":\"20200618\",\"nv\":1209.5,\"cv\":-4.0,\"cr\":-0.33,\"cbv\":1230.66,\"csv\":1188.34,\"sv\":1221.3,\"rv\":1197.7},{\"dt\":\"20200617\",\"nv\":1213.5,\"cv\":1.5,\"cr\":0.12,\"cbv\":1234.73,\"csv\":1192.27,\"sv\":1225.3,\"rv\":1201.7},{\"dt\":\"20200616\",\"nv\":1212.0,\"cv\":-3.5,\"cr\":-0.29,\"cbv\":1233.21,\"csv\":1190.79,\"sv\":1223.8,\"rv\":1200.2},{\"dt\":\"20200615\",\"nv\":1215.5,\"cv\":12.5,\"cr\":1.04,\"cbv\":1236.77,\"csv\":1194.23,\"sv\":1227.4,\"rv\":1203.6},{\"dt\":\"20200612\",\"nv\":1203.0,\"cv\":7.5,\"cr\":0.63,\"cbv\":1224.05,\"csv\":1181.95,\"sv\":1214.7,\"rv\":1191.3},{\"dt\":\"20200611\",\"nv\":1195.5,\"cv\":4.5,\"cr\":0.38,\"cbv\":1216.42,\"csv\":1174.58,\"sv\":1207.2,\"rv\":1183.8},{\"dt\":\"20200610\",\"nv\":1191.0,\"cv\":-10.0,\"cr\":-0.83,\"cbv\":1211.84,\"csv\":1170.16,\"sv\":1202.6,\"rv\":1179.4},{\"dt\":\"20200609\",\"nv\":1201.0,\"cv\":0.0,\"cr\":0.0,\"cbv\":1222.01,\"csv\":1179.99,\"sv\":1212.7,\"rv\":1189.3},{\"dt\":\"20200608\",\"nv\":1201.0,\"cv\":-8.0,\"cr\":-0.66,\"cbv\":1222.01,\"csv\":1179.99,\"sv\":1212.7,\"rv\":1189.3},{\"dt\":\"20200605\",\"nv\":1209.0,\"cv\":-10.5,\"cr\":-0.86,\"cbv\":1230.15,\"csv\":1187.85,\"sv\":1220.8,\"rv\":1197.2},{\"dt\":\"20200604\",\"nv\":1219.5,\"cv\":2.5,\"cr\":0.21,\"cbv\":1240.84,\"csv\":1198.16,\"sv\":1231.4,\"rv\":1207.6},{\"dt\":\"20200603\",\"nv\":1217.0,\"cv\":-5.5,\"cr\":-0.45,\"cbv\":1238.29,\"csv\":1195.71,\"sv\":1228.9,\"rv\":1205.1},{\"dt\":\"20200602\",\"nv\":1222.5,\"cv\":-5.5,\"cr\":-0.45,\"cbv\":1243.89,\"csv\":1201.11,\"sv\":1234.4,\"rv\":1210.6},{\"dt\":\"20200601\",\"nv\":1228.0,\"cv\":-10.0,\"cr\":-0.81,\"cbv\":1249.49,\"csv\":1206.51,\"sv\":1240.0,\"rv\":1216.0},{\"dt\":\"20200529\",\"nv\":1238.0,\"cv\":-2.0,\"cr\":-0.16,\"cbv\":1259.66,\"csv\":1216.34,\"sv\":1250.1,\"rv\":1225.9},{\"dt\":\"20200528\",\"nv\":1240.0,\"cv\":5.5,\"cr\":0.45,\"cbv\":1261.7,\"csv\":1218.3,\"sv\":1252.1,\"rv\":1227.9}]},\"resultCode\":\"success\"}'"
      ]
     },
     "execution_count": 27,
     "metadata": {},
     "output_type": "execute_result"
    }
   ],
   "source": [
    "respond.text"
   ]
  },
  {
   "cell_type": "code",
   "execution_count": 28,
   "metadata": {},
   "outputs": [
    {
     "data": {
      "text/html": [
       "<div>\n",
       "<style scoped>\n",
       "    .dataframe tbody tr th:only-of-type {\n",
       "        vertical-align: middle;\n",
       "    }\n",
       "\n",
       "    .dataframe tbody tr th {\n",
       "        vertical-align: top;\n",
       "    }\n",
       "\n",
       "    .dataframe thead th {\n",
       "        text-align: right;\n",
       "    }\n",
       "</style>\n",
       "<table border=\"1\" class=\"dataframe\">\n",
       "  <thead>\n",
       "    <tr style=\"text-align: right;\">\n",
       "      <th></th>\n",
       "      <th>cbv</th>\n",
       "      <th>cr</th>\n",
       "      <th>csv</th>\n",
       "      <th>cv</th>\n",
       "      <th>dt</th>\n",
       "      <th>nv</th>\n",
       "      <th>rv</th>\n",
       "      <th>sv</th>\n",
       "    </tr>\n",
       "  </thead>\n",
       "  <tbody>\n",
       "    <tr>\n",
       "      <th>98</th>\n",
       "      <td>1259.66</td>\n",
       "      <td>-0.16</td>\n",
       "      <td>1216.34</td>\n",
       "      <td>-2.0</td>\n",
       "      <td>20200529</td>\n",
       "      <td>1238.0</td>\n",
       "      <td>1225.9</td>\n",
       "      <td>1250.1</td>\n",
       "    </tr>\n",
       "    <tr>\n",
       "      <th>99</th>\n",
       "      <td>1261.70</td>\n",
       "      <td>0.45</td>\n",
       "      <td>1218.30</td>\n",
       "      <td>5.5</td>\n",
       "      <td>20200528</td>\n",
       "      <td>1240.0</td>\n",
       "      <td>1227.9</td>\n",
       "      <td>1252.1</td>\n",
       "    </tr>\n",
       "  </tbody>\n",
       "</table>\n",
       "</div>"
      ],
      "text/plain": [
       "        cbv    cr      csv   cv        dt      nv      rv      sv\n",
       "98  1259.66 -0.16  1216.34 -2.0  20200529  1238.0  1225.9  1250.1\n",
       "99  1261.70  0.45  1218.30  5.5  20200528  1240.0  1227.9  1252.1"
      ]
     },
     "execution_count": 28,
     "metadata": {},
     "output_type": "execute_result"
    }
   ],
   "source": [
    "# 3. JSON(str) -> DF\n",
    "datas = respond.json()[\"result\"][\"marketIndexDay\"]\n",
    "usd_df = pd.DataFrame(datas)\n",
    "usd_df.tail(2)"
   ]
  },
  {
   "cell_type": "code",
   "execution_count": 29,
   "metadata": {},
   "outputs": [
    {
     "name": "stdout",
     "output_type": "stream",
     "text": [
      "['20201021' '20201020' '20201019' '20201016' '20201015' '20201014'\n",
      " '20201013' '20201012' '20201008' '20201007' '20201006' '20201005'\n",
      " '20200929' '20200928' '20200925' '20200924' '20200923' '20200922'\n",
      " '20200921' '20200918' '20200917' '20200916' '20200915' '20200914'\n",
      " '20200911' '20200910' '20200909' '20200908' '20200907' '20200904'\n",
      " '20200903' '20200902' '20200901' '20200831' '20200828' '20200827'\n",
      " '20200826' '20200825' '20200824' '20200821' '20200820' '20200819'\n",
      " '20200818' '20200814' '20200813' '20200812' '20200811' '20200810'\n",
      " '20200807' '20200806' '20200805' '20200804' '20200803' '20200731'\n",
      " '20200730' '20200729' '20200728' '20200727' '20200724' '20200723'\n",
      " '20200722' '20200721' '20200720' '20200717' '20200716' '20200715'\n",
      " '20200714' '20200713' '20200710' '20200709' '20200708' '20200707'\n",
      " '20200706' '20200703' '20200702' '20200701' '20200630' '20200629'\n",
      " '20200626' '20200625' '20200624' '20200623' '20200622' '20200619'\n",
      " '20200618' '20200617' '20200616' '20200615' '20200612' '20200611'\n",
      " '20200610' '20200609' '20200608' '20200605' '20200604' '20200603'\n",
      " '20200602' '20200601' '20200529' '20200528']\n"
     ]
    }
   ],
   "source": [
    "print(usd_df[\"dt\"].values)"
   ]
  },
  {
   "cell_type": "code",
   "execution_count": 30,
   "metadata": {},
   "outputs": [],
   "source": [
    "# 데이터 합치기 "
   ]
  },
  {
   "cell_type": "code",
   "execution_count": 31,
   "metadata": {},
   "outputs": [
    {
     "data": {
      "text/html": [
       "<div>\n",
       "<style scoped>\n",
       "    .dataframe tbody tr th:only-of-type {\n",
       "        vertical-align: middle;\n",
       "    }\n",
       "\n",
       "    .dataframe tbody tr th {\n",
       "        vertical-align: top;\n",
       "    }\n",
       "\n",
       "    .dataframe thead th {\n",
       "        text-align: right;\n",
       "    }\n",
       "</style>\n",
       "<table border=\"1\" class=\"dataframe\">\n",
       "  <thead>\n",
       "    <tr style=\"text-align: right;\">\n",
       "      <th></th>\n",
       "      <th>dt</th>\n",
       "      <th>ncv_KOSPI</th>\n",
       "      <th>ncv_KOSDAQ</th>\n",
       "    </tr>\n",
       "  </thead>\n",
       "  <tbody>\n",
       "    <tr>\n",
       "      <th>98</th>\n",
       "      <td>20200529</td>\n",
       "      <td>2029.60</td>\n",
       "      <td>713.68</td>\n",
       "    </tr>\n",
       "    <tr>\n",
       "      <th>99</th>\n",
       "      <td>20200528</td>\n",
       "      <td>2028.54</td>\n",
       "      <td>708.75</td>\n",
       "    </tr>\n",
       "  </tbody>\n",
       "</table>\n",
       "</div>"
      ],
      "text/plain": [
       "          dt  ncv_KOSPI  ncv_KOSDAQ\n",
       "98  20200529    2029.60      713.68\n",
       "99  20200528    2028.54      708.75"
      ]
     },
     "execution_count": 31,
     "metadata": {},
     "output_type": "execute_result"
    }
   ],
   "source": [
    "merge_df_1 = pd.merge(kospi_df, kosdaq_df, left_on = \"dt\", right_on=\"dt\")\n",
    "merge_df_1 = merge_df_1.rename(columns={\"ncv_x\":\"ncv_KOSPI\", \"ncv_y\":\"ncv_KOSDAQ\"})\n",
    "merge_df_1 = merge_df_1[[\"dt\", \"ncv_KOSPI\", \"ncv_KOSDAQ\"]]\n",
    "merge_df_1.tail(2)"
   ]
  },
  {
   "cell_type": "code",
   "execution_count": 32,
   "metadata": {},
   "outputs": [
    {
     "data": {
      "text/html": [
       "<div>\n",
       "<style scoped>\n",
       "    .dataframe tbody tr th:only-of-type {\n",
       "        vertical-align: middle;\n",
       "    }\n",
       "\n",
       "    .dataframe tbody tr th {\n",
       "        vertical-align: top;\n",
       "    }\n",
       "\n",
       "    .dataframe thead th {\n",
       "        text-align: right;\n",
       "    }\n",
       "</style>\n",
       "<table border=\"1\" class=\"dataframe\">\n",
       "  <thead>\n",
       "    <tr style=\"text-align: right;\">\n",
       "      <th></th>\n",
       "      <th>dt</th>\n",
       "      <th>ncv_KOSPI</th>\n",
       "      <th>ncv_KOSDAQ</th>\n",
       "      <th>nv</th>\n",
       "    </tr>\n",
       "  </thead>\n",
       "  <tbody>\n",
       "    <tr>\n",
       "      <th>98</th>\n",
       "      <td>20200529</td>\n",
       "      <td>2029.60</td>\n",
       "      <td>713.68</td>\n",
       "      <td>1238.0</td>\n",
       "    </tr>\n",
       "    <tr>\n",
       "      <th>99</th>\n",
       "      <td>20200528</td>\n",
       "      <td>2028.54</td>\n",
       "      <td>708.75</td>\n",
       "      <td>1240.0</td>\n",
       "    </tr>\n",
       "  </tbody>\n",
       "</table>\n",
       "</div>"
      ],
      "text/plain": [
       "          dt  ncv_KOSPI  ncv_KOSDAQ      nv\n",
       "98  20200529    2029.60      713.68  1238.0\n",
       "99  20200528    2028.54      708.75  1240.0"
      ]
     },
     "execution_count": 32,
     "metadata": {},
     "output_type": "execute_result"
    }
   ],
   "source": [
    "merge_df = pd.merge(merge_df_1, usd_df)[[\"dt\", \"ncv_KOSPI\", \"ncv_KOSDAQ\", \"nv\"]]\n",
    "merge_df.tail(2)"
   ]
  },
  {
   "cell_type": "code",
   "execution_count": 33,
   "metadata": {},
   "outputs": [],
   "source": [
    "# 그래프 그리기 "
   ]
  },
  {
   "cell_type": "code",
   "execution_count": 34,
   "metadata": {},
   "outputs": [],
   "source": [
    "import matplotlib.pyplot as plt\n",
    "# %matplotlib inline"
   ]
  },
  {
   "cell_type": "code",
   "execution_count": 45,
   "metadata": {},
   "outputs": [
    {
     "data": {
      "image/png": "[encoded data removed]",
      "text/plain": [
       "<Figure size 1440x360 with 1 Axes>"
      ]
     },
     "metadata": {
      "needs_background": "light"
     },
     "output_type": "display_data"
    }
   ],
   "source": [
    "plt.figure(figsize =(20,5))\n",
    "\n",
    "plt.plot(merge_df[\"dt\"], merge_df[\"ncv_KOSPI\"], \"r*\", label = \"kospi\")\n",
    "plt.plot(merge_df[\"dt\"], merge_df[\"ncv_KOSDAQ\"], \"bo--\", label = \"kosdaq\")\n",
    "plt.plot(merge_df[\"dt\"], merge_df[\"nv\"], \"g^-\", label = \"usd\")\n",
    "\n",
    "plt.legend(loc=0)\n",
    "\n",
    "# xtick이 항상 10개 출력되도록\n",
    "step = len(merge_df)//10\n",
    "plt.xticks(merge_df[::step][\"dt\"])\n",
    "plt.show()"
   ]
  },
  {
   "cell_type": "markdown",
   "metadata": {},
   "source": [
    "#### 정규화 : normalization\n",
    "- z = (x-min(x)) /(max(x)-min(x))"
   ]
  },
  {
   "cell_type": "code",
   "execution_count": 38,
   "metadata": {},
   "outputs": [],
   "source": [
    "from sklearn import preprocessing"
   ]
  },
  {
   "cell_type": "code",
   "execution_count": 50,
   "metadata": {},
   "outputs": [
    {
     "data": {
      "text/plain": [
       "array([0.82478797, 0.79479086, 0.76667309, 0.75412008, 0.8015372 ,\n",
       "       0.84796646, 0.9025877 , 0.90398516, 0.87562645, 0.86353123])"
      ]
     },
     "execution_count": 50,
     "metadata": {},
     "output_type": "execute_result"
    }
   ],
   "source": [
    "preprocessing.minmax_scale(merge_df[\"ncv_KOSPI\"])[:10]"
   ]
  },
  {
   "cell_type": "code",
   "execution_count": 51,
   "metadata": {},
   "outputs": [
    {
     "data": {
      "image/png": "[encoded data removed]",
      "text/plain": [
       "<Figure size 1440x360 with 1 Axes>"
      ]
     },
     "metadata": {
      "needs_background": "light"
     },
     "output_type": "display_data"
    }
   ],
   "source": [
    "plt.figure(figsize = (20, 5))\n",
    "\n",
    "plt.plot(merge_df[\"dt\"], preprocessing.minmax_scale(merge_df[\"ncv_KOSPI\"]), \"r*:\", label = \"kospi\")\n",
    "plt.plot(merge_df[\"dt\"], preprocessing.minmax_scale(merge_df[\"ncv_KOSDAQ\"]), \"bo--\", label = \"kosdaq\")\n",
    "plt.plot(merge_df[\"dt\"], preprocessing.minmax_scale(merge_df[\"nv\"]), \"g^-\", label = \"usd\")\n",
    "\n",
    "plt.legend(loc=0)\n",
    "\n",
    "plt.show()"
   ]
  },
  {
   "cell_type": "code",
   "execution_count": 52,
   "metadata": {},
   "outputs": [],
   "source": [
    "import numpy as np"
   ]
  },
  {
   "cell_type": "code",
   "execution_count": 59,
   "metadata": {},
   "outputs": [
    {
     "data": {
      "text/plain": [
       "0.9594306670791254"
      ]
     },
     "execution_count": 59,
     "metadata": {},
     "output_type": "execute_result"
    }
   ],
   "source": [
    "np.corrcoef(merge_df[\"ncv_KOSPI\"], merge_df[\"ncv_KOSDAQ\"])[0,1]"
   ]
  },
  {
   "cell_type": "code",
   "execution_count": 60,
   "metadata": {},
   "outputs": [
    {
     "data": {
      "text/plain": [
       "-0.763509897679378"
      ]
     },
     "execution_count": 60,
     "metadata": {},
     "output_type": "execute_result"
    }
   ],
   "source": [
    "np.corrcoef(merge_df[\"ncv_KOSPI\"], merge_df[\"nv\"])[0,1]"
   ]
  },
  {
   "cell_type": "code",
   "execution_count": 61,
   "metadata": {},
   "outputs": [
    {
     "data": {
      "text/plain": [
       "-0.7127569780071198"
      ]
     },
     "execution_count": 61,
     "metadata": {},
     "output_type": "execute_result"
    }
   ],
   "source": [
    "np.corrcoef(merge_df[\"ncv_KOSDAQ\"], merge_df[\"nv\"])[0,1]"
   ]
  },
  {
   "cell_type": "code",
   "execution_count": null,
   "metadata": {},
   "outputs": [],
   "source": []
  },
  {
   "cell_type": "code",
   "execution_count": null,
   "metadata": {},
   "outputs": [],
   "source": []
  },
  {
   "cell_type": "code",
   "execution_count": null,
   "metadata": {},
   "outputs": [],
   "source": []
  }
 ],
 "metadata": {
  "kernelspec": {
   "display_name": "Python 3",
   "language": "python",
   "name": "python3"
  },
  "language_info": {
   "codemirror_mode": {
    "name": "ipython",
    "version": 3
   },
   "file_extension": ".py",
   "mimetype": "text/x-python",
   "name": "python",
   "nbconvert_exporter": "python",
   "pygments_lexer": "ipython3",
   "version": "3.8.3"
  }
 },
 "nbformat": 4,
 "nbformat_minor": 4
}
