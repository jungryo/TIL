{
 "cells": [
  {
   "cell_type": "code",
   "execution_count": 16,
   "metadata": {},
   "outputs": [],
   "source": [
    "import zigbang as zb"
   ]
  },
  {
   "cell_type": "code",
   "execution_count": 17,
   "metadata": {},
   "outputs": [],
   "source": [
    "items_df = zb.crawling_apt(\"망원동\")"
   ]
  },
  {
   "cell_type": "code",
   "execution_count": 18,
   "metadata": {},
   "outputs": [
    {
     "data": {
      "text/html": [
       "<div>\n",
       "<style scoped>\n",
       "    .dataframe tbody tr th:only-of-type {\n",
       "        vertical-align: middle;\n",
       "    }\n",
       "\n",
       "    .dataframe tbody tr th {\n",
       "        vertical-align: top;\n",
       "    }\n",
       "\n",
       "    .dataframe thead th {\n",
       "        text-align: right;\n",
       "    }\n",
       "</style>\n",
       "<table border=\"1\" class=\"dataframe\">\n",
       "  <thead>\n",
       "    <tr style=\"text-align: right;\">\n",
       "      <th></th>\n",
       "      <th>itemId</th>\n",
       "      <th>buildingFloor</th>\n",
       "      <th>groupedItemFloor</th>\n",
       "      <th>lat</th>\n",
       "      <th>lng</th>\n",
       "      <th>sales</th>\n",
       "      <th>itemTitle</th>\n",
       "      <th>m2</th>\n",
       "      <th>p</th>\n",
       "    </tr>\n",
       "  </thead>\n",
       "  <tbody>\n",
       "    <tr>\n",
       "      <th>240</th>\n",
       "      <td>24331900</td>\n",
       "      <td>11</td>\n",
       "      <td>저층</td>\n",
       "      <td>37.551627</td>\n",
       "      <td>126.870296</td>\n",
       "      <td>83000</td>\n",
       "      <td>별도동임 36평 남향 전용30 집아주깨끗해요</td>\n",
       "      <td>118</td>\n",
       "      <td>35</td>\n",
       "    </tr>\n",
       "    <tr>\n",
       "      <th>241</th>\n",
       "      <td>24331906</td>\n",
       "      <td>15</td>\n",
       "      <td>중층</td>\n",
       "      <td>37.551627</td>\n",
       "      <td>126.870296</td>\n",
       "      <td>120000</td>\n",
       "      <td>깨끗 남향 입주가능 날짜협의</td>\n",
       "      <td>136</td>\n",
       "      <td>41</td>\n",
       "    </tr>\n",
       "    <tr>\n",
       "      <th>242</th>\n",
       "      <td>24217482</td>\n",
       "      <td>17</td>\n",
       "      <td>고층</td>\n",
       "      <td>37.551386</td>\n",
       "      <td>126.873552</td>\n",
       "      <td>107000</td>\n",
       "      <td>전망트임  입주가능</td>\n",
       "      <td>106</td>\n",
       "      <td>32</td>\n",
       "    </tr>\n",
       "  </tbody>\n",
       "</table>\n",
       "</div>"
      ],
      "text/plain": [
       "       itemId buildingFloor groupedItemFloor        lat         lng   sales  \\\n",
       "240  24331900            11               저층  37.551627  126.870296   83000   \n",
       "241  24331906            15               중층  37.551627  126.870296  120000   \n",
       "242  24217482            17               고층  37.551386  126.873552  107000   \n",
       "\n",
       "                    itemTitle   m2   p  \n",
       "240  별도동임 36평 남향 전용30 집아주깨끗해요  118  35  \n",
       "241           깨끗 남향 입주가능 날짜협의  136  41  \n",
       "242                전망트임  입주가능  106  32  "
      ]
     },
     "execution_count": 18,
     "metadata": {},
     "output_type": "execute_result"
    }
   ],
   "source": [
    "items_df.tail(3)"
   ]
  },
  {
   "cell_type": "code",
   "execution_count": null,
   "metadata": {},
   "outputs": [],
   "source": []
  },
  {
   "cell_type": "markdown",
   "metadata": {},
   "source": [
    "#### 구글 스프레드 시트에 저장\n",
    "- oauth 개념\n",
    "- oauth 인증 파일 생성\n",
    "    - https://console.developers.google.com\n",
    "    - 프로젝트생성\n",
    "    - 라이브러리 탭 선택 : Google Drive API, Google Sheets API 사용설정\n",
    "    - Oauth 동의화면\n",
    "        - 어플리케이션 이름 설정\n",
    "        - google api 범위 추가 체크 : `../auth/drive`, `../auth/spreadsheets`\n",
    "        - 저장\n",
    "    - 사용자 인증정보\n",
    "        - OAuth 클라이언트 ID 선택\n",
    "    - pygsheets 설치\n",
    "        - conda install -c marta-sd pygsheets\n",
    "        - pip install pygsheets\n",
    "- 스프레드 시트에 크롤링한 데이터 저장 및 로드"
   ]
  },
  {
   "cell_type": "code",
   "execution_count": 2,
   "metadata": {},
   "outputs": [
    {
     "name": "stdout",
     "output_type": "stream",
     "text": [
      "Collecting pygsheets\n",
      "  Using cached pygsheets-2.0.3.1-py3-none-any.whl (103 kB)\n",
      "Requirement already satisfied: google-auth-oauthlib in /Users/jungryolee/opt/anaconda3/lib/python3.8/site-packages (from pygsheets) (0.4.1)\n",
      "Requirement already satisfied: oauth2client in /Users/jungryolee/opt/anaconda3/lib/python3.8/site-packages (from pygsheets) (4.1.3)\n",
      "Requirement already satisfied: google-api-python-client>=1.5.5 in /Users/jungryolee/opt/anaconda3/lib/python3.8/site-packages (from pygsheets) (1.12.5)\n",
      "Requirement already satisfied: google-auth in /Users/jungryolee/opt/anaconda3/lib/python3.8/site-packages (from google-auth-oauthlib->pygsheets) (1.22.1)\n",
      "Requirement already satisfied: requests-oauthlib>=0.7.0 in /Users/jungryolee/opt/anaconda3/lib/python3.8/site-packages (from google-auth-oauthlib->pygsheets) (1.3.0)\n",
      "Requirement already satisfied: rsa>=3.1.4 in /Users/jungryolee/opt/anaconda3/lib/python3.8/site-packages (from oauth2client->pygsheets) (4.6)\n",
      "Requirement already satisfied: httplib2>=0.9.1 in /Users/jungryolee/opt/anaconda3/lib/python3.8/site-packages (from oauth2client->pygsheets) (0.18.1)\n",
      "Requirement already satisfied: pyasn1>=0.1.7 in /Users/jungryolee/opt/anaconda3/lib/python3.8/site-packages (from oauth2client->pygsheets) (0.4.8)\n",
      "Requirement already satisfied: pyasn1-modules>=0.0.5 in /Users/jungryolee/opt/anaconda3/lib/python3.8/site-packages (from oauth2client->pygsheets) (0.2.8)\n",
      "Requirement already satisfied: six>=1.6.1 in /Users/jungryolee/opt/anaconda3/lib/python3.8/site-packages (from oauth2client->pygsheets) (1.15.0)\n",
      "Requirement already satisfied: google-auth-httplib2>=0.0.3 in /Users/jungryolee/opt/anaconda3/lib/python3.8/site-packages (from google-api-python-client>=1.5.5->pygsheets) (0.0.4)\n",
      "Requirement already satisfied: google-api-core<2dev,>=1.21.0 in /Users/jungryolee/opt/anaconda3/lib/python3.8/site-packages (from google-api-python-client>=1.5.5->pygsheets) (1.23.0)\n",
      "Requirement already satisfied: uritemplate<4dev,>=3.0.0 in /Users/jungryolee/opt/anaconda3/lib/python3.8/site-packages (from google-api-python-client>=1.5.5->pygsheets) (3.0.1)\n",
      "Requirement already satisfied: setuptools>=40.3.0 in /Users/jungryolee/opt/anaconda3/lib/python3.8/site-packages (from google-auth->google-auth-oauthlib->pygsheets) (49.2.0.post20200714)\n",
      "Requirement already satisfied: cachetools<5.0,>=2.0.0 in /Users/jungryolee/opt/anaconda3/lib/python3.8/site-packages (from google-auth->google-auth-oauthlib->pygsheets) (4.1.1)\n",
      "Requirement already satisfied: requests>=2.0.0 in /Users/jungryolee/opt/anaconda3/lib/python3.8/site-packages (from requests-oauthlib>=0.7.0->google-auth-oauthlib->pygsheets) (2.24.0)\n",
      "Requirement already satisfied: oauthlib>=3.0.0 in /Users/jungryolee/opt/anaconda3/lib/python3.8/site-packages (from requests-oauthlib>=0.7.0->google-auth-oauthlib->pygsheets) (3.1.0)\n",
      "Requirement already satisfied: googleapis-common-protos<2.0dev,>=1.6.0 in /Users/jungryolee/opt/anaconda3/lib/python3.8/site-packages (from google-api-core<2dev,>=1.21.0->google-api-python-client>=1.5.5->pygsheets) (1.52.0)\n",
      "Requirement already satisfied: protobuf>=3.12.0 in /Users/jungryolee/opt/anaconda3/lib/python3.8/site-packages (from google-api-core<2dev,>=1.21.0->google-api-python-client>=1.5.5->pygsheets) (3.13.0)\n",
      "Requirement already satisfied: pytz in /Users/jungryolee/opt/anaconda3/lib/python3.8/site-packages (from google-api-core<2dev,>=1.21.0->google-api-python-client>=1.5.5->pygsheets) (2020.1)\n",
      "Requirement already satisfied: urllib3!=1.25.0,!=1.25.1,<1.26,>=1.21.1 in /Users/jungryolee/opt/anaconda3/lib/python3.8/site-packages (from requests>=2.0.0->requests-oauthlib>=0.7.0->google-auth-oauthlib->pygsheets) (1.25.9)\n",
      "Requirement already satisfied: idna<3,>=2.5 in /Users/jungryolee/opt/anaconda3/lib/python3.8/site-packages (from requests>=2.0.0->requests-oauthlib>=0.7.0->google-auth-oauthlib->pygsheets) (2.10)\n",
      "Requirement already satisfied: certifi>=2017.4.17 in /Users/jungryolee/opt/anaconda3/lib/python3.8/site-packages (from requests>=2.0.0->requests-oauthlib>=0.7.0->google-auth-oauthlib->pygsheets) (2020.6.20)\n",
      "Requirement already satisfied: chardet<4,>=3.0.2 in /Users/jungryolee/opt/anaconda3/lib/python3.8/site-packages (from requests>=2.0.0->requests-oauthlib>=0.7.0->google-auth-oauthlib->pygsheets) (3.0.4)\n",
      "Installing collected packages: pygsheets\n",
      "Successfully installed pygsheets-2.0.3.1\n",
      "Note: you may need to restart the kernel to use updated packages.\n"
     ]
    }
   ],
   "source": [
    "pip install pygsheets"
   ]
  },
  {
   "cell_type": "code",
   "execution_count": 1,
   "metadata": {},
   "outputs": [],
   "source": [
    "import pygsheets"
   ]
  },
  {
   "cell_type": "code",
   "execution_count": 2,
   "metadata": {},
   "outputs": [
    {
     "name": "stdout",
     "output_type": "stream",
     "text": [
      "Please go to this URL and finish the authentication flow: https://accounts.google.com/o/oauth2/auth?response_type=code&client_id=229320183891-elq9k7m7g7nt1d23q3dpo5anes7dnsjc.apps.googleusercontent.com&redirect_uri=urn%3Aietf%3Awg%3Aoauth%3A2.0%3Aoob&scope=https%3A%2F%2Fwww.googleapis.com%2Fauth%2Fspreadsheets+https%3A%2F%2Fwww.googleapis.com%2Fauth%2Fdrive&state=a9DcTzCBSOnunF8seqoOhEursBEQI5&prompt=consent&access_type=offline\n",
      "Enter the authorization code: 4/1AfDhmriGHv6EnDmluRo7k356k41SvifrCdmvBwRukoa5W6NEV9pdcMv9Sd8\n"
     ]
    }
   ],
   "source": [
    "# acess token 얻기\n",
    "gc = pygsheets.authorize(client_secret = 'client_secret.json', no_cache=True)"
   ]
  },
  {
   "cell_type": "code",
   "execution_count": 4,
   "metadata": {},
   "outputs": [],
   "source": [
    "# 스프레드시트 파일열기 \n",
    "s_file = gc.open(\"zigbang\")"
   ]
  },
  {
   "cell_type": "code",
   "execution_count": 5,
   "metadata": {},
   "outputs": [
    {
     "data": {
      "text/html": [
       "<div>\n",
       "<style scoped>\n",
       "    .dataframe tbody tr th:only-of-type {\n",
       "        vertical-align: middle;\n",
       "    }\n",
       "\n",
       "    .dataframe tbody tr th {\n",
       "        vertical-align: top;\n",
       "    }\n",
       "\n",
       "    .dataframe thead th {\n",
       "        text-align: right;\n",
       "    }\n",
       "</style>\n",
       "<table border=\"1\" class=\"dataframe\">\n",
       "  <thead>\n",
       "    <tr style=\"text-align: right;\">\n",
       "      <th></th>\n",
       "      <th>sepal_length</th>\n",
       "      <th>sepal_width</th>\n",
       "      <th>petal_length</th>\n",
       "      <th>petal_width</th>\n",
       "      <th>species</th>\n",
       "    </tr>\n",
       "  </thead>\n",
       "  <tbody>\n",
       "    <tr>\n",
       "      <th>0</th>\n",
       "      <td>5.1</td>\n",
       "      <td>3.5</td>\n",
       "      <td>1.4</td>\n",
       "      <td>0.2</td>\n",
       "      <td>setosa</td>\n",
       "    </tr>\n",
       "  </tbody>\n",
       "</table>\n",
       "</div>"
      ],
      "text/plain": [
       "   sepal_length  sepal_width  petal_length  petal_width species\n",
       "0           5.1          3.5           1.4          0.2  setosa"
      ]
     },
     "execution_count": 5,
     "metadata": {},
     "output_type": "execute_result"
    }
   ],
   "source": [
    "# 붓꽃 데이터 로드\n",
    "iris_df = sns.load_dataset(\"iris\")\n",
    "iris_df.head(1)"
   ]
  },
  {
   "cell_type": "code",
   "execution_count": 6,
   "metadata": {},
   "outputs": [],
   "source": [
    "# iris 시트 만들기\n",
    "iris_sheet = s_file.add_worksheet(\"iris\")"
   ]
  },
  {
   "cell_type": "code",
   "execution_count": 7,
   "metadata": {},
   "outputs": [],
   "source": [
    "# iris 시트 데이터 프레임 저장\n",
    "iris_sheet.set_dataframe(iris_df, \"A1\")"
   ]
  },
  {
   "cell_type": "code",
   "execution_count": 10,
   "metadata": {},
   "outputs": [],
   "source": [
    "# 시트 삭제\n",
    "s_file.del_worksheet(s_file[0])"
   ]
  },
  {
   "cell_type": "code",
   "execution_count": 11,
   "metadata": {},
   "outputs": [],
   "source": [
    "# 직방 데이터를 크롤링해서 저장"
   ]
  },
  {
   "cell_type": "code",
   "execution_count": 21,
   "metadata": {},
   "outputs": [
    {
     "name": "stdout",
     "output_type": "stream",
     "text": [
      "연남동\n",
      "망원동\n",
      "합정동\n",
      "성수동\n",
      "개포동\n"
     ]
    }
   ],
   "source": [
    "addrs = ['연남동', '망원동', '합정동', '성수동', '개포동']\n",
    "\n",
    "for addr in addrs:\n",
    "    print(addr)\n",
    "    df = zb.crawling_apt(addr)\n",
    "    sheet = s_file.add_worksheet(addr)\n",
    "    sheet.set_dataframe(df, \"A1\")"
   ]
  },
  {
   "cell_type": "code",
   "execution_count": 22,
   "metadata": {},
   "outputs": [],
   "source": [
    "# 데이터 가져오기"
   ]
  },
  {
   "cell_type": "code",
   "execution_count": 23,
   "metadata": {},
   "outputs": [],
   "source": [
    "sheet = s_file.worksheet_by_title(\"개포동\")"
   ]
  },
  {
   "cell_type": "code",
   "execution_count": 24,
   "metadata": {},
   "outputs": [
    {
     "data": {
      "text/html": [
       "<div>\n",
       "<style scoped>\n",
       "    .dataframe tbody tr th:only-of-type {\n",
       "        vertical-align: middle;\n",
       "    }\n",
       "\n",
       "    .dataframe tbody tr th {\n",
       "        vertical-align: top;\n",
       "    }\n",
       "\n",
       "    .dataframe thead th {\n",
       "        text-align: right;\n",
       "    }\n",
       "</style>\n",
       "<table border=\"1\" class=\"dataframe\">\n",
       "  <thead>\n",
       "    <tr style=\"text-align: right;\">\n",
       "      <th></th>\n",
       "      <th>itemId</th>\n",
       "      <th>buildingFloor</th>\n",
       "      <th>groupedItemFloor</th>\n",
       "      <th>lat</th>\n",
       "      <th>lng</th>\n",
       "      <th>sales</th>\n",
       "      <th>itemTitle</th>\n",
       "      <th>m2</th>\n",
       "      <th>p</th>\n",
       "    </tr>\n",
       "  </thead>\n",
       "  <tbody>\n",
       "    <tr>\n",
       "      <th>73</th>\n",
       "      <td>23763545</td>\n",
       "      <td>15</td>\n",
       "      <td>중층</td>\n",
       "      <td>37.484274</td>\n",
       "      <td>127.082615</td>\n",
       "      <td>190000</td>\n",
       "      <td>확장 초특   조망  밝고  조용  일원역도보3분 학군 대모산  쾌적</td>\n",
       "      <td>119</td>\n",
       "      <td>35</td>\n",
       "    </tr>\n",
       "    <tr>\n",
       "      <th>74</th>\n",
       "      <td>23458731</td>\n",
       "      <td>33</td>\n",
       "      <td>고층</td>\n",
       "      <td>37.478439</td>\n",
       "      <td>127.054216</td>\n",
       "      <td>295000</td>\n",
       "      <td>&amp;#127873;39p❤구룡초 숲세권, 조중식 서비스, 커뮤니티 급매물</td>\n",
       "      <td>129</td>\n",
       "      <td>39</td>\n",
       "    </tr>\n",
       "  </tbody>\n",
       "</table>\n",
       "</div>"
      ],
      "text/plain": [
       "      itemId  buildingFloor groupedItemFloor        lat         lng   sales  \\\n",
       "73  23763545             15               중층  37.484274  127.082615  190000   \n",
       "74  23458731             33               고층  37.478439  127.054216  295000   \n",
       "\n",
       "                                  itemTitle   m2   p  \n",
       "73   확장 초특   조망  밝고  조용  일원역도보3분 학군 대모산  쾌적  119  35  \n",
       "74  &#127873;39p❤구룡초 숲세권, 조중식 서비스, 커뮤니티 급매물  129  39  "
      ]
     },
     "execution_count": 24,
     "metadata": {},
     "output_type": "execute_result"
    }
   ],
   "source": [
    "load_df = sheet.get_as_df()\n",
    "load_df.tail(2)"
   ]
  },
  {
   "cell_type": "code",
   "execution_count": null,
   "metadata": {},
   "outputs": [],
   "source": []
  }
 ],
 "metadata": {
  "kernelspec": {
   "display_name": "Python 3",
   "language": "python",
   "name": "python3"
  },
  "language_info": {
   "codemirror_mode": {
    "name": "ipython",
    "version": 3
   },
   "file_extension": ".py",
   "mimetype": "text/x-python",
   "name": "python",
   "nbconvert_exporter": "python",
   "pygments_lexer": "ipython3",
   "version": "3.8.3"
  }
 },
 "nbformat": 4,
 "nbformat_minor": 4
}
