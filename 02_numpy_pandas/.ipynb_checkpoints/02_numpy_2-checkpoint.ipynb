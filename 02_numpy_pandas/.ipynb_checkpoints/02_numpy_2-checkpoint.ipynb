{
 "cells": [
  {
   "cell_type": "markdown",
   "metadata": {},
   "source": [
    "### summary\n",
    "- numpy: 선형대수를 빠르게 연산해주는 패키지\n",
    "- 행렬의 생성1: ndarray, ap.array(iterable)\n",
    "- 행렬의 생성2: ones, zeros\n",
    "- 행렬의 데이터 선택: array[x, y,z]\n",
    "- 행렬 데이터 수정\n",
    "    - 행렬 데이터를 선택\n",
    "    - =, > (scala, vector, matrix)\n",
    "    - broadcasting 브로드캐스팅 개념\n",
    "- arange: list에서 사용하는 range: 결과가 ndarray"
   ]
  },
  {
   "cell_type": "markdown",
   "metadata": {},
   "source": [
    "### quiz \n",
    "- 100~130 까지 랜덤함 순자를 가지는 8*8 행렬을 만들고 \n",
    "- 3의 배수는 fizz, 5의 배수는 buzz, 3과 5의 배수는 fizzbuzz로 변환\n",
    "\n",
    "```\n",
    "datas = np.random.randint(100,130, size = (8,8))\n",
    "```\n",
    "\n",
    "- 데이터 타입이 정수 -> 문자열 : ndarray.astype"
   ]
  },
  {
   "cell_type": "code",
   "execution_count": 2,
   "metadata": {},
   "outputs": [],
   "source": [
    "import numpy as np"
   ]
  },
  {
   "cell_type": "code",
   "execution_count": 42,
   "metadata": {},
   "outputs": [],
   "source": [
    "datas = np.random.randint(100,130, size = (8,8))"
   ]
  },
  {
   "cell_type": "code",
   "execution_count": 43,
   "metadata": {},
   "outputs": [
    {
     "data": {
      "text/plain": [
       "array([[124, 117, 118, 106, 103, 106, 111, 106],\n",
       "       [123, 102, 128, 112, 114, 119, 116, 110],\n",
       "       [112, 103, 104, 123, 123, 106, 108, 114],\n",
       "       [115, 116, 101, 121, 114, 111, 128, 105],\n",
       "       [101, 115, 120, 119, 107, 129, 101, 100],\n",
       "       [101, 126, 109, 123, 115, 129, 118, 113],\n",
       "       [125, 107, 112, 121, 115, 115, 108, 115],\n",
       "       [103, 105, 129, 103, 104, 105, 104, 126]])"
      ]
     },
     "execution_count": 43,
     "metadata": {},
     "output_type": "execute_result"
    }
   ],
   "source": [
    "datas"
   ]
  },
  {
   "cell_type": "code",
   "execution_count": 40,
   "metadata": {},
   "outputs": [],
   "source": [
    "idx1 = datas % 3 == 0"
   ]
  },
  {
   "cell_type": "code",
   "execution_count": 50,
   "metadata": {},
   "outputs": [],
   "source": [
    "# 3의 배수, 5의 배수, 15의 배수 위치값에 대한 T, F matrix 생성\n",
    "idx_3 = datas % 3 == 0\n",
    "idx_5 = datas % 5 == 0\n",
    "idx_15 = datas % 15 == 0"
   ]
  },
  {
   "cell_type": "code",
   "execution_count": 51,
   "metadata": {},
   "outputs": [
    {
     "data": {
      "text/plain": [
       "array([['124', '117', '118', '106', '103', '106', '111', '106'],\n",
       "       ['123', '102', '128', '112', '114', '119', '116', '110'],\n",
       "       ['112', '103', '104', '123', '123', '106', '108', '114'],\n",
       "       ['115', '116', '101', '121', '114', '111', '128', '105'],\n",
       "       ['101', '115', '120', '119', '107', '129', '101', '100'],\n",
       "       ['101', '126', '109', '123', '115', '129', '118', '113'],\n",
       "       ['125', '107', '112', '121', '115', '115', '108', '115'],\n",
       "       ['103', '105', '129', '103', '104', '105', '104', '126']],\n",
       "      dtype='<U21')"
      ]
     },
     "execution_count": 51,
     "metadata": {},
     "output_type": "execute_result"
    }
   ],
   "source": [
    "# 데이터 타입으로 str 으로 변환\n",
    "datas.dtype\n",
    "result = datas.astype(\"str\")\n",
    "result"
   ]
  },
  {
   "cell_type": "code",
   "execution_count": 46,
   "metadata": {},
   "outputs": [],
   "source": [
    "# T, F matrix를 이용하여 특정 조건의 데이터를 선택 후 브로드캐스팅하게 값을 대입"
   ]
  },
  {
   "cell_type": "code",
   "execution_count": 53,
   "metadata": {},
   "outputs": [
    {
     "data": {
      "text/plain": [
       "array([[False,  True, False, False, False, False,  True, False],\n",
       "       [ True,  True, False, False,  True, False, False, False],\n",
       "       [False, False, False,  True,  True, False,  True,  True],\n",
       "       [False, False, False, False,  True,  True, False,  True],\n",
       "       [False, False,  True, False, False,  True, False, False],\n",
       "       [False,  True, False,  True, False,  True, False, False],\n",
       "       [False, False, False, False, False, False,  True, False],\n",
       "       [False,  True,  True, False, False,  True, False,  True]])"
      ]
     },
     "execution_count": 53,
     "metadata": {},
     "output_type": "execute_result"
    }
   ],
   "source": [
    "idx_3"
   ]
  },
  {
   "cell_type": "code",
   "execution_count": 54,
   "metadata": {},
   "outputs": [],
   "source": [
    "result[idx_3] = \"fiz\"\n",
    "result[idx_5] = \"buz\"\n",
    "result[idx_15] = \"fizbuz\""
   ]
  },
  {
   "cell_type": "code",
   "execution_count": 55,
   "metadata": {},
   "outputs": [
    {
     "data": {
      "text/plain": [
       "array([['124', 'fiz', '118', '106', '103', '106', 'fiz', '106'],\n",
       "       ['fiz', 'fiz', '128', '112', 'fiz', '119', '116', 'buz'],\n",
       "       ['112', '103', '104', 'fiz', 'fiz', '106', 'fiz', 'fiz'],\n",
       "       ['buz', '116', '101', '121', 'fiz', 'fiz', '128', 'fizbuz'],\n",
       "       ['101', 'buz', 'fizbuz', '119', '107', 'fiz', '101', 'buz'],\n",
       "       ['101', 'fiz', '109', 'fiz', 'buz', 'fiz', '118', '113'],\n",
       "       ['buz', '107', '112', '121', 'buz', 'buz', 'fiz', 'buz'],\n",
       "       ['103', 'fizbuz', 'fiz', '103', '104', 'fizbuz', '104', 'fiz']],\n",
       "      dtype='<U21')"
      ]
     },
     "execution_count": 55,
     "metadata": {},
     "output_type": "execute_result"
    }
   ],
   "source": [
    "result"
   ]
  },
  {
   "cell_type": "markdown",
   "metadata": {},
   "source": [
    "### Quiz\n",
    "- 1~20까지 랜덤한 숫자를 가지는 5*5 행렬 생성 \n",
    "- 최대값에는 Max, 최소값에는 Min 문자열이 들어가도록 치환하는 코드\n",
    "- 최대값과 최소값 함수 \n",
    "\n",
    "```\n",
    "np.min(ndarray)\n",
    "np.max(ndarray)\n",
    "```"
   ]
  },
  {
   "cell_type": "code",
   "execution_count": 93,
   "metadata": {},
   "outputs": [],
   "source": [
    "array = np.random.randint(1, 20, (5,5))"
   ]
  },
  {
   "cell_type": "code",
   "execution_count": 94,
   "metadata": {},
   "outputs": [
    {
     "data": {
      "text/plain": [
       "array([[14, 11, 15,  6,  2],\n",
       "       [10, 18, 17, 11, 15],\n",
       "       [10,  7, 14, 13, 13],\n",
       "       [19,  5,  9, 13, 19],\n",
       "       [ 6, 19, 17, 13, 17]])"
      ]
     },
     "execution_count": 94,
     "metadata": {},
     "output_type": "execute_result"
    }
   ],
   "source": [
    "array"
   ]
  },
  {
   "cell_type": "code",
   "execution_count": 99,
   "metadata": {},
   "outputs": [
    {
     "data": {
      "text/plain": [
       "(2, 19)"
      ]
     },
     "execution_count": 99,
     "metadata": {},
     "output_type": "execute_result"
    }
   ],
   "source": [
    "idx_min, idx_max = np.min(array), np.max(array)\n",
    "idx_min, idx_max"
   ]
  },
  {
   "cell_type": "code",
   "execution_count": 95,
   "metadata": {},
   "outputs": [],
   "source": [
    "idx_min = array == np.min(array)\n",
    "idx_max = array == np.max(array)\n"
   ]
  },
  {
   "cell_type": "code",
   "execution_count": 96,
   "metadata": {},
   "outputs": [],
   "source": [
    "result = array.astype(\"str\")\n",
    "result[idx_min]=  \"min\"\n",
    "result[idx_max]= \"max\"\n"
   ]
  },
  {
   "cell_type": "code",
   "execution_count": 97,
   "metadata": {},
   "outputs": [
    {
     "data": {
      "text/plain": [
       "array([['14', '11', '15', '6', 'min'],\n",
       "       ['10', '18', '17', '11', '15'],\n",
       "       ['10', '7', '14', '13', '13'],\n",
       "       ['max', '5', '9', '13', 'max'],\n",
       "       ['6', 'max', '17', '13', '17']], dtype='<U21')"
      ]
     },
     "execution_count": 97,
     "metadata": {},
     "output_type": "execute_result"
    }
   ],
   "source": [
    "result"
   ]
  },
  {
   "cell_type": "markdown",
   "metadata": {},
   "source": [
    "### 1. linspace, logsplace 함수\n",
    "- linspace : 설정한 범위에서 선형적으로 분한할 위치의 값을 출력\n",
    "- logspace : 설정한 범위에서 로그한 분할한 위치의 값을 출력"
   ]
  },
  {
   "cell_type": "code",
   "execution_count": 20,
   "metadata": {},
   "outputs": [
    {
     "data": {
      "text/plain": [
       "array([  0.,  25.,  50.,  75., 100.])"
      ]
     },
     "execution_count": 20,
     "metadata": {},
     "output_type": "execute_result"
    }
   ],
   "source": [
    "# linspace \n",
    "np.linspace(0,100,5)"
   ]
  },
  {
   "cell_type": "code",
   "execution_count": 21,
   "metadata": {},
   "outputs": [
    {
     "data": {
      "text/plain": [
       "array([  100.,  1000., 10000.])"
      ]
     },
     "execution_count": 21,
     "metadata": {},
     "output_type": "execute_result"
    }
   ],
   "source": [
    "# logspace \n",
    "# log10(x1) = 2, log10(x2) = 3, log10(x3) = 4 \n",
    "np.logspace(2, 4, 3)"
   ]
  },
  {
   "cell_type": "code",
   "execution_count": 22,
   "metadata": {},
   "outputs": [],
   "source": [
    "# 30세에 연봉이 $10000이고, 60세의 연봉이 $1000000 일때\n",
    "# 연봉이 선형으로 증가 vs.지수함수로 증가하는 두 경우에서 40세, 50세의 연봉을 출력"
   ]
  },
  {
   "cell_type": "code",
   "execution_count": 27,
   "metadata": {},
   "outputs": [],
   "source": [
    "age_30 = 100000\n",
    "age_60 = 1000000"
   ]
  },
  {
   "cell_type": "code",
   "execution_count": 28,
   "metadata": {},
   "outputs": [
    {
     "data": {
      "text/plain": [
       "array([ 100000.,  400000.,  700000., 1000000.])"
      ]
     },
     "execution_count": 28,
     "metadata": {},
     "output_type": "execute_result"
    }
   ],
   "source": [
    "np.linspace(age_30, age_60, 4)"
   ]
  },
  {
   "cell_type": "code",
   "execution_count": 29,
   "metadata": {},
   "outputs": [
    {
     "data": {
      "text/plain": [
       "array([ 100000.        ,  215443.46900319,  464158.88336128,\n",
       "       1000000.        ])"
      ]
     },
     "execution_count": 29,
     "metadata": {},
     "output_type": "execute_result"
    }
   ],
   "source": [
    "np.logspace(np.log10(age_30), np.log10(age_60), 4)"
   ]
  },
  {
   "cell_type": "markdown",
   "metadata": {},
   "source": [
    "### 2. numpy random\n",
    "- seed: 랜덤값의 설정값\n",
    "- rand: 균등분포로 난수를 발생 (뽑힐 확률이 균등)\n",
    "- randn: 정규분포로 난수를 발생 (뽑힐확 률이 정규분포를 따름)\n",
    "- randint: 균등분포로 정수값을 발생\n",
    "- shuffle: 행렬 데이터를 섞어줌\n",
    "- choice: 특정확률로 데이터를 선택"
   ]
  },
  {
   "cell_type": "code",
   "execution_count": 31,
   "metadata": {},
   "outputs": [
    {
     "data": {
      "text/plain": [
       "(array([47, 22, 82, 19, 85, 15, 89, 74, 26, 11]),\n",
       " array([47, 22, 82, 19, 85, 15, 89, 74, 26, 11]),\n",
       " array([34, 13, 66, 82, 10, 31, 29, 84, 51, 20]))"
      ]
     },
     "execution_count": 31,
     "metadata": {},
     "output_type": "execute_result"
    }
   ],
   "source": [
    "# seed\n",
    "np.random.seed(1)\n",
    "result1 = np.random.randint(10,100,10)\n",
    "\n",
    "np.random.seed(1)\n",
    "result2 = np.random.randint(10,100,10)\n",
    "\n",
    "np.random.seed(3)\n",
    "result3 = np.random.randint(10,100,10)\n",
    "\n",
    "result1, result2, result3"
   ]
  },
  {
   "cell_type": "code",
   "execution_count": 32,
   "metadata": {},
   "outputs": [
    {
     "data": {
      "text/plain": [
       "array([0.2478883 , 0.0935515 , 0.69482365, 0.14537014, 0.4531723 ,\n",
       "       0.21557701, 0.35390507, 0.49263593, 0.91330145, 0.76582638])"
      ]
     },
     "execution_count": 32,
     "metadata": {},
     "output_type": "execute_result"
    }
   ],
   "source": [
    "np.random.rand(10)"
   ]
  },
  {
   "cell_type": "code",
   "execution_count": 34,
   "metadata": {},
   "outputs": [
    {
     "data": {
      "text/plain": [
       "array([ 0.31640691,  0.56939549,  1.01924992, -0.57636719, -1.40340536,\n",
       "       -1.88259849,  1.36976982, -0.41159769,  0.62652349, -1.83887166])"
      ]
     },
     "execution_count": 34,
     "metadata": {},
     "output_type": "execute_result"
    }
   ],
   "source": [
    "np.random.randn(10)"
   ]
  },
  {
   "cell_type": "code",
   "execution_count": 35,
   "metadata": {},
   "outputs": [
    {
     "data": {
      "text/plain": [
       "array([[5, 4, 1, 1],\n",
       "       [1, 1, 3, 3],\n",
       "       [8, 1, 6, 1]])"
      ]
     },
     "execution_count": 35,
     "metadata": {},
     "output_type": "execute_result"
    }
   ],
   "source": [
    "# shuffle\n",
    "\n",
    "r = np.random.randint(1,10, (3,4))\n",
    "r"
   ]
  },
  {
   "cell_type": "code",
   "execution_count": 38,
   "metadata": {},
   "outputs": [
    {
     "data": {
      "text/plain": [
       "array([[8, 1, 6, 1],\n",
       "       [5, 4, 1, 1],\n",
       "       [1, 1, 3, 3]])"
      ]
     },
     "execution_count": 38,
     "metadata": {},
     "output_type": "execute_result"
    }
   ],
   "source": [
    "np.random.shuffle(r)\n",
    "r\n",
    "# 가장 바깥 차원에서만 바뀌므로, 함수를 1차원으로 reshape 한 후 shuffle 한 후 다시 원래 차수로 변경해주면 전체 shuffle 가능"
   ]
  },
  {
   "cell_type": "code",
   "execution_count": 40,
   "metadata": {},
   "outputs": [
    {
     "data": {
      "text/plain": [
       "array([2, 3, 2, 3, 2, 2, 0, 2, 4, 2])"
      ]
     },
     "execution_count": 40,
     "metadata": {},
     "output_type": "execute_result"
    }
   ],
   "source": [
    "# choice\n",
    "np.random.choice(5, 10, p=[0.1, 0, 0.4, 0.2, 0.3])"
   ]
  },
  {
   "cell_type": "code",
   "execution_count": 45,
   "metadata": {},
   "outputs": [
    {
     "name": "stdout",
     "output_type": "stream",
     "text": [
      "[1 3 4 5 6 8]\n",
      "[6 2 1 1 1 1]\n"
     ]
    }
   ],
   "source": [
    "# unique\n",
    "numbers, counts = np.unique(r, return_counts = True)\n",
    "print(numbers)\n",
    "print(counts)"
   ]
  },
  {
   "cell_type": "markdown",
   "metadata": {},
   "source": [
    "### 3. 행렬데이터의 결합 \n",
    "- concatenate"
   ]
  },
  {
   "cell_type": "code",
   "execution_count": 62,
   "metadata": {},
   "outputs": [],
   "source": [
    "na1 = np.random.randint(10, size = (2,3))\n",
    "na2 = np.random.randint(10, size = (3,2))\n",
    "na3 = np.random.randint(10, size = (3,3))"
   ]
  },
  {
   "cell_type": "code",
   "execution_count": 63,
   "metadata": {},
   "outputs": [
    {
     "data": {
      "text/plain": [
       "array([[1, 9, 0],\n",
       "       [7, 4, 8]])"
      ]
     },
     "execution_count": 63,
     "metadata": {},
     "output_type": "execute_result"
    }
   ],
   "source": [
    "na1"
   ]
  },
  {
   "cell_type": "code",
   "execution_count": 64,
   "metadata": {},
   "outputs": [
    {
     "data": {
      "text/plain": [
       "array([[8, 4],\n",
       "       [1, 4],\n",
       "       [0, 5]])"
      ]
     },
     "execution_count": 64,
     "metadata": {},
     "output_type": "execute_result"
    }
   ],
   "source": [
    "na2"
   ]
  },
  {
   "cell_type": "code",
   "execution_count": 65,
   "metadata": {},
   "outputs": [
    {
     "data": {
      "text/plain": [
       "array([[6, 7, 0],\n",
       "       [7, 8, 1],\n",
       "       [5, 3, 6]])"
      ]
     },
     "execution_count": 65,
     "metadata": {},
     "output_type": "execute_result"
    }
   ],
   "source": [
    "na3"
   ]
  },
  {
   "cell_type": "code",
   "execution_count": null,
   "metadata": {},
   "outputs": [],
   "source": []
  },
  {
   "cell_type": "code",
   "execution_count": 66,
   "metadata": {},
   "outputs": [],
   "source": [
    "# 세로결합 "
   ]
  },
  {
   "cell_type": "code",
   "execution_count": 67,
   "metadata": {},
   "outputs": [
    {
     "data": {
      "text/plain": [
       "array([[1, 9, 0],\n",
       "       [7, 4, 8],\n",
       "       [6, 7, 0],\n",
       "       [7, 8, 1],\n",
       "       [5, 3, 6]])"
      ]
     },
     "execution_count": 67,
     "metadata": {},
     "output_type": "execute_result"
    }
   ],
   "source": [
    "np.concatenate((na1, na3))"
   ]
  },
  {
   "cell_type": "code",
   "execution_count": 68,
   "metadata": {},
   "outputs": [],
   "source": [
    "# 가로결합"
   ]
  },
  {
   "cell_type": "code",
   "execution_count": 69,
   "metadata": {},
   "outputs": [
    {
     "data": {
      "text/plain": [
       "array([[8, 4, 6, 7, 0],\n",
       "       [1, 4, 7, 8, 1],\n",
       "       [0, 5, 5, 3, 6]])"
      ]
     },
     "execution_count": 69,
     "metadata": {},
     "output_type": "execute_result"
    }
   ],
   "source": [
    "np.concatenate((na2, na3), axis = 1)"
   ]
  },
  {
   "cell_type": "code",
   "execution_count": 71,
   "metadata": {},
   "outputs": [
    {
     "data": {
      "text/plain": [
       "array([[1, 4],\n",
       "       [2, 5],\n",
       "       [3, 6]])"
      ]
     },
     "execution_count": 71,
     "metadata": {},
     "output_type": "execute_result"
    }
   ],
   "source": [
    "# c_, r_\n",
    "np.c_[np.array([1,2,3]), np.array([4,5,6])]"
   ]
  },
  {
   "cell_type": "code",
   "execution_count": 72,
   "metadata": {},
   "outputs": [
    {
     "data": {
      "text/plain": [
       "array([1, 2, 3, 4, 5, 6])"
      ]
     },
     "execution_count": 72,
     "metadata": {},
     "output_type": "execute_result"
    }
   ],
   "source": [
    "np.r_[np.array([1,2,3]), np.array([4,5,6])]"
   ]
  },
  {
   "cell_type": "code",
   "execution_count": 73,
   "metadata": {},
   "outputs": [],
   "source": [
    "# split, car, std, mean ..."
   ]
  },
  {
   "cell_type": "code",
   "execution_count": null,
   "metadata": {},
   "outputs": [],
   "source": []
  }
 ],
 "metadata": {
  "kernelspec": {
   "display_name": "Python 3",
   "language": "python",
   "name": "python3"
  },
  "language_info": {
   "codemirror_mode": {
    "name": "ipython",
    "version": 3
   },
   "file_extension": ".py",
   "mimetype": "text/x-python",
   "name": "python",
   "nbconvert_exporter": "python",
   "pygments_lexer": "ipython3",
   "version": "3.8.3"
  }
 },
 "nbformat": 4,
 "nbformat_minor": 4
}
