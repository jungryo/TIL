{
 "cells": [
  {
   "cell_type": "markdown",
   "metadata": {},
   "source": [
    "### summary\n",
    "- numpy: 선형대수를 빠르게 연산해주는 패키지\n",
    "- 행렬의 생성1: ndarray, ap.array(iterable)\n",
    "- 행렬의 생성2: ones, zeros\n",
    "- 행렬의 데이터 선택: array[x, y,z]\n",
    "- 행렬 데이터 수정\n",
    "    - 행렬 데이터를 선택\n",
    "    - =, > (scala, vector, matrix)\n",
    "    - broadcasting 브로드캐스팅 개념\n",
    "- arange: list에서 사용하는 range: 결과가 ndarray"
   ]
  },
  {
   "cell_type": "markdown",
   "metadata": {},
   "source": [
    "### quiz \n",
    "- 100~130 까지 랜덤함 순자를 가지는 8*8 행렬을 만들고 \n",
    "- 3의 배수는 fizz, 5의 배수는 buzz, 3과 5의 배수는 fizzbuzz로 변환\n",
    "\n",
    "```\n",
    "datas = np.random.randint(100,130, size = (8,8))\n",
    "```\n",
    "\n",
    "- 데이터 타입이 정수 -> 문자열 : ndarray.astype"
   ]
  },
  {
   "cell_type": "code",
   "execution_count": 13,
   "metadata": {},
   "outputs": [],
   "source": [
    "# 100~130 까지 랜덤함 순자를 가지는 8*8 행렬을 만들고\n",
    "\n",
    "matrix = np.random.randint(100, 131, 8*8)"
   ]
  },
  {
   "cell_type": "code",
   "execution_count": 14,
   "metadata": {},
   "outputs": [],
   "source": [
    "idx_3 = matrix % 3 == 0\n",
    "idx_5 = matrix % 5 == 0\n",
    "idx_15 = matrix % 15 == 0"
   ]
  },
  {
   "cell_type": "code",
   "execution_count": 15,
   "metadata": {},
   "outputs": [
    {
     "data": {
      "text/plain": [
       "array([False, False, False, False,  True,  True, False, False, False,\n",
       "       False,  True,  True, False,  True, False,  True,  True, False,\n",
       "       False,  True,  True,  True,  True,  True,  True, False, False,\n",
       "       False,  True, False,  True, False,  True, False, False, False,\n",
       "       False,  True, False, False, False, False, False, False, False,\n",
       "       False, False, False,  True, False, False, False, False, False,\n",
       "       False,  True,  True,  True,  True, False, False,  True, False,\n",
       "       False])"
      ]
     },
     "execution_count": 15,
     "metadata": {},
     "output_type": "execute_result"
    }
   ],
   "source": [
    "idx_3"
   ]
  },
  {
   "cell_type": "code",
   "execution_count": 16,
   "metadata": {},
   "outputs": [],
   "source": [
    "result = matrix.astype(\"str\")"
   ]
  },
  {
   "cell_type": "code",
   "execution_count": 17,
   "metadata": {},
   "outputs": [
    {
     "data": {
      "text/plain": [
       "array(['buz', 'buz', 'buz', 'buz', 'fiz', 'fiz', '121', 'buz', 'buz',\n",
       "       '122', 'fizbuz', 'fizbuz', '121', 'fiz', 'buz', 'fiz', 'fiz',\n",
       "       '128', '104', 'fiz', 'fizbuz', 'fiz', 'fizbuz', 'fizbuz', 'fiz',\n",
       "       'buz', '116', '109', 'fiz', '106', 'fizbuz', '119', 'fiz', '103',\n",
       "       'buz', '103', '107', 'fiz', '127', '101', '113', 'buz', 'buz',\n",
       "       '128', '119', '101', '101', '107', 'fiz', '104', '119', 'buz',\n",
       "       '128', 'buz', '112', 'fiz', 'fiz', 'fiz', 'fiz', '121', '119',\n",
       "       'fizbuz', '109', '127'], dtype='<U21')"
      ]
     },
     "execution_count": 17,
     "metadata": {},
     "output_type": "execute_result"
    }
   ],
   "source": [
    "\n",
    "result[idx_3] = \"fiz\"\n",
    "result[idx_5] = \"buz\"\n",
    "result[idx_15] = \"fizbuz\"\n",
    "result"
   ]
  },
  {
   "cell_type": "code",
   "execution_count": 36,
   "metadata": {},
   "outputs": [],
   "source": [
    "import numpy as np"
   ]
  },
  {
   "cell_type": "code",
   "execution_count": 37,
   "metadata": {},
   "outputs": [],
   "source": [
    "datas = np.random.randint(100, 130, size=(8, 8))"
   ]
  },
  {
   "cell_type": "code",
   "execution_count": 38,
   "metadata": {},
   "outputs": [
    {
     "data": {
      "text/plain": [
       "array([[107, 112, 128, 103, 117, 111, 124, 102],\n",
       "       [116, 116, 125, 129, 123, 106, 129, 101],\n",
       "       [116, 103, 124, 108, 117, 127, 127, 122],\n",
       "       [124, 113, 110, 110, 100, 104, 114, 116],\n",
       "       [102, 111, 109, 109, 127, 113, 108, 119],\n",
       "       [127, 109, 113, 107, 121, 100, 120, 111],\n",
       "       [102, 120, 104, 124, 119, 119, 125, 116],\n",
       "       [119, 109, 115, 124, 127, 108, 121, 117]])"
      ]
     },
     "execution_count": 38,
     "metadata": {},
     "output_type": "execute_result"
    }
   ],
   "source": [
    "datas"
   ]
  },
  {
   "cell_type": "code",
   "execution_count": 39,
   "metadata": {},
   "outputs": [],
   "source": [
    "# 3의 배수, 5의 배수, 15의 배수 위치값에 대한 T, F matrix 생성\n",
    "idx_3 = datas % 3 == 0\n",
    "idx_5 = datas % 5 == 0\n",
    "idx_15 = datas % 15 == 0"
   ]
  },
  {
   "cell_type": "code",
   "execution_count": 40,
   "metadata": {},
   "outputs": [
    {
     "data": {
      "text/plain": [
       "array([['107', '112', '128', '103', '117', '111', '124', '102'],\n",
       "       ['116', '116', '125', '129', '123', '106', '129', '101'],\n",
       "       ['116', '103', '124', '108', '117', '127', '127', '122'],\n",
       "       ['124', '113', '110', '110', '100', '104', '114', '116'],\n",
       "       ['102', '111', '109', '109', '127', '113', '108', '119'],\n",
       "       ['127', '109', '113', '107', '121', '100', '120', '111'],\n",
       "       ['102', '120', '104', '124', '119', '119', '125', '116'],\n",
       "       ['119', '109', '115', '124', '127', '108', '121', '117']],\n",
       "      dtype='<U21')"
      ]
     },
     "execution_count": 40,
     "metadata": {},
     "output_type": "execute_result"
    }
   ],
   "source": [
    "# 데이터 타입으로 str 으로 변환\n",
    "datas.dtype\n",
    "result = datas.astype(\"str\")\n",
    "result"
   ]
  },
  {
   "cell_type": "code",
   "execution_count": 41,
   "metadata": {},
   "outputs": [],
   "source": [
    "# T, F matrix를 이용하여 특정 조건의 데이터를 선택 후 브로드캐스팅하게 값을 대입"
   ]
  },
  {
   "cell_type": "code",
   "execution_count": 42,
   "metadata": {},
   "outputs": [],
   "source": [
    "result[idx_3] = \" fiz\"\n",
    "result[idx_5] = \"buz\"\n",
    "result[idx_15] = \"fizbuz\""
   ]
  },
  {
   "cell_type": "code",
   "execution_count": 33,
   "metadata": {},
   "outputs": [
    {
     "data": {
      "text/plain": [
       "array([['fiz', 'fiz', 'fiz', '127', '114', '127', '107', 'fiz'],\n",
       "       ['114', '102', 'fiz', 'fiz11', '123', '128', '128', '121'],\n",
       "       ['fiz', '129', 'fiz', 'fiz', '118', '115', '115', '113'],\n",
       "       ['fiz', 'fiz', '105', '117', '108', 'fiz', '110', 'fiz'],\n",
       "       ['116', '101', '121', '114', '125', '127', '115', '123'],\n",
       "       ['122', 'fiz', '112', '118', '100', '111', '127', 'fiz'],\n",
       "       ['103', '107', '129', '111', 'fiz11', '104', 'fiz', '125'],\n",
       "       ['fiz', '120', '126', '105', '114', 'fiz', 'fiz', 'fiz']],\n",
       "      dtype='<U21')"
      ]
     },
     "execution_count": 33,
     "metadata": {},
     "output_type": "execute_result"
    }
   ],
   "source": [
    "result"
   ]
  },
  {
   "cell_type": "markdown",
   "metadata": {},
   "source": [
    "### Quiz\n",
    "- 1~20까지 랜덤한 숫자를 가지는 5*5 행렬 생성 \n",
    "- 최대값에는 Max, 최소값에는 Min 문자열이 들어가도록 치환하는 코드\n",
    "- 최대값과 최소값 함수 \n",
    "\n",
    "```\n",
    "np.min(ndarray)\n",
    "np.max(ndarray)\n",
    "```"
   ]
  },
  {
   "cell_type": "code",
   "execution_count": 18,
   "metadata": {},
   "outputs": [],
   "source": [
    "array = np.random.randint(1, 21, (5, 5))"
   ]
  },
  {
   "cell_type": "code",
   "execution_count": 19,
   "metadata": {},
   "outputs": [
    {
     "data": {
      "text/plain": [
       "array([[ 1,  7, 15, 14, 17],\n",
       "       [ 7, 14,  7, 15,  5],\n",
       "       [ 3,  2,  2, 15, 13],\n",
       "       [18, 15,  3,  3, 18],\n",
       "       [17,  5, 17, 16, 13]])"
      ]
     },
     "execution_count": 19,
     "metadata": {},
     "output_type": "execute_result"
    }
   ],
   "source": [
    "array"
   ]
  },
  {
   "cell_type": "code",
   "execution_count": 20,
   "metadata": {},
   "outputs": [
    {
     "data": {
      "text/plain": [
       "(1, 18)"
      ]
     },
     "execution_count": 20,
     "metadata": {},
     "output_type": "execute_result"
    }
   ],
   "source": [
    "idx_min, idx_max = np.min(array), np.max(array)\n",
    "idx_min, idx_max"
   ]
  },
  {
   "cell_type": "code",
   "execution_count": 21,
   "metadata": {},
   "outputs": [],
   "source": [
    "idx_min = array == np.min(array)\n",
    "idx_max = array == np.max(array)"
   ]
  },
  {
   "cell_type": "code",
   "execution_count": 22,
   "metadata": {},
   "outputs": [],
   "source": [
    "result = array.astype(\"str\")\n",
    "result[idx_min] = \"min\"\n",
    "result[idx_max] = \"max\""
   ]
  },
  {
   "cell_type": "code",
   "execution_count": 23,
   "metadata": {},
   "outputs": [
    {
     "data": {
      "text/plain": [
       "array([['min', '7', '15', '14', '17'],\n",
       "       ['7', '14', '7', '15', '5'],\n",
       "       ['3', '2', '2', '15', '13'],\n",
       "       ['max', '15', '3', '3', 'max'],\n",
       "       ['17', '5', '17', '16', '13']], dtype='<U21')"
      ]
     },
     "execution_count": 23,
     "metadata": {},
     "output_type": "execute_result"
    }
   ],
   "source": [
    "result"
   ]
  },
  {
   "cell_type": "markdown",
   "metadata": {},
   "source": [
    "### 1. linspace, logsplace 함수\n",
    "- linspace : 설정한 범위에서 선형적으로 분한할 위치의 값을 출력\n",
    "- logspace : 설정한 범위에서 로그한 분할한 위치의 값을 출력"
   ]
  },
  {
   "cell_type": "code",
   "execution_count": 20,
   "metadata": {},
   "outputs": [
    {
     "data": {
      "text/plain": [
       "array([  0.,  25.,  50.,  75., 100.])"
      ]
     },
     "execution_count": 20,
     "metadata": {},
     "output_type": "execute_result"
    }
   ],
   "source": [
    "# linspace\n",
    "np.linspace(0, 100, 5)"
   ]
  },
  {
   "cell_type": "code",
   "execution_count": 21,
   "metadata": {},
   "outputs": [
    {
     "data": {
      "text/plain": [
       "array([  100.,  1000., 10000.])"
      ]
     },
     "execution_count": 21,
     "metadata": {},
     "output_type": "execute_result"
    }
   ],
   "source": [
    "# logspace\n",
    "# log10(x1) = 2, log10(x2) = 3, log10(x3) = 4\n",
    "np.logspace(2, 4, 3)"
   ]
  },
  {
   "cell_type": "code",
   "execution_count": 22,
   "metadata": {},
   "outputs": [],
   "source": [
    "# 30세에 연봉이 $10000이고, 60세의 연봉이 $1000000 일때\n",
    "# 연봉이 선형으로 증가 vs.지수함수로 증가하는 두 경우에서 40세, 50세의 연봉을 출력"
   ]
  },
  {
   "cell_type": "code",
   "execution_count": 25,
   "metadata": {},
   "outputs": [],
   "source": [
    "age_30 = 100000\n",
    "age_60 = 1000000"
   ]
  },
  {
   "cell_type": "code",
   "execution_count": 26,
   "metadata": {},
   "outputs": [
    {
     "data": {
      "text/plain": [
       "array([ 100000.,  325000.,  550000.,  775000., 1000000.])"
      ]
     },
     "execution_count": 26,
     "metadata": {},
     "output_type": "execute_result"
    }
   ],
   "source": [
    "np.linspace(age_30, age_60, 5)"
   ]
  },
  {
   "cell_type": "code",
   "execution_count": 27,
   "metadata": {},
   "outputs": [
    {
     "data": {
      "text/plain": [
       "array([ 100000.        ,  177827.94100389,  316227.76601684,\n",
       "        562341.32519035, 1000000.        ])"
      ]
     },
     "execution_count": 27,
     "metadata": {},
     "output_type": "execute_result"
    }
   ],
   "source": [
    "np.logspace(np.log10(age_30), np.log10(age_60), 5)"
   ]
  },
  {
   "cell_type": "markdown",
   "metadata": {},
   "source": [
    "### 2. numpy random\n",
    "- seed: 랜덤값의 설정값\n",
    "- rand: 균등분포로 난수를 발생 (뽑힐 확률이 균등)\n",
    "- randn: 정규분포로 난수를 발생 (뽑힐확 률이 정규분포를 따름)\n",
    "- randint: 균등분포로 정수값을 발생\n",
    "- shuffle: 행렬 데이터를 섞어줌\n",
    "- choice: 특정확률로 데이터를 선택"
   ]
  },
  {
   "cell_type": "code",
   "execution_count": 31,
   "metadata": {},
   "outputs": [
    {
     "data": {
      "text/plain": [
       "(array([47, 22, 82, 19, 85, 15, 89, 74, 26, 11]),\n",
       " array([47, 22, 82, 19, 85, 15, 89, 74, 26, 11]),\n",
       " array([34, 13, 66, 82, 10, 31, 29, 84, 51, 20]))"
      ]
     },
     "execution_count": 31,
     "metadata": {},
     "output_type": "execute_result"
    }
   ],
   "source": [
    "# seed\n",
    "np.random.seed(1)\n",
    "result1 = np.random.randint(10, 100, 10)\n",
    "\n",
    "np.random.seed(1)\n",
    "result2 = np.random.randint(10, 100, 10)\n",
    "\n",
    "np.random.seed(3)\n",
    "result3 = np.random.randint(10, 100, 10)\n",
    "\n",
    "result1, result2, result3"
   ]
  },
  {
   "cell_type": "code",
   "execution_count": 32,
   "metadata": {},
   "outputs": [
    {
     "data": {
      "text/plain": [
       "array([0.2478883 , 0.0935515 , 0.69482365, 0.14537014, 0.4531723 ,\n",
       "       0.21557701, 0.35390507, 0.49263593, 0.91330145, 0.76582638])"
      ]
     },
     "execution_count": 32,
     "metadata": {},
     "output_type": "execute_result"
    }
   ],
   "source": [
    "np.random.rand(10)"
   ]
  },
  {
   "cell_type": "code",
   "execution_count": 34,
   "metadata": {},
   "outputs": [
    {
     "data": {
      "text/plain": [
       "array([ 0.31640691,  0.56939549,  1.01924992, -0.57636719, -1.40340536,\n",
       "       -1.88259849,  1.36976982, -0.41159769,  0.62652349, -1.83887166])"
      ]
     },
     "execution_count": 34,
     "metadata": {},
     "output_type": "execute_result"
    }
   ],
   "source": [
    "np.random.randn(10)"
   ]
  },
  {
   "cell_type": "code",
   "execution_count": 68,
   "metadata": {},
   "outputs": [
    {
     "data": {
      "text/plain": [
       "array([[6, 8, 4, 7],\n",
       "       [8, 8, 5, 6],\n",
       "       [8, 8, 8, 5]])"
      ]
     },
     "execution_count": 68,
     "metadata": {},
     "output_type": "execute_result"
    }
   ],
   "source": [
    "# shuffle\n",
    "\n",
    "r = np.random.randint(1, 10, (3, 4))\n",
    "r"
   ]
  },
  {
   "cell_type": "code",
   "execution_count": 55,
   "metadata": {},
   "outputs": [
    {
     "data": {
      "text/plain": [
       "array([[5, 5, 6, 4],\n",
       "       [3, 8, 7, 6],\n",
       "       [5, 8, 8, 6]])"
      ]
     },
     "execution_count": 55,
     "metadata": {},
     "output_type": "execute_result"
    }
   ],
   "source": [
    "a = r.reshape(12)\n",
    "np.random.shuffle(a)\n",
    "\n",
    "a.reshape(3,4)\n",
    "\n",
    "# 가장 바깥 차원에서만 바뀌므로, 함수를 1차원으로 reshape 한 후 shuffle 한 후 다시 원래 차수로 변경해주면 전체 shuffle 가능"
   ]
  },
  {
   "cell_type": "code",
   "execution_count": 60,
   "metadata": {},
   "outputs": [
    {
     "data": {
      "text/plain": [
       "array([1, 4, 0, 0, 2, 4, 2, 4, 0, 3])"
      ]
     },
     "execution_count": 60,
     "metadata": {},
     "output_type": "execute_result"
    }
   ],
   "source": [
    "# choice\n",
    "np.random.choice(5, 10, p=[0.2, 0.2, 0.2, 0.2, 0.2])"
   ]
  },
  {
   "cell_type": "code",
   "execution_count": 69,
   "metadata": {},
   "outputs": [
    {
     "name": "stdout",
     "output_type": "stream",
     "text": [
      "[4 5 6 7 8]\n",
      "[1 2 2 1 6]\n"
     ]
    }
   ],
   "source": [
    "# unique\n",
    "numbers, counts = np.unique(r, return_counts=True)\n",
    "print(numbers)\n",
    "print(counts)\n"
   ]
  },
  {
   "cell_type": "markdown",
   "metadata": {},
   "source": [
    "### 3. 행렬데이터의 결합 \n",
    "- concatenate"
   ]
  },
  {
   "cell_type": "code",
   "execution_count": 5,
   "metadata": {},
   "outputs": [],
   "source": [
    "na1 = np.random.randint(10, size=(1,2))\n",
    "na2 = np.random.randint(10, size=(1, 2))\n",
    "na3 = np.random.randint(10, size=(3, 3))"
   ]
  },
  {
   "cell_type": "code",
   "execution_count": 6,
   "metadata": {},
   "outputs": [
    {
     "data": {
      "text/plain": [
       "array([[1, 0]])"
      ]
     },
     "execution_count": 6,
     "metadata": {},
     "output_type": "execute_result"
    }
   ],
   "source": [
    "na1"
   ]
  },
  {
   "cell_type": "code",
   "execution_count": 7,
   "metadata": {},
   "outputs": [
    {
     "data": {
      "text/plain": [
       "array([[4, 4]])"
      ]
     },
     "execution_count": 7,
     "metadata": {},
     "output_type": "execute_result"
    }
   ],
   "source": [
    "na2"
   ]
  },
  {
   "cell_type": "code",
   "execution_count": 75,
   "metadata": {},
   "outputs": [
    {
     "data": {
      "text/plain": [
       "array([[3, 5, 8],\n",
       "       [5, 7, 8],\n",
       "       [9, 2, 1]])"
      ]
     },
     "execution_count": 75,
     "metadata": {},
     "output_type": "execute_result"
    }
   ],
   "source": [
    "na3"
   ]
  },
  {
   "cell_type": "code",
   "execution_count": 66,
   "metadata": {},
   "outputs": [],
   "source": [
    "# 세로결합"
   ]
  },
  {
   "cell_type": "code",
   "execution_count": 8,
   "metadata": {},
   "outputs": [
    {
     "data": {
      "text/plain": [
       "array([[1, 0],\n",
       "       [4, 4]])"
      ]
     },
     "execution_count": 8,
     "metadata": {},
     "output_type": "execute_result"
    }
   ],
   "source": [
    "np.concatenate((na1, na2))"
   ]
  },
  {
   "cell_type": "code",
   "execution_count": 68,
   "metadata": {},
   "outputs": [],
   "source": [
    "# 가로결합"
   ]
  },
  {
   "cell_type": "code",
   "execution_count": 69,
   "metadata": {},
   "outputs": [
    {
     "data": {
      "text/plain": [
       "array([[8, 4, 6, 7, 0],\n",
       "       [1, 4, 7, 8, 1],\n",
       "       [0, 5, 5, 3, 6]])"
      ]
     },
     "execution_count": 69,
     "metadata": {},
     "output_type": "execute_result"
    }
   ],
   "source": [
    "np.concatenate((na2, na3), axis=1)"
   ]
  },
  {
   "cell_type": "code",
   "execution_count": 71,
   "metadata": {},
   "outputs": [
    {
     "data": {
      "text/plain": [
       "array([[1, 4],\n",
       "       [2, 5],\n",
       "       [3, 6]])"
      ]
     },
     "execution_count": 71,
     "metadata": {},
     "output_type": "execute_result"
    }
   ],
   "source": [
    "# c_, r_\n",
    "np.c_[np.array([1, 2, 3]), np.array([4, 5, 6])]"
   ]
  },
  {
   "cell_type": "code",
   "execution_count": 72,
   "metadata": {},
   "outputs": [
    {
     "data": {
      "text/plain": [
       "array([1, 2, 3, 4, 5, 6])"
      ]
     },
     "execution_count": 72,
     "metadata": {},
     "output_type": "execute_result"
    }
   ],
   "source": [
    "np.r_[np.array([1, 2, 3]), np.array([4, 5, 6])]"
   ]
  },
  {
   "cell_type": "code",
   "execution_count": 73,
   "metadata": {},
   "outputs": [],
   "source": [
    "# split, car, std, mean ..."
   ]
  },
  {
   "cell_type": "code",
   "execution_count": null,
   "metadata": {},
   "outputs": [],
   "source": []
  }
 ],
 "metadata": {
  "kernelspec": {
   "display_name": "Python 3",
   "language": "python",
   "name": "python3"
  },
  "language_info": {
   "codemirror_mode": {
    "name": "ipython",
    "version": 3
   },
   "file_extension": ".py",
   "mimetype": "text/x-python",
   "name": "python",
   "nbconvert_exporter": "python",
   "pygments_lexer": "ipython3",
   "version": "3.8.3"
  }
 },
 "nbformat": 4,
 "nbformat_minor": 4
}
