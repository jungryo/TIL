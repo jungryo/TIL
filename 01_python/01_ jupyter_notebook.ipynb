{
 "cells": [
  {
   "cell_type": "markdown",
   "metadata": {},
   "source": [
    "### Jupyter Notebook\n",
    "- mode\n",
    "    - 명령모드(esc): 셀을 수정할 때 사용\n",
    "    - 편집모드(enter): 셀의 내용을 수정할 때 사용\n",
    "- style\n",
    "    - markdown: 셀 안의 설명을 작성할 때 사용\n",
    "    - code: 파이썬 코드를 작성할 때 사용\n",
    "- 셀 실행: shift+enter"
   ]
  },
  {
   "cell_type": "code",
   "execution_count": 1,
   "metadata": {},
   "outputs": [
    {
     "data": {
      "text/plain": [
       "3"
      ]
     },
     "execution_count": 1,
     "metadata": {},
     "output_type": "execute_result"
    }
   ],
   "source": [
    "1+2"
   ]
  },
  {
   "cell_type": "markdown",
   "metadata": {},
   "source": [
    "#### Magic Command\n",
    "- 셀 내부에서 특별하게 동작하는 커맨드\n",
    "- % : 한줄의 maigic command를 동작\n",
    "- %% : 셀 단위의 magic command를 동작 \n",
    "- 주요 magic command\n",
    "    - pdw: 현재 주피터 노트북 파일의 경로\n",
    "    - ls: 현재 디렉토리의 파일리트\n",
    "    - whos:  현재 선언된 변수를 출력\n",
    "    - reset: 현재 선언된 변수를 모두 삭제"
   ]
  },
  {
   "cell_type": "code",
   "execution_count": 10,
   "metadata": {},
   "outputs": [],
   "source": [
    "\n",
    "ls = [1,2,3,4]\n"
   ]
  },
  {
   "cell_type": "code",
   "execution_count": 16,
   "metadata": {},
   "outputs": [
    {
     "name": "stdout",
     "output_type": "stream",
     "text": [
      "01_ jupyter_notebook.ipynb  03_condition_loop.ipynb\r\n",
      "02_basic_syntax.ipynb       04_function.ipynb\r\n"
     ]
    }
   ],
   "source": [
    "%ls"
   ]
  },
  {
   "cell_type": "code",
   "execution_count": 6,
   "metadata": {},
   "outputs": [
    {
     "name": "stdout",
     "output_type": "stream",
     "text": [
      "Once deleted, variables cannot be recovered. Proceed (y/[n])? y\n"
     ]
    }
   ],
   "source": [
    "%reset"
   ]
  },
  {
   "cell_type": "markdown",
   "metadata": {},
   "source": [
    "#### Shell Command\n",
    "- 주피터 노트북을 시행하는 쉘 환경의 명령을 사용\n",
    "- 명령어 앞에 !를 붙여서 실행 \n",
    "- 주요 명령어 \n",
    "    -ls, cat, echo..."
   ]
  },
  {
   "cell_type": "code",
   "execution_count": 18,
   "metadata": {},
   "outputs": [
    {
     "name": "stdout",
     "output_type": "stream",
     "text": [
      "python\r\n"
     ]
    }
   ],
   "source": [
    "! echo python"
   ]
  },
  {
   "cell_type": "code",
   "execution_count": 19,
   "metadata": {},
   "outputs": [
    {
     "name": "stdout",
     "output_type": "stream",
     "text": [
      "01_ jupyter_notebook.ipynb 03_condition_loop.ipynb\r\n",
      "02_basic_syntax.ipynb      04_function.ipynb\r\n"
     ]
    }
   ],
   "source": [
    "!ls"
   ]
  },
  {
   "cell_type": "code",
   "execution_count": null,
   "metadata": {},
   "outputs": [],
   "source": []
  },
  {
   "cell_type": "code",
   "execution_count": null,
   "metadata": {},
   "outputs": [],
   "source": []
  }
 ],
 "metadata": {
  "kernelspec": {
   "display_name": "Python 3",
   "language": "python",
   "name": "python3"
  },
  "language_info": {
   "codemirror_mode": {
    "name": "ipython",
    "version": 3
   },
   "file_extension": ".py",
   "mimetype": "text/x-python",
   "name": "python",
   "nbconvert_exporter": "python",
   "pygments_lexer": "ipython3",
   "version": "3.8.3"
  }
 },
 "nbformat": 4,
 "nbformat_minor": 4
}
