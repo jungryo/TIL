{
 "cells": [
  {
   "cell_type": "markdown",
   "metadata": {},
   "source": [
    "### summary\n",
    "- 상속: 다른 클래스를 받아서 기능을 추가해서 새로운 클래스를 만드는 방법\n",
    "- super: 부모 클래스에스 특정 함수의 코드를 가져오는 방법\n",
    "- getter, setter: 클래스로 만들어진 객체에 변수값을 수정하거나 출력할 때 특정 함수를 통해서 수정, 출력하는 방법\n",
    "- non public(private): mangling(`__) -> _(클래스명)` 이 붙은 변수로 객체를 생성할 때 변경이 되어서 생성 \n",
    "- is a / has a : 클래스를 설계하는 방법\n",
    "- magic(special) method \n",
    "    - 비교: \n",
    "        - `__eg__`(==),`__ne__`(!=),`__lt__`(<),`__gt__`(>), `__le__`(<=),`__ge__`(>=)\n",
    "    - 연산: \n",
    "        - `__add__`,`__sub__`,`__mul__`,`__truediv__`(/),`__floordiv__`(//),`__mod__`(%), `__pow__`(**)\n",
    "    - 그외: \n",
    "        - `__repr__`, `__str__`"
   ]
  },
  {
   "cell_type": "code",
   "execution_count": 17,
   "metadata": {},
   "outputs": [],
   "source": [
    "# Integer 객체\n",
    "class Integer:\n",
    "    \n",
    "    def __init__(self, num):\n",
    "        self.num = num\n",
    "        \n",
    "    def __add__(self, obj):\n",
    "        return self.num + obj.num\n",
    "        \n",
    "    def __repr__(self):\n",
    "        return str(self.num)\n",
    "    \n",
    "    def __str__(self):\n",
    "        return str(self.num)"
   ]
  },
  {
   "cell_type": "code",
   "execution_count": 18,
   "metadata": {},
   "outputs": [],
   "source": [
    "num1 = Integer(1)\n",
    "num2 = Integer(2)"
   ]
  },
  {
   "cell_type": "code",
   "execution_count": 19,
   "metadata": {},
   "outputs": [
    {
     "data": {
      "text/plain": [
       "1"
      ]
     },
     "execution_count": 19,
     "metadata": {},
     "output_type": "execute_result"
    }
   ],
   "source": [
    "num1.num"
   ]
  },
  {
   "cell_type": "code",
   "execution_count": 20,
   "metadata": {},
   "outputs": [
    {
     "data": {
      "text/plain": [
       "3"
      ]
     },
     "execution_count": 20,
     "metadata": {},
     "output_type": "execute_result"
    }
   ],
   "source": [
    "num1.num + num2.num"
   ]
  },
  {
   "cell_type": "code",
   "execution_count": 21,
   "metadata": {},
   "outputs": [
    {
     "data": {
      "text/plain": [
       "3"
      ]
     },
     "execution_count": 21,
     "metadata": {},
     "output_type": "execute_result"
    }
   ],
   "source": [
    "num1+num2"
   ]
  },
  {
   "cell_type": "code",
   "execution_count": 25,
   "metadata": {},
   "outputs": [
    {
     "data": {
      "text/plain": [
       "1"
      ]
     },
     "execution_count": 25,
     "metadata": {},
     "output_type": "execute_result"
    }
   ],
   "source": [
    "num1"
   ]
  },
  {
   "cell_type": "code",
   "execution_count": 24,
   "metadata": {},
   "outputs": [
    {
     "name": "stdout",
     "output_type": "stream",
     "text": [
      "1\n"
     ]
    }
   ],
   "source": [
    "print(num1)"
   ]
  },
  {
   "cell_type": "code",
   "execution_count": 26,
   "metadata": {},
   "outputs": [],
   "source": [
    "# 계좌 클래스 만들기 : \n",
    "# 변수 : 자산(asset), 이자율(interest)\n",
    "# 함수 : 인출(draw), 입금(insert), 이자추가(add_interest)\n",
    "# 인출시 자산 이상의 돈을 인출할 수 없음"
   ]
  },
  {
   "cell_type": "code",
   "execution_count": 67,
   "metadata": {},
   "outputs": [],
   "source": [
    "class Account: \n",
    "    \n",
    "    def __init__(self, asset=10000, inti = 1.05):\n",
    "        self.asset = asset\n",
    "        self.inti = inti\n",
    "    \n",
    "    def insert(self, in_money):\n",
    "        self.asset += in_money\n",
    "        print (\"현재 잔액은 {}원 입니다.\".format(self.asset))\n",
    "        return self.asset\n",
    "    \n",
    "    def draw(self, dr_money):\n",
    "        if self.asset >= dr_money:\n",
    "            self.asset -= dr_money\n",
    "            print (\"현재 잔액은 {}원 입니다.\".format(self.asset))\n",
    "            return self.asset\n",
    "        else:\n",
    "            print(\"잔액이 부족합니다.\")\n",
    "            return self.asset\n",
    "        \n",
    "    def add_interest(self):\n",
    "        self.asset *= self.inti\n",
    "        print (\"이자가 지급되었습니다.\", \"현재 잔액은 {}원 입니다.\".format(self.asset), sep= \"\\n\")\n",
    "        return self.asset\n",
    "    \n",
    "    def __repr__(self):\n",
    "        return \"Account(asset:{}, interest:{})\".format(self.asset, self.inti)\n",
    "        \n",
    "        "
   ]
  },
  {
   "cell_type": "code",
   "execution_count": 68,
   "metadata": {},
   "outputs": [],
   "source": [
    "user = Account()"
   ]
  },
  {
   "cell_type": "code",
   "execution_count": 69,
   "metadata": {},
   "outputs": [
    {
     "name": "stdout",
     "output_type": "stream",
     "text": [
      "현재 잔액은 10500원 입니다.\n"
     ]
    },
    {
     "data": {
      "text/plain": [
       "10500"
      ]
     },
     "execution_count": 69,
     "metadata": {},
     "output_type": "execute_result"
    }
   ],
   "source": [
    "user.insert(500)"
   ]
  },
  {
   "cell_type": "code",
   "execution_count": 70,
   "metadata": {},
   "outputs": [
    {
     "name": "stdout",
     "output_type": "stream",
     "text": [
      "현재 잔액은 2500원 입니다.\n"
     ]
    },
    {
     "data": {
      "text/plain": [
       "2500"
      ]
     },
     "execution_count": 70,
     "metadata": {},
     "output_type": "execute_result"
    }
   ],
   "source": [
    "user.draw(8000)"
   ]
  },
  {
   "cell_type": "code",
   "execution_count": 71,
   "metadata": {},
   "outputs": [
    {
     "name": "stdout",
     "output_type": "stream",
     "text": [
      "이자가 지급되었습니다.\n",
      "현재 잔액은 2625.0원 입니다.\n"
     ]
    },
    {
     "data": {
      "text/plain": [
       "2625.0"
      ]
     },
     "execution_count": 71,
     "metadata": {},
     "output_type": "execute_result"
    }
   ],
   "source": [
    "user.add_interest()"
   ]
  },
  {
   "cell_type": "code",
   "execution_count": 51,
   "metadata": {},
   "outputs": [
    {
     "data": {
      "text/plain": [
       "Account(asset:2625.0, interest:1.05)"
      ]
     },
     "execution_count": 51,
     "metadata": {},
     "output_type": "execute_result"
    }
   ],
   "source": [
    "user"
   ]
  },
  {
   "cell_type": "code",
   "execution_count": 72,
   "metadata": {},
   "outputs": [
    {
     "name": "stdout",
     "output_type": "stream",
     "text": [
      "현재 잔액은 4625.0원 입니다.\n"
     ]
    },
    {
     "data": {
      "text/plain": [
       "4625.0"
      ]
     },
     "execution_count": 72,
     "metadata": {},
     "output_type": "execute_result"
    }
   ],
   "source": [
    "user.insert(2000)"
   ]
  },
  {
   "cell_type": "markdown",
   "metadata": {},
   "source": [
    "## Module Package\n",
    "- 모듈: 변수, 함수, 클래스를 모아놓은 (.py) 확장자를 가진 파일\n",
    "- 패키지 : 모듈의 기능을 디렉토리별로 정리해놓은 개념"
   ]
  },
  {
   "cell_type": "markdown",
   "metadata": {},
   "source": [
    "### 1. 모듈\n",
    "- 모듈 생성\n",
    "- 모듈 호출"
   ]
  },
  {
   "cell_type": "code",
   "execution_count": 73,
   "metadata": {},
   "outputs": [
    {
     "name": "stdout",
     "output_type": "stream",
     "text": [
      "01_ jupyter_notebook.ipynb 05_function_2.ipynb\r\n",
      "02_basic_syntax.ipynb      06_Class_1.ipynb\r\n",
      "03_condition_loop.ipynb    07_class_2.ipynb\r\n",
      "04_function.ipynb          08_module_package.ipynb\r\n"
     ]
    }
   ],
   "source": [
    "!ls"
   ]
  },
  {
   "cell_type": "code",
   "execution_count": 15,
   "metadata": {},
   "outputs": [
    {
     "name": "stdout",
     "output_type": "stream",
     "text": [
      "Writing dss.py\n"
     ]
    }
   ],
   "source": [
    "%%writefile dss.py\n",
    "# %% -> 셀내용 전부 writefile적용, dss.py -> 이 이름과 확장자의 파일을 만들어서 저장하겠다\n",
    "\n",
    "num = 1234\n",
    "\n",
    "def disp1(msg):\n",
    "    print(\"disp1\", msg)\n",
    "    \n",
    "def disp2(msg):\n",
    "    print(\"disp2\", msg)\n",
    "    \n",
    "class Calc:\n",
    "    def plus(self, *args):\n",
    "        return sum(args)"
   ]
  },
  {
   "cell_type": "code",
   "execution_count": 78,
   "metadata": {},
   "outputs": [
    {
     "name": "stdout",
     "output_type": "stream",
     "text": [
      "01_ jupyter_notebook.ipynb 06_Class_1.ipynb\r\n",
      "02_basic_syntax.ipynb      07_class_2.ipynb\r\n",
      "03_condition_loop.ipynb    08_module_package.ipynb\r\n",
      "04_function.ipynb          dss.py\r\n",
      "05_function_2.ipynb\r\n"
     ]
    }
   ],
   "source": [
    "!ls"
   ]
  },
  {
   "cell_type": "code",
   "execution_count": 97,
   "metadata": {},
   "outputs": [
    {
     "name": "stdout",
     "output_type": "stream",
     "text": [
      "Once deleted, variables cannot be recovered. Proceed (y/[n])? ㅛ\n",
      "Once deleted, variables cannot be recovered. Proceed (y/[n])? y\n"
     ]
    }
   ],
   "source": [
    "%reset"
   ]
  },
  {
   "cell_type": "code",
   "execution_count": 81,
   "metadata": {},
   "outputs": [
    {
     "name": "stdout",
     "output_type": "stream",
     "text": [
      "Interactive namespace is empty.\n"
     ]
    }
   ],
   "source": [
    "%whos"
   ]
  },
  {
   "cell_type": "code",
   "execution_count": 82,
   "metadata": {},
   "outputs": [],
   "source": [
    "# 모듈 호출 : import\n",
    "import dss"
   ]
  },
  {
   "cell_type": "code",
   "execution_count": 83,
   "metadata": {},
   "outputs": [
    {
     "name": "stdout",
     "output_type": "stream",
     "text": [
      "Variable   Type      Data/Info\n",
      "------------------------------\n",
      "dss        module    <module 'dss' from '/User<...>dss0/programming/dss.py'>\n"
     ]
    }
   ],
   "source": [
    "%whos"
   ]
  },
  {
   "cell_type": "code",
   "execution_count": 84,
   "metadata": {},
   "outputs": [
    {
     "data": {
      "text/plain": [
       "1234"
      ]
     },
     "execution_count": 84,
     "metadata": {},
     "output_type": "execute_result"
    }
   ],
   "source": [
    "dss.num"
   ]
  },
  {
   "cell_type": "code",
   "execution_count": 85,
   "metadata": {},
   "outputs": [
    {
     "name": "stdout",
     "output_type": "stream",
     "text": [
      "disp1 python\n"
     ]
    }
   ],
   "source": [
    "dss.disp1(\"python\")"
   ]
  },
  {
   "cell_type": "code",
   "execution_count": 86,
   "metadata": {},
   "outputs": [],
   "source": [
    "calc = dss.Calc()"
   ]
  },
  {
   "cell_type": "code",
   "execution_count": 88,
   "metadata": {},
   "outputs": [
    {
     "data": {
      "text/plain": [
       "10"
      ]
     },
     "execution_count": 88,
     "metadata": {},
     "output_type": "execute_result"
    }
   ],
   "source": [
    "calc.plus(1,2,3,4)"
   ]
  },
  {
   "cell_type": "code",
   "execution_count": 92,
   "metadata": {},
   "outputs": [],
   "source": [
    "# random이라는 모듈을 가져오기\n",
    "import random "
   ]
  },
  {
   "cell_type": "code",
   "execution_count": 93,
   "metadata": {},
   "outputs": [
    {
     "data": {
      "text/plain": [
       "3"
      ]
     },
     "execution_count": 93,
     "metadata": {},
     "output_type": "execute_result"
    }
   ],
   "source": [
    "# random 모듈안에 randint()함수 사용하기\n",
    "random.randint(1,10)"
   ]
  },
  {
   "cell_type": "code",
   "execution_count": 95,
   "metadata": {},
   "outputs": [],
   "source": [
    "# 모듈 안의 특정 함수, 변수, 클래스 호출 _ 해당 기능을 간결하게 사용가능"
   ]
  },
  {
   "cell_type": "code",
   "execution_count": 98,
   "metadata": {},
   "outputs": [],
   "source": [
    "from dss import num, disp2"
   ]
  },
  {
   "cell_type": "code",
   "execution_count": 99,
   "metadata": {},
   "outputs": [
    {
     "name": "stdout",
     "output_type": "stream",
     "text": [
      "Variable   Type        Data/Info\n",
      "--------------------------------\n",
      "disp2      function    <function disp2 at 0x7f834ff23790>\n",
      "num        int         1234\n"
     ]
    }
   ],
   "source": [
    "%whos"
   ]
  },
  {
   "cell_type": "code",
   "execution_count": 100,
   "metadata": {},
   "outputs": [
    {
     "data": {
      "text/plain": [
       "1234"
      ]
     },
     "execution_count": 100,
     "metadata": {},
     "output_type": "execute_result"
    }
   ],
   "source": [
    "num"
   ]
  },
  {
   "cell_type": "code",
   "execution_count": 102,
   "metadata": {},
   "outputs": [
    {
     "name": "stdout",
     "output_type": "stream",
     "text": [
      "disp2 aaa\n"
     ]
    }
   ],
   "source": [
    "disp2(\"aaa\")"
   ]
  },
  {
   "cell_type": "code",
   "execution_count": 103,
   "metadata": {},
   "outputs": [],
   "source": [
    "# 모듈의 모든 변수를 가져오는 방법\n",
    "from dss import *"
   ]
  },
  {
   "cell_type": "code",
   "execution_count": 105,
   "metadata": {},
   "outputs": [
    {
     "name": "stdout",
     "output_type": "stream",
     "text": [
      "Variable   Type        Data/Info\n",
      "--------------------------------\n",
      "Calc       type        <class 'dss.Calc'>\n",
      "disp1      function    <function disp1 at 0x7f834ff23940>\n",
      "disp2      function    <function disp2 at 0x7f834ff23790>\n",
      "num        int         1234\n"
     ]
    }
   ],
   "source": [
    "%whos"
   ]
  },
  {
   "cell_type": "markdown",
   "metadata": {},
   "source": [
    "### 2. Package\n",
    "- 패키지 생성\n",
    "- 패키지 호출 \n",
    "- setup.py 패키지 설치 파일 만들기"
   ]
  },
  {
   "cell_type": "code",
   "execution_count": 106,
   "metadata": {},
   "outputs": [],
   "source": [
    "# 디렉토리 생성"
   ]
  },
  {
   "cell_type": "code",
   "execution_count": 25,
   "metadata": {},
   "outputs": [],
   "source": [
    "!mkdir -p school/dss"
   ]
  },
  {
   "cell_type": "code",
   "execution_count": 26,
   "metadata": {},
   "outputs": [],
   "source": [
    "!mkdir -p school/web"
   ]
  },
  {
   "cell_type": "code",
   "execution_count": 27,
   "metadata": {},
   "outputs": [
    {
     "name": "stdout",
     "output_type": "stream",
     "text": [
      "\u001b[01;34mschool\u001b[00m\r\n",
      "├── \u001b[01;34mdss\u001b[00m\r\n",
      "└── \u001b[01;34mweb\u001b[00m\r\n",
      "\r\n",
      "2 directories, 0 files\r\n"
     ]
    }
   ],
   "source": [
    "!tree school"
   ]
  },
  {
   "cell_type": "code",
   "execution_count": 5,
   "metadata": {},
   "outputs": [],
   "source": [
    "# 패키지 사용시 __init__.py 파일을 추가\n",
    "# python3.3 버전 이상에서는 필요 없음"
   ]
  },
  {
   "cell_type": "code",
   "execution_count": 28,
   "metadata": {},
   "outputs": [],
   "source": [
    "!touch school/dss/__init__.py\n",
    "!touch school/web/__init__.py"
   ]
  },
  {
   "cell_type": "code",
   "execution_count": 29,
   "metadata": {},
   "outputs": [
    {
     "name": "stdout",
     "output_type": "stream",
     "text": [
      "\u001b[01;34mschool\u001b[00m\r\n",
      "├── \u001b[01;34mdss\u001b[00m\r\n",
      "│   └── __init__.py\r\n",
      "└── \u001b[01;34mweb\u001b[00m\r\n",
      "    └── __init__.py\r\n",
      "\r\n",
      "2 directories, 2 files\r\n"
     ]
    }
   ],
   "source": [
    "!tree school"
   ]
  },
  {
   "cell_type": "code",
   "execution_count": 30,
   "metadata": {},
   "outputs": [
    {
     "name": "stdout",
     "output_type": "stream",
     "text": [
      "Writing school/dss/data1.py\n"
     ]
    }
   ],
   "source": [
    "%%writefile school/dss/data1.py\n",
    "\n",
    "def plus(*args):\n",
    "    print(\"data1\")\n",
    "    return sum(args)"
   ]
  },
  {
   "cell_type": "code",
   "execution_count": 31,
   "metadata": {},
   "outputs": [
    {
     "name": "stdout",
     "output_type": "stream",
     "text": [
      "Writing school/dss/data2.py\n"
     ]
    }
   ],
   "source": [
    "%%writefile school/dss/data2.py\n",
    "\n",
    "def plus(*args):\n",
    "    print(\"data2\")\n",
    "    return sum(args)"
   ]
  },
  {
   "cell_type": "code",
   "execution_count": 32,
   "metadata": {},
   "outputs": [
    {
     "name": "stdout",
     "output_type": "stream",
     "text": [
      "Writing school/web/url.py\n"
     ]
    }
   ],
   "source": [
    "%%writefile school/web/url.py\n",
    "\n",
    "def make(url):\n",
    "    return url if url[:7] == \"http://\" else \"http://\" + url"
   ]
  },
  {
   "cell_type": "code",
   "execution_count": 34,
   "metadata": {},
   "outputs": [
    {
     "name": "stdout",
     "output_type": "stream",
     "text": [
      "\u001b[01;34mschool\u001b[00m\r\n",
      "├── \u001b[01;34mdss\u001b[00m\r\n",
      "│   ├── __init__.py\r\n",
      "│   ├── data1.py\r\n",
      "│   └── data2.py\r\n",
      "└── \u001b[01;34mweb\u001b[00m\r\n",
      "    ├── __init__.py\r\n",
      "    └── url.py\r\n",
      "\r\n",
      "2 directories, 5 files\r\n"
     ]
    }
   ],
   "source": [
    "!tree school"
   ]
  },
  {
   "cell_type": "code",
   "execution_count": 3,
   "metadata": {},
   "outputs": [
    {
     "name": "stdout",
     "output_type": "stream",
     "text": [
      "Once deleted, variables cannot be recovered. Proceed (y/[n])? y\n"
     ]
    }
   ],
   "source": [
    "%reset"
   ]
  },
  {
   "cell_type": "code",
   "execution_count": 26,
   "metadata": {},
   "outputs": [],
   "source": [
    "import school.dss.data1"
   ]
  },
  {
   "cell_type": "code",
   "execution_count": 27,
   "metadata": {},
   "outputs": [
    {
     "name": "stdout",
     "output_type": "stream",
     "text": [
      "Variable   Type      Data/Info\n",
      "------------------------------\n",
      "school     module    <module 'school' (namespace)>\n"
     ]
    }
   ],
   "source": [
    "whos"
   ]
  },
  {
   "cell_type": "code",
   "execution_count": 28,
   "metadata": {},
   "outputs": [
    {
     "name": "stdout",
     "output_type": "stream",
     "text": [
      "data1\n"
     ]
    },
    {
     "data": {
      "text/plain": [
       "6"
      ]
     },
     "execution_count": 28,
     "metadata": {},
     "output_type": "execute_result"
    }
   ],
   "source": [
    "school.dss.data1.plus(1,2,3)"
   ]
  },
  {
   "cell_type": "code",
   "execution_count": 29,
   "metadata": {},
   "outputs": [],
   "source": [
    "import school.dss.data1 as dss"
   ]
  },
  {
   "cell_type": "code",
   "execution_count": 31,
   "metadata": {},
   "outputs": [
    {
     "name": "stdout",
     "output_type": "stream",
     "text": [
      "data1\n"
     ]
    },
    {
     "data": {
      "text/plain": [
       "9"
      ]
     },
     "execution_count": 31,
     "metadata": {},
     "output_type": "execute_result"
    }
   ],
   "source": [
    "dss.plus(3,6)"
   ]
  },
  {
   "cell_type": "code",
   "execution_count": 4,
   "metadata": {},
   "outputs": [
    {
     "name": "stdout",
     "output_type": "stream",
     "text": [
      "Overwriting school/web/url.py\n"
     ]
    }
   ],
   "source": [
    "%%writefile school/web/url.py\n",
    "\n",
    "def make(url):\n",
    "    return url if url[:7] == \"http://\" else \"http://\" + url"
   ]
  },
  {
   "cell_type": "code",
   "execution_count": 5,
   "metadata": {},
   "outputs": [],
   "source": [
    "# school.web: 디렉토리 (from 뒤에는 디렉토리와 모듈이 올 수 있다)\n",
    "# url : 모듈 (import 뒤에는 디렉토리는 올 수 없고, 모듈이나 함수, 번수가 와야한다.)\n",
    "\n",
    "from school.web import url"
   ]
  },
  {
   "cell_type": "code",
   "execution_count": 6,
   "metadata": {},
   "outputs": [
    {
     "data": {
      "text/plain": [
       "'http://google.com'"
      ]
     },
     "execution_count": 6,
     "metadata": {},
     "output_type": "execute_result"
    }
   ],
   "source": [
    "url.make(\"google.com\")"
   ]
  },
  {
   "cell_type": "code",
   "execution_count": 7,
   "metadata": {},
   "outputs": [
    {
     "data": {
      "text/plain": [
       "'http://daum.net'"
      ]
     },
     "execution_count": 7,
     "metadata": {},
     "output_type": "execute_result"
    }
   ],
   "source": [
    "url.make(\"http://daum.net\")"
   ]
  },
  {
   "cell_type": "code",
   "execution_count": 49,
   "metadata": {},
   "outputs": [],
   "source": [
    "# 패키지의 위치 : 특정 디렉토리에 있는 패키지는 어디에서나 import가 가능"
   ]
  },
  {
   "cell_type": "code",
   "execution_count": 50,
   "metadata": {},
   "outputs": [
    {
     "name": "stdout",
     "output_type": "stream",
     "text": [
      "/Users/jungryolee/Documents/dss0/programming\n",
      "/Users/jungryolee/opt/anaconda3/lib/python38.zip\n",
      "/Users/jungryolee/opt/anaconda3/lib/python3.8\n",
      "/Users/jungryolee/opt/anaconda3/lib/python3.8/lib-dynload\n",
      "\n",
      "/Users/jungryolee/opt/anaconda3/lib/python3.8/site-packages\n",
      "/Users/jungryolee/opt/anaconda3/lib/python3.8/site-packages/aeosa\n",
      "/Users/jungryolee/opt/anaconda3/lib/python3.8/site-packages/IPython/extensions\n",
      "/Users/jungryolee/.ipython\n"
     ]
    }
   ],
   "source": [
    "import sys\n",
    "\n",
    "for path in sys.path:\n",
    "    print(path)"
   ]
  },
  {
   "cell_type": "code",
   "execution_count": 53,
   "metadata": {},
   "outputs": [
    {
     "data": {
      "text/plain": [
       "212"
      ]
     },
     "execution_count": 53,
     "metadata": {},
     "output_type": "execute_result"
    }
   ],
   "source": [
    "packages = !ls /Users/jungryolee/opt/anaconda3/lib/python3.8 # 여기가 바로 모두 import 할 수 있는 특정 디렉토리 !!\n",
    "len(packages)"
   ]
  },
  {
   "cell_type": "code",
   "execution_count": 54,
   "metadata": {},
   "outputs": [
    {
     "data": {
      "text/plain": [
       "['xml', 'xmlrpc', 'zipapp.py', 'zipfile.py', 'zipimport.py']"
      ]
     },
     "execution_count": 54,
     "metadata": {},
     "output_type": "execute_result"
    }
   ],
   "source": [
    "packages[-5:]"
   ]
  },
  {
   "cell_type": "code",
   "execution_count": 9,
   "metadata": {},
   "outputs": [],
   "source": [
    "# setup.py 를 작성해서 패키지를 설치해서 사용\n",
    "# setuptools를 사용"
   ]
  },
  {
   "cell_type": "code",
   "execution_count": 35,
   "metadata": {},
   "outputs": [
    {
     "name": "stdout",
     "output_type": "stream",
     "text": [
      "\u001b[01;34mschool/\u001b[00m\r\n",
      "├── \u001b[01;34mdss\u001b[00m\r\n",
      "│   ├── __init__.py\r\n",
      "│   ├── data1.py\r\n",
      "│   └── data2.py\r\n",
      "└── \u001b[01;34mweb\u001b[00m\r\n",
      "    ├── __init__.py\r\n",
      "    └── url.py\r\n",
      "\r\n",
      "2 directories, 5 files\r\n"
     ]
    }
   ],
   "source": [
    "!tree school/"
   ]
  },
  {
   "cell_type": "code",
   "execution_count": 8,
   "metadata": {},
   "outputs": [
    {
     "name": "stdout",
     "output_type": "stream",
     "text": [
      "Overwriting school/dss/__init__.py\n"
     ]
    }
   ],
   "source": [
    "%%writefile school/dss/__init__.py\n",
    "\n",
    "__all__ = [\"data1\",\"data2\"]"
   ]
  },
  {
   "cell_type": "code",
   "execution_count": 36,
   "metadata": {},
   "outputs": [
    {
     "name": "stdout",
     "output_type": "stream",
     "text": [
      "Writing school/setup.py\n"
     ]
    }
   ],
   "source": [
    "%%writefile school/setup.py\n",
    "\n",
    "from setuptools import setup, find_packages #setuptools모듈에서 아래 두개의 함수 가져오기\n",
    "\n",
    "setup(\n",
    "    name = \"dss\",\n",
    "    packages=find_packages(),\n",
    "    include_oackage_data=True,\n",
    "    version=\"0.0.1\",\n",
    "    author=\"VickiLee\",\n",
    "    author_email=\"itsryo@gmai.com\",\n",
    "    zip_safe=False\n",
    ")\n",
    "\n"
   ]
  },
  {
   "cell_type": "code",
   "execution_count": 18,
   "metadata": {},
   "outputs": [],
   "source": [
    "!rm dss.py #dss 모듈 삭제"
   ]
  },
  {
   "cell_type": "code",
   "execution_count": 37,
   "metadata": {},
   "outputs": [
    {
     "name": "stdout",
     "output_type": "stream",
     "text": [
      "01_ jupyter_notebook.ipynb 08_module_package.ipynb\r\n",
      "02_basic_syntax.ipynb      09_try_except.ipynb\r\n",
      "03_condition_loop.ipynb    10_regex(full).ipynb\r\n",
      "04_function.ipynb          10_regex(수업).ipynb\r\n",
      "05_function_2.ipynb        \u001b[34m__pycache__\u001b[m\u001b[m\r\n",
      "06_Class_1.ipynb           \u001b[34mschool\u001b[m\u001b[m\r\n",
      "07_class_2.ipynb\r\n"
     ]
    }
   ],
   "source": [
    "!ls"
   ]
  },
  {
   "cell_type": "code",
   "execution_count": 38,
   "metadata": {},
   "outputs": [
    {
     "name": "stdout",
     "output_type": "stream",
     "text": [
      "\u001b[01;34mschool/\u001b[00m\r\n",
      "├── \u001b[01;34mdss\u001b[00m\r\n",
      "│   ├── __init__.py\r\n",
      "│   ├── data1.py\r\n",
      "│   └── data2.py\r\n",
      "├── setup.py\r\n",
      "└── \u001b[01;34mweb\u001b[00m\r\n",
      "    ├── __init__.py\r\n",
      "    └── url.py\r\n",
      "\r\n",
      "2 directories, 6 files\r\n"
     ]
    }
   ],
   "source": [
    "!tree school/"
   ]
  },
  {
   "cell_type": "code",
   "execution_count": null,
   "metadata": {},
   "outputs": [],
   "source": [
    "#패키지 설치 확인"
   ]
  },
  {
   "cell_type": "code",
   "execution_count": 39,
   "metadata": {},
   "outputs": [
    {
     "name": "stdout",
     "output_type": "stream",
     "text": [
      "Package                            Version\r\n",
      "---------------------------------- ----------------------\r\n",
      "alabaster                          0.7.12\r\n",
      "anaconda-client                    1.7.2\r\n",
      "anaconda-navigator                 1.9.12\r\n",
      "anaconda-project                   0.8.3\r\n",
      "applaunchservices                  0.2.1\r\n",
      "appnope                            0.1.0\r\n",
      "appscript                          1.1.1\r\n",
      "argh                               0.26.2\r\n",
      "asn1crypto                         1.3.0\r\n",
      "astroid                            2.4.2\r\n",
      "astropy                            4.0.1.post1\r\n",
      "atomicwrites                       1.4.0\r\n",
      "attrs                              19.3.0\r\n",
      "autopep8                           1.5.3\r\n",
      "Babel                              2.8.0\r\n",
      "backcall                           0.2.0\r\n",
      "backports.functools-lru-cache      1.6.1\r\n",
      "backports.shutil-get-terminal-size 1.0.0\r\n",
      "backports.tempfile                 1.0\r\n",
      "backports.weakref                  1.0.post1\r\n",
      "beautifulsoup4                     4.9.1\r\n",
      "bitarray                           1.4.0\r\n",
      "bkcharts                           0.2\r\n",
      "bleach                             3.1.5\r\n",
      "bokeh                              2.1.1\r\n",
      "boto                               2.49.0\r\n",
      "Bottleneck                         1.3.2\r\n",
      "brotlipy                           0.7.0\r\n",
      "certifi                            2020.6.20\r\n",
      "cffi                               1.14.0\r\n",
      "chardet                            3.0.4\r\n",
      "click                              7.1.2\r\n",
      "cloudpickle                        1.5.0\r\n",
      "clyent                             1.2.2\r\n",
      "colorama                           0.4.3\r\n",
      "conda                              4.8.5\r\n",
      "conda-build                        3.18.11\r\n",
      "conda-package-handling             1.7.0+0.g7c4a471.dirty\r\n",
      "conda-verify                       3.4.2\r\n",
      "contextlib2                        0.6.0.post1\r\n",
      "cryptography                       2.9.2\r\n",
      "cycler                             0.10.0\r\n",
      "Cython                             0.29.21\r\n",
      "cytoolz                            0.10.1\r\n",
      "dask                               2.20.0\r\n",
      "decorator                          4.4.2\r\n",
      "defusedxml                         0.6.0\r\n",
      "diff-match-patch                   20200713\r\n",
      "distributed                        2.20.0\r\n",
      "docutils                           0.16\r\n",
      "entrypoints                        0.3\r\n",
      "et-xmlfile                         1.0.1\r\n",
      "fastcache                          1.1.0\r\n",
      "filelock                           3.0.12\r\n",
      "flake8                             3.8.3\r\n",
      "Flask                              1.1.2\r\n",
      "fsspec                             0.7.4\r\n",
      "future                             0.18.2\r\n",
      "gevent                             20.6.2\r\n",
      "glob2                              0.7\r\n",
      "gmpy2                              2.0.8\r\n",
      "greenlet                           0.4.16\r\n",
      "h5py                               2.10.0\r\n",
      "HeapDict                           1.0.1\r\n",
      "html5lib                           1.1\r\n",
      "idna                               2.10\r\n",
      "imageio                            2.9.0\r\n",
      "imagesize                          1.2.0\r\n",
      "importlib-metadata                 1.7.0\r\n",
      "intervaltree                       3.0.2\r\n",
      "ipykernel                          5.3.2\r\n",
      "ipython                            7.16.1\r\n",
      "ipython-genutils                   0.2.0\r\n",
      "ipywidgets                         7.5.1\r\n",
      "isort                              4.3.21\r\n",
      "itsdangerous                       1.1.0\r\n",
      "jdcal                              1.4.1\r\n",
      "jedi                               0.17.1\r\n",
      "Jinja2                             2.11.2\r\n",
      "joblib                             0.16.0\r\n",
      "json5                              0.9.5\r\n",
      "jsonschema                         3.2.0\r\n",
      "jupyter                            1.0.0\r\n",
      "jupyter-client                     6.1.6\r\n",
      "jupyter-console                    6.1.0\r\n",
      "jupyter-contrib-core               0.3.3\r\n",
      "jupyter-contrib-nbextensions       0.5.1\r\n",
      "jupyter-core                       4.6.3\r\n",
      "jupyter-highlight-selected-word    0.2.0\r\n",
      "jupyter-latex-envs                 1.4.4\r\n",
      "jupyter-nbextensions-configurator  0.4.1\r\n",
      "jupyterlab                         2.1.5\r\n",
      "jupyterlab-server                  1.2.0\r\n",
      "keyring                            21.2.1\r\n",
      "kiwisolver                         1.2.0\r\n",
      "lazy-object-proxy                  1.4.3\r\n",
      "libarchive-c                       2.9\r\n",
      "llvmlite                           0.33.0+1.g022ab0f\r\n",
      "locket                             0.2.0\r\n",
      "lxml                               4.5.2\r\n",
      "MarkupSafe                         1.1.1\r\n",
      "matplotlib                         3.2.2\r\n",
      "mccabe                             0.6.1\r\n",
      "missingno                          0.4.2\r\n",
      "mistune                            0.8.4\r\n",
      "mkl-fft                            1.1.0\r\n",
      "mkl-random                         1.1.1\r\n",
      "mkl-service                        2.3.0\r\n",
      "mock                               4.0.2\r\n",
      "more-itertools                     8.4.0\r\n",
      "mpmath                             1.1.0\r\n",
      "msgpack                            1.0.0\r\n",
      "multipledispatch                   0.6.0\r\n",
      "navigator-updater                  0.2.1\r\n",
      "nbconvert                          5.6.1\r\n",
      "nbformat                           5.0.7\r\n",
      "networkx                           2.4\r\n",
      "nltk                               3.5\r\n",
      "nose                               1.3.7\r\n",
      "notebook                           6.0.3\r\n",
      "numba                              0.50.1\r\n",
      "numexpr                            2.7.1\r\n",
      "numpy                              1.18.5\r\n",
      "numpydoc                           1.1.0\r\n",
      "olefile                            0.46\r\n",
      "openpyxl                           3.0.4\r\n",
      "packaging                          20.4\r\n",
      "pandas                             1.0.5\r\n",
      "pandocfilters                      1.4.2\r\n",
      "parso                              0.7.0\r\n",
      "partd                              1.1.0\r\n",
      "path                               13.1.0\r\n",
      "pathlib2                           2.3.5\r\n",
      "pathtools                          0.1.2\r\n",
      "patsy                              0.5.1\r\n",
      "pep8                               1.7.1\r\n",
      "pexpect                            4.8.0\r\n",
      "pickleshare                        0.7.5\r\n",
      "Pillow                             7.2.0\r\n",
      "pip                                20.1.1\r\n",
      "pkginfo                            1.5.0.1\r\n",
      "pluggy                             0.13.1\r\n",
      "ply                                3.11\r\n",
      "prometheus-client                  0.8.0\r\n",
      "prompt-toolkit                     3.0.5\r\n",
      "psutil                             5.7.0\r\n",
      "ptyprocess                         0.6.0\r\n",
      "py                                 1.9.0\r\n",
      "pycodestyle                        2.6.0\r\n",
      "pycosat                            0.6.3\r\n",
      "pycparser                          2.20\r\n",
      "pycurl                             7.43.0.5\r\n",
      "pydocstyle                         5.0.2\r\n",
      "pyflakes                           2.2.0\r\n",
      "Pygments                           2.6.1\r\n",
      "pylint                             2.5.3\r\n",
      "pyodbc                             4.0.0-unsupported\r\n",
      "pyOpenSSL                          19.1.0\r\n",
      "pyparsing                          2.4.7\r\n",
      "pyrsistent                         0.16.0\r\n",
      "PySocks                            1.7.1\r\n",
      "pytest                             5.4.3\r\n",
      "python-dateutil                    2.8.1\r\n",
      "python-jsonrpc-server              0.3.4\r\n",
      "python-language-server             0.34.1\r\n",
      "pytz                               2020.1\r\n",
      "PyWavelets                         1.1.1\r\n",
      "PyYAML                             5.3.1\r\n",
      "pyzmq                              19.0.1\r\n",
      "QDarkStyle                         2.8.1\r\n",
      "QtAwesome                          0.7.2\r\n",
      "qtconsole                          4.7.5\r\n",
      "QtPy                               1.9.0\r\n",
      "regex                              2020.6.8\r\n",
      "requests                           2.24.0\r\n",
      "rope                               0.17.0\r\n",
      "Rtree                              0.9.4\r\n",
      "ruamel-yaml                        0.15.87\r\n",
      "scikit-image                       0.16.2\r\n",
      "scikit-learn                       0.23.1\r\n",
      "scipy                              1.5.0\r\n",
      "seaborn                            0.10.1\r\n",
      "Send2Trash                         1.5.0\r\n",
      "setuptools                         49.2.0.post20200714\r\n",
      "simplegeneric                      0.8.1\r\n",
      "singledispatch                     3.4.0.3\r\n",
      "six                                1.15.0\r\n",
      "snowballstemmer                    2.0.0\r\n",
      "sortedcollections                  1.2.1\r\n",
      "sortedcontainers                   2.2.2\r\n",
      "soupsieve                          2.0.1\r\n",
      "Sphinx                             3.1.2\r\n",
      "sphinxcontrib-applehelp            1.0.2\r\n",
      "sphinxcontrib-devhelp              1.0.2\r\n",
      "sphinxcontrib-htmlhelp             1.0.3\r\n",
      "sphinxcontrib-jsmath               1.0.1\r\n",
      "sphinxcontrib-qthelp               1.0.3\r\n",
      "sphinxcontrib-serializinghtml      1.1.4\r\n",
      "sphinxcontrib-websupport           1.2.3\r\n",
      "spyder                             4.1.4\r\n",
      "spyder-kernels                     1.9.2\r\n",
      "SQLAlchemy                         1.3.18\r\n",
      "statsmodels                        0.11.1\r\n",
      "sympy                              1.6.1\r\n",
      "tables                             3.6.1\r\n",
      "tblib                              1.6.0\r\n",
      "terminado                          0.8.3\r\n",
      "testpath                           0.4.4\r\n",
      "threadpoolctl                      2.1.0\r\n",
      "toml                               0.10.1\r\n",
      "toolz                              0.10.0\r\n",
      "tornado                            6.0.4\r\n",
      "tqdm                               4.47.0\r\n",
      "traitlets                          4.3.3\r\n",
      "typing-extensions                  3.7.4.2\r\n",
      "ujson                              1.35\r\n",
      "unicodecsv                         0.14.1\r\n",
      "urllib3                            1.25.9\r\n",
      "watchdog                           0.10.3\r\n",
      "wcwidth                            0.2.5\r\n",
      "webencodings                       0.5.1\r\n",
      "Werkzeug                           1.0.1\r\n",
      "wheel                              0.34.2\r\n",
      "widgetsnbextension                 3.5.1\r\n",
      "wrapt                              1.11.2\r\n",
      "wurlitzer                          2.0.1\r\n",
      "xlrd                               1.2.0\r\n",
      "XlsxWriter                         1.2.9\r\n",
      "xlwings                            0.19.5\r\n",
      "xlwt                               1.3.0\r\n",
      "xmltodict                          0.12.0\r\n",
      "yapf                               0.30.0\r\n",
      "zict                               2.0.0\r\n",
      "zipp                               3.1.0\r\n",
      "zope.event                         4.4\r\n",
      "zope.interface                     4.7.1\r\n"
     ]
    }
   ],
   "source": [
    "!pip list"
   ]
  },
  {
   "cell_type": "code",
   "execution_count": 5,
   "metadata": {},
   "outputs": [],
   "source": [
    "# 패키지 설치\n",
    "# 새로운 터널 열어서 school $ python setup.py develop\n",
    "# 커널 리스타트\n",
    "# develop: 개발자모드, 코드를 수정하면 설치된 패키지도 같이 수정\n",
    "# build: 일반모드, 코드를 수정하면 패키지를 재설치해야 수정됨 "
   ]
  },
  {
   "cell_type": "code",
   "execution_count": 4,
   "metadata": {},
   "outputs": [
    {
     "name": "stdout",
     "output_type": "stream",
     "text": [
      "numpy                              1.18.5\r\n",
      "numpydoc                           1.1.0\r\n"
     ]
    }
   ],
   "source": [
    "!pip list | grep numpy"
   ]
  },
  {
   "cell_type": "code",
   "execution_count": 40,
   "metadata": {},
   "outputs": [
    {
     "ename": "ModuleNotFoundError",
     "evalue": "No module named 'dss'",
     "output_type": "error",
     "traceback": [
      "\u001b[0;31m---------------------------------------------------------------------------\u001b[0m",
      "\u001b[0;31mModuleNotFoundError\u001b[0m                       Traceback (most recent call last)",
      "\u001b[0;32m<ipython-input-40-03d38e201243>\u001b[0m in \u001b[0;36m<module>\u001b[0;34m\u001b[0m\n\u001b[0;32m----> 1\u001b[0;31m \u001b[0;32mfrom\u001b[0m \u001b[0mdss\u001b[0m \u001b[0;32mimport\u001b[0m \u001b[0;34m*\u001b[0m\u001b[0;34m\u001b[0m\u001b[0;34m\u001b[0m\u001b[0m\n\u001b[0m",
      "\u001b[0;31mModuleNotFoundError\u001b[0m: No module named 'dss'"
     ]
    }
   ],
   "source": [
    "from dss import *"
   ]
  },
  {
   "cell_type": "code",
   "execution_count": 2,
   "metadata": {},
   "outputs": [
    {
     "name": "stdout",
     "output_type": "stream",
     "text": [
      "Variable   Type      Data/Info\n",
      "------------------------------\n",
      "data1      module    <module 'dss.data1' from <...>ing/school/dss/data1.py'>\n",
      "data2      module    <module 'dss.data2' from <...>ing/school/dss/data2.py'>\n"
     ]
    }
   ],
   "source": [
    "%whos"
   ]
  },
  {
   "cell_type": "code",
   "execution_count": 3,
   "metadata": {},
   "outputs": [
    {
     "name": "stdout",
     "output_type": "stream",
     "text": [
      "data1\n"
     ]
    },
    {
     "data": {
      "text/plain": [
       "3"
      ]
     },
     "execution_count": 3,
     "metadata": {},
     "output_type": "execute_result"
    }
   ],
   "source": [
    "data1.plus(1,2)"
   ]
  },
  {
   "cell_type": "code",
   "execution_count": 4,
   "metadata": {},
   "outputs": [
    {
     "name": "stdout",
     "output_type": "stream",
     "text": [
      "\u001b[01;34mschool\u001b[00m\r\n",
      "├── \u001b[01;34mdss\u001b[00m\r\n",
      "│   ├── __init__.py\r\n",
      "│   ├── \u001b[01;34m__pycache__\u001b[00m\r\n",
      "│   │   ├── __init__.cpython-38.pyc\r\n",
      "│   │   ├── data1.cpython-38.pyc\r\n",
      "│   │   └── data2.cpython-38.pyc\r\n",
      "│   ├── data1.py\r\n",
      "│   └── data2.py\r\n",
      "├── \u001b[01;34mdss.egg-info\u001b[00m\r\n",
      "│   ├── PKG-INFO\r\n",
      "│   ├── SOURCES.txt\r\n",
      "│   ├── dependency_links.txt\r\n",
      "│   ├── not-zip-safe\r\n",
      "│   └── top_level.txt\r\n",
      "├── setup.py\r\n",
      "└── \u001b[01;34mweb\u001b[00m\r\n",
      "    ├── __init__.py\r\n",
      "    ├── \u001b[01;34m__pycache__\u001b[00m\r\n",
      "    │   ├── __init__.cpython-38.pyc\r\n",
      "    │   └── url.cpython-38.pyc\r\n",
      "    └── url.py\r\n",
      "\r\n",
      "5 directories, 16 files\r\n"
     ]
    }
   ],
   "source": [
    "!tree school"
   ]
  },
  {
   "cell_type": "code",
   "execution_count": 6,
   "metadata": {},
   "outputs": [],
   "source": [
    "# uninstall\n",
    "# 터미널에 pip uninstall dss"
   ]
  },
  {
   "cell_type": "code",
   "execution_count": 7,
   "metadata": {},
   "outputs": [],
   "source": [
    "!pip list | grep dss"
   ]
  },
  {
   "cell_type": "code",
   "execution_count": null,
   "metadata": {},
   "outputs": [],
   "source": []
  },
  {
   "cell_type": "code",
   "execution_count": null,
   "metadata": {},
   "outputs": [],
   "source": []
  },
  {
   "cell_type": "code",
   "execution_count": null,
   "metadata": {},
   "outputs": [],
   "source": []
  },
  {
   "cell_type": "code",
   "execution_count": null,
   "metadata": {},
   "outputs": [],
   "source": []
  },
  {
   "cell_type": "code",
   "execution_count": null,
   "metadata": {},
   "outputs": [],
   "source": []
  },
  {
   "cell_type": "code",
   "execution_count": null,
   "metadata": {},
   "outputs": [],
   "source": []
  }
 ],
 "metadata": {
  "kernelspec": {
   "display_name": "Python 3",
   "language": "python",
   "name": "python3"
  },
  "language_info": {
   "codemirror_mode": {
    "name": "ipython",
    "version": 3
   },
   "file_extension": ".py",
   "mimetype": "text/x-python",
   "name": "python",
   "nbconvert_exporter": "python",
   "pygments_lexer": "ipython3",
   "version": "3.8.3"
  }
 },
 "nbformat": 4,
 "nbformat_minor": 4
}
